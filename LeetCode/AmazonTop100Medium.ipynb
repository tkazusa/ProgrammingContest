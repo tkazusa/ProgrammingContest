{
 "cells": [
  {
   "cell_type": "markdown",
   "id": "dirty-receipt",
   "metadata": {},
   "source": [
    "# Partition Labels\n",
    "- https://leetcode.com/problems/partition-labels/\n",
    "\n",
    "A string S of lowercase English letters is given. We want to partition this string into as many parts as possible so that each letter appears in at most one part, and return a list of integers representing the size of these parts.\n",
    "\n",
    "### Example 1:\n",
    "```\n",
    "Input: S = \"ababcbacadefegdehijhklij\"\n",
    "Output: [9,7,8]\n",
    "Explanation:\n",
    "The partition is \"ababcbaca\", \"defegde\", \"hijhklij\".\n",
    "This is a partition so that each letter appears in at most one part.\n",
    "A partition like \"ababcbacadefegde\", \"hijhklij\" is incorrect, because it splits S into less parts.\n",
    "```"
   ]
  },
  {
   "cell_type": "code",
   "execution_count": null,
   "id": "regular-clearing",
   "metadata": {},
   "outputs": [],
   "source": [
    "def partitionLabels(self, S):\n",
    "    \"\"\"\n",
    "    :type S: str\n",
    "    :rtype: List[int]\n",
    "    \"\"\"\n",
    "    \n",
    "        \n",
    "\n",
    "S = \"ababcbacadefegdehijhklij\""
   ]
  }
 ],
 "metadata": {
  "kernelspec": {
   "display_name": "conda_python3",
   "language": "python",
   "name": "conda_python3"
  },
  "language_info": {
   "codemirror_mode": {
    "name": "ipython",
    "version": 3
   },
   "file_extension": ".py",
   "mimetype": "text/x-python",
   "name": "python",
   "nbconvert_exporter": "python",
   "pygments_lexer": "ipython3",
   "version": "3.6.10"
  }
 },
 "nbformat": 4,
 "nbformat_minor": 5
}
