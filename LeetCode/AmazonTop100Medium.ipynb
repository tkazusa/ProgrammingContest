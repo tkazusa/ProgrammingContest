{
 "cells": [
  {
   "cell_type": "markdown",
   "id": "loose-deposit",
   "metadata": {},
   "source": [
    "# Partition Labels\n",
    "- https://leetcode.com/problems/partition-labels/\n",
    "\n",
    "A string S of lowercase English letters is given. We want to partition this string into as many parts as possible so that each letter appears in at most one part, and return a list of integers representing the size of these parts.\n",
    "\n",
    "### Example 1:\n",
    "```\n",
    "Input: S = \"ababcbacadefegdehijhklij\"\n",
    "Output: [9,7,8]\n",
    "Explanation:\n",
    "The partition is \"ababcbaca\", \"defegde\", \"hijhklij\".\n",
    "This is a partition so that each letter appears in at most one part.\n",
    "A partition like \"ababcbacadefegde\", \"hijhklij\" is incorrect, because it splits S into less parts.\n",
    "```"
   ]
  },
  {
   "cell_type": "code",
   "execution_count": 7,
   "id": "caroline-peace",
   "metadata": {},
   "outputs": [],
   "source": [
    "def partitionLabels(S):\n",
    "    \"\"\"\n",
    "    :type S: str\n",
    "    :rtype: List[int]\n",
    "    \"\"\"\n",
    "    result = []\n",
    "    prev_p = 0\n",
    "    \n",
    "    for p in range(1,len(S)):\n",
    "        \n",
    "        flg = True\n",
    "        for sub_ch in S[:p]:\n",
    "            if sub_ch in S[p:]:\n",
    "                flg = False\n",
    "                break\n",
    "        if flg:\n",
    "            result.append(p-prev_p)\n",
    "            prev_p = p\n",
    "    \n",
    "    result.append(len(S)-prev_p)\n",
    "    \n",
    "    return result\n",
    "    \n",
    "\n",
    "S = \"ababcbacadefegdehijhklij\"\n",
    "print(partitionLabels(S))"
   ]
  },
  {
   "cell_type": "code",
   "execution_count": 30,
   "id": "coordinate-receiver",
   "metadata": {},
   "outputs": [
    {
     "name": "stdout",
     "output_type": "stream",
     "text": [
      "[9, 7, 8]\n"
     ]
    }
   ],
   "source": [
    "def partitionLabels(S):\n",
    "    \"\"\"\n",
    "    :type S: str\n",
    "    :rtype: List[int]\n",
    "    \"\"\"\n",
    "\n",
    "    for p in range(1,len(S)):\n",
    "        flg = True\n",
    "        for sub_ch in S[:p]:\n",
    "            if sub_ch in S[p:]:\n",
    "                flg = False\n",
    "                break\n",
    "        if flg:\n",
    "            return [p] + partitionLabels(S[p:])\n",
    "    \n",
    "    return [len(S)]\n",
    "\n",
    "S = \"ababcbacadefegdehijhklij\"\n",
    "print(partitionLabels(S))"
   ]
  },
  {
   "cell_type": "markdown",
   "id": "distant-advantage",
   "metadata": {},
   "source": [
    "Figure out the rightmost index first and use it to denote the start of the next section.\n",
    "\n",
    "Reset the left pointer at the start of each new section.\n",
    "\n",
    "Store the difference of right and left pointers + 1 as in the result for each section."
   ]
  },
  {
   "cell_type": "code",
   "execution_count": 31,
   "id": "terminal-arbor",
   "metadata": {},
   "outputs": [
    {
     "name": "stdout",
     "output_type": "stream",
     "text": [
      "[9, 7, 8]\n"
     ]
    }
   ],
   "source": [
    "def partition_labels(S):\n",
    "\n",
    "\trightmost = {c:i for i, c in enumerate(S)}\n",
    "\tleft, right = 0, 0\n",
    "\n",
    "\tresult = []\n",
    "\tfor i, letter in enumerate(S):\n",
    "\n",
    "\t\tright = max(right,rightmost[letter])\n",
    "\t\n",
    "\t\tif i == right:\n",
    "\t\t\tresult += [right-left + 1]\n",
    "\t\t\tleft = i+1\n",
    "\n",
    "\treturn result\n",
    "\n",
    "S = \"ababcbacadefegdehijhklij\"\n",
    "print(partitionLabels(S))"
   ]
  },
  {
   "cell_type": "markdown",
   "id": "latin-badge",
   "metadata": {},
   "source": [
    "## Minimum Cost to Connect Sticks\n",
    "- https://leetcode.com/problems/minimum-cost-to-connect-sticks/\n",
    "\n"
   ]
  },
  {
   "cell_type": "code",
   "execution_count": 1,
   "id": "mobile-ghana",
   "metadata": {},
   "outputs": [
    {
     "name": "stdout",
     "output_type": "stream",
     "text": [
      "30\n"
     ]
    }
   ],
   "source": [
    "def connectSticks(sticks):\n",
    "    \"\"\"\n",
    "    :type sticks: List[int]\n",
    "    :rtype: int\n",
    "    \"\"\"\n",
    "    \n",
    "    sticks.sort()\n",
    "    if len(sticks) == 1:\n",
    "        return 0\n",
    "    \n",
    "    if len(sticks) == 2:\n",
    "        return sticks[0] + sticks[1] + connectSticks([sticks[0]+sticks[1]])\n",
    "\n",
    "    if len(sticks) >= 3:\n",
    "        return sticks[0] + sticks[1] + connectSticks([sticks[0]+sticks[1]] + sticks[2:])\n",
    "    \n",
    "      \n",
    "sticks = [1,8,3,5]\n",
    "print(connectSticks(sticks))"
   ]
  },
  {
   "cell_type": "code",
   "execution_count": 38,
   "id": "olympic-local",
   "metadata": {},
   "outputs": [
    {
     "data": {
      "text/plain": [
       "4"
      ]
     },
     "execution_count": 38,
     "metadata": {},
     "output_type": "execute_result"
    }
   ],
   "source": [
    "import heapq \n",
    "\n",
    "def connectSticks(sticks: List[int]) -> int:\n",
    "    heapq.heapify(sticks)\n",
    "    cost = 0\n",
    "    while len(sticks) >= 2:\n",
    "        a = heapq.heappop(sticks)\n",
    "        b = heapq.heappop(sticks)\n",
    "        cost += a + b\n",
    "        heapq.heappush(sticks, a + b)\n",
    "    return cost\n",
    "\n",
    "sticks = [1,8,3,5]\n",
    "print(connectSticks(sticks))"
   ]
  },
  {
   "cell_type": "markdown",
   "id": "constitutional-relationship",
   "metadata": {},
   "source": [
    "## K Closest Points to Origin\n",
    "- https://leetcode.com/problems/k-closest-points-to-origin/"
   ]
  },
  {
   "cell_type": "code",
   "execution_count": 16,
   "id": "square-decline",
   "metadata": {},
   "outputs": [
    {
     "name": "stdout",
     "output_type": "stream",
     "text": [
      "[[1, 1], [2, 2], [2, 2], [2, 2]]\n"
     ]
    }
   ],
   "source": [
    "def kClosest(points, k):\n",
    "    \"\"\"\n",
    "    :type points: List[List[int]]\n",
    "    :type k: int\n",
    "    :rtype: List[List[int]]\n",
    "    \"\"\"\n",
    "    # 各要素のリストのさらに2つ目の要素でソートしたい\n",
    "    sorted_points = sorted(points, key=lambda x:x[0]**2+x[1]**2)\n",
    "    outputs = sorted_points[0:k]\n",
    "    \n",
    "    return outputs\n",
    "    \n",
    "\n",
    "points = [[2,2],[2,2],[2,2],[2,2],[2,2],[2,2],[1,1]]\n",
    "print(kClosest(points, 4))"
   ]
  },
  {
   "cell_type": "code",
   "execution_count": 15,
   "id": "about-scholarship",
   "metadata": {},
   "outputs": [
    {
     "data": {
      "text/plain": [
       "11"
      ]
     },
     "execution_count": 15,
     "metadata": {},
     "output_type": "execute_result"
    }
   ],
   "source": [
    "import heapq\n",
    "class Solution(object):\n",
    "    def kClosest(self, points, k):\n",
    "        \"\"\"\n",
    "        :type points: List[List[int]]\n",
    "        :type k: int\n",
    "        :rtype: List[List[int]]\n",
    "        \"\"\"\n",
    "        return heapq.nsmallest(k, points, lambda (x, y): x * x + y * y)"
   ]
  },
  {
   "cell_type": "markdown",
   "id": "configured-insider",
   "metadata": {},
   "source": [
    "## Product of Array Except Self\n",
    "- https://leetcode.com/problems/product-of-array-except-self/"
   ]
  },
  {
   "cell_type": "code",
   "execution_count": null,
   "id": "correct-neutral",
   "metadata": {},
   "outputs": [],
   "source": [
    "  def productExceptSelf(nums):\n",
    "        p = 1\n",
    "        n = len(nums)\n",
    "        output = []\n",
    "        for i in range(0,n):\n",
    "            output.append(p)\n",
    "            p = p * nums[i]\n",
    "        p = 1\n",
    "        for i in range(n-1,-1,-1):\n",
    "            output[i] = output[i] * p\n",
    "            p = p * nums[i]\n",
    "        return output"
   ]
  },
  {
   "cell_type": "markdown",
   "id": "passing-seventh",
   "metadata": {},
   "source": [
    "## Number of Provinces\n",
    "- https://leetcode.com/problems/number-of-provinces/"
   ]
  },
  {
   "cell_type": "code",
   "execution_count": 82,
   "id": "mounted-complexity",
   "metadata": {},
   "outputs": [
    {
     "name": "stdout",
     "output_type": "stream",
     "text": [
      "2\n"
     ]
    }
   ],
   "source": [
    "from collections import deque\n",
    "\n",
    "\n",
    "def findCircleNum(isConnected):\n",
    "    visit = [0] * len(isConnected)\n",
    "    count = 0\n",
    "    \n",
    "    while visit != [1] * len(isConnected):\n",
    "        \n",
    "        \n",
    "        stack = deque()\n",
    "        \n",
    "        # visit していないノードを一つ探す\n",
    "        for i in range(len(isConnected)):\n",
    "            if visit[i] == 0:\n",
    "                stack.append(i)\n",
    "                break\n",
    "                \n",
    "        # 探したノードを出発点に dfs して、到達できるノードを探す\n",
    "        while stack != deque():\n",
    "            j = stack.pop()\n",
    "            adj = isConnected[j]\n",
    "\n",
    "            for k in range(len(adj)):\n",
    "                if adj[k] == 1 and visit[k] == 0:\n",
    "                    stack.append(k)\n",
    "                    visit[k] = 1\n",
    "        # stack が empty ならば while から抜けて、再度、新しい出発点を探す\n",
    "        # 探しきったらカウントを増やす\n",
    "        count += 1\n",
    "\n",
    "    return count\n",
    "\n",
    "isConnected = [[1,1,0],[1,1,0],[0,0,1]]\n",
    "\n",
    "print(findCircleNum(isConnected))"
   ]
  },
  {
   "cell_type": "markdown",
   "id": "accepted-customer",
   "metadata": {},
   "source": [
    "##  Connecting Cities With Minimum Cost\n",
    "- https://leetcode.com/problems/connecting-cities-with-minimum-cost/"
   ]
  },
  {
   "cell_type": "code",
   "execution_count": 90,
   "id": "complimentary-wiring",
   "metadata": {},
   "outputs": [
    {
     "name": "stdout",
     "output_type": "stream",
     "text": [
      "defaultdict(<class 'list'>, {1: [(5, 2), (6, 3)], 2: [(5, 1), (1, 3)], 3: [(6, 1), (1, 2)]})\n",
      "pop 0 1\n",
      "1\n",
      "queue に行けるnodeを追加 [(5, 2), (6, 3)]\n",
      "pop 5 2\n",
      "2\n",
      "queue に行けるnodeを追加 [(1, 3), (6, 3), (5, 1)]\n",
      "pop 1 3\n",
      "3\n",
      "queue に行けるnodeを追加 [(1, 2), (5, 1), (6, 1), (6, 3)]\n",
      "6\n"
     ]
    }
   ],
   "source": [
    "from typing import List\n",
    "import collections\n",
    "import heapq\n",
    "\n",
    "def minimumCost(N: int, connections: List[List[int]]) -> int:\n",
    "    '''\n",
    "    Prim's Algorithm:\n",
    "    1) Initialize a tree with a single node, chosen\n",
    "    arbitrarily from the graph.\n",
    "    2) Grow the tree by one edge: of the edges that\n",
    "    connect the tree to vertices not yet in the tree,\n",
    "    find the minimum-weight edge, and transfer it to the tree.\n",
    "    3) Repeat step 2 (until all vertices are in the tree).\n",
    "    '''\n",
    "    # city1 <-> city2 may have multiple different cost connections,\n",
    "    # so use a list of tuples. Nested dict will break algorithm.\n",
    "    # ここの持ち方は、与えられた問題による\n",
    "    G = collections.defaultdict(list)\n",
    "    for node1, node2, cost in connections:\n",
    "        # 優先度キューに入れるために (cost, node) の順\n",
    "        G[node1].append((cost, node2))\n",
    "        G[node2].append((cost, node1))\n",
    "    \n",
    "    print(G)\n",
    "\n",
    "    # queue = [(cost, node)] # heappop するときは、cost を見ている。\n",
    "    # コストが小さい=優先度が高い、優先度キュー\n",
    "    queue = [(0, 1)]  # [1] Arbitrary starting point N costs 0.\n",
    "    visited = set()\n",
    "    total = 0\n",
    "    while queue and len(visited) < N: # [3] Exit if all cities are visited.\n",
    "        # cost is always least cost connection in queue.\n",
    "        cost, city = heapq.heappop(queue)\n",
    "        print(\"pop\", cost, city)\n",
    "        if city not in visited:\n",
    "            visited.add(city)\n",
    "            total += cost # [2] Grow tree by one edge.\n",
    "            for edge_cost, next_city in G[city]:\n",
    "\n",
    "                heapq.heappush(queue, (edge_cost, next_city))\n",
    "            print(city)\n",
    "            print(\"queue に行けるnodeを追加\", queue)\n",
    "    return total if len(visited) == N else -1\n",
    "\n",
    "N = 3\n",
    "connections = [[1,2,5],[1,3,6],[2,3,1]]\n",
    "print(minimumCost(N, connections))"
   ]
  },
  {
   "cell_type": "code",
   "execution_count": 95,
   "id": "biological-orange",
   "metadata": {},
   "outputs": [
    {
     "name": "stdout",
     "output_type": "stream",
     "text": [
      "6\n"
     ]
    }
   ],
   "source": [
    "def minimumCost(N: int, connections: List[List[int]]) -> int:\n",
    "    '''\n",
    "    Kruskal's Algorithm:\n",
    "    1) Create a forest F (a set of trees), where each vertex in \n",
    "    the graph is a separate tree.\n",
    "    2) Create a set S containing all the edges in the graph.\n",
    "    3) While S is nonempty and F is not yet spanning (fully connected):\n",
    "        3A) Remove an edge with minimum weight from S\n",
    "        3B) If the removed edge connects two different trees then \n",
    "        add it to the forest F, combining two trees into a single tree.\n",
    "        \n",
    "    time complexity: sort connections by cost(O(ElogV)), union process (O(Eα(V))\n",
    "    '''\n",
    "    def find(node):\n",
    "        \"\"\"自分の親を探す\"\"\"\n",
    "        # Recursively re-set city's parent to its parent's parent.\n",
    "        # Build the bush: ideally each tree/set is of height 1.\n",
    "        # 自分が親でなかったら再帰\n",
    "        if parent[node] != node:\n",
    "            parent[node] = find(parent[node]) # indirect な繋がり方を探すために recursive\n",
    "        # 自分が親なら自分の番号を返す\n",
    "        return parent[node]\n",
    "\n",
    "    def union(c1, c2):\n",
    "        \"\"\"親を統合して、c1 と c2 の親が既に同じ(つまり統合済)なら False, 異なっていて統合したら True\"\"\"\n",
    "        root1, root2 = find(c1), find(c2)\n",
    "        \n",
    "        # 既に尾長同じである = c1 と c2 をつないでしまうとサイクルができてしまう\n",
    "        if root1 == root2:\n",
    "            return False\n",
    "        # ルートを同じにする = c1 と c2 をつなぐことと同じ\n",
    "        parent[root2] = root1  # Always join roots!\n",
    "        return True\n",
    "\n",
    "    # [1] Keep track of disjoint sets. Initially each city is its own set.\n",
    "    # まずは全部の要素がそれ自信を親として持つ = どこともつながっていない状態\n",
    "    parent = {city: city for city in range(1, N+1)}\n",
    "    # [2] Sort connections by cost(connections[2]), so we are always picking minimum cost edge.\n",
    "    connections.sort(key=lambda x: x[2])\n",
    "    total = 0\n",
    "    for city1, city2, cost in connections:  # [3A] 一番辺のコストが小さいものから追加。 \n",
    "        if union(city1, city2):  # [3B]\n",
    "            total += cost\n",
    "    # Check that all cities are connected.\n",
    "    root = find(1)\n",
    "    return total if all(root == find(city) for city in range(1, N+1)) else -1\n",
    "\n",
    "N = 3\n",
    "connections = [[1,2,5],[1,3,6],[2,3,1]]\n",
    "print(minimumCost(N, connections))"
   ]
  },
  {
   "cell_type": "markdown",
   "id": "speaking-permission",
   "metadata": {},
   "source": [
    "## Number of Connected Components in an Undirected Graph\n",
    "- https://leetcode.com/problems/number-of-connected-components-in-an-undirected-graph/"
   ]
  },
  {
   "cell_type": "markdown",
   "id": "liked-trinidad",
   "metadata": {},
   "source": [
    "### Utilize Find-Union\n",
    "\n",
    "Here EE = Number of edges, VV = Number of vertices.\n",
    "\n",
    "Time complexity: O(E α(n)).\n",
    "\n",
    "Iterating over every edge requires O(E)O(E) operations, and for every operation, we are performing the combine method which is O(α(n)), where α(n) is the inverse Ackermann function.\n",
    "\n",
    "Space complexity: O(V)O(V).\n",
    "\n",
    "Storing the representative/immediate-parent of each vertex takes O(V) space. Furthermore, storing the size of components also takes O(V) space."
   ]
  },
  {
   "cell_type": "code",
   "execution_count": 104,
   "id": "finished-blake",
   "metadata": {},
   "outputs": [
    {
     "name": "stdout",
     "output_type": "stream",
     "text": [
      "2\n"
     ]
    }
   ],
   "source": [
    "def countComponents(n, edges):\n",
    "    \"\"\"\n",
    "    :type n: int\n",
    "    :type edges: List[List[int]]\n",
    "    :rtype: int\n",
    "    \"\"\"\n",
    "    par = {i: i for i in range(n)}\n",
    "    count = n\n",
    "    \n",
    "    def _find(node):\n",
    "        if par[node] == node:\n",
    "            return node\n",
    "        else:\n",
    "            par[node] == _find(par[node])\n",
    "            return par[node]\n",
    "    \n",
    "    def _unite(n1, n2):\n",
    "        par_n1 = _find(n1)\n",
    "        par_n2 = _find(n2)\n",
    "        if par_n1 == par_n2:\n",
    "            return False\n",
    "        else:\n",
    "            par[par_n1] = par_n2\n",
    "            return True\n",
    "        \n",
    "    for edge in edges:\n",
    "        n1 = edge[0]\n",
    "        n2 = edge[1]\n",
    "        if _unite(n1,n2):\n",
    "            count -= 1\n",
    "            \n",
    "    return count\n",
    "\n",
    "n = 5\n",
    "edges = [[0,1],[1,2],[3,4]]\n",
    "print(countComponents(n, edges))"
   ]
  },
  {
   "cell_type": "markdown",
   "id": "transsexual-generator",
   "metadata": {},
   "source": [
    "### Utilize DFS"
   ]
  },
  {
   "cell_type": "code",
   "execution_count": 139,
   "id": "modified-blake",
   "metadata": {},
   "outputs": [
    {
     "name": "stdout",
     "output_type": "stream",
     "text": [
      "2\n"
     ]
    }
   ],
   "source": [
    "from collections import deque\n",
    "\n",
    "def countComponents(n, edges):\n",
    "    \"\"\"\n",
    "    :type n: int\n",
    "    :type edges: List[List[int]]\n",
    "    :rtype: int\n",
    "    \"\"\"\n",
    "    visit = set()\n",
    "    stack = deque()\n",
    "    count = 0\n",
    "\n",
    "    for i in range(n):\n",
    "        if i not in visit:\n",
    "            stack.append(i)\n",
    "            count += 1\n",
    "            while stack != deque():\n",
    "                node = stack.pop()\n",
    "                adj = [e[1] for e in edges if e[0] == node]\n",
    "                for j in adj:\n",
    "                    if j not in visit:\n",
    "                        stack.append(j)\n",
    "                        visit.add(j)\n",
    "\n",
    "    return count\n",
    "\n",
    "n = 2\n",
    "edges =  [[1,0]]\n",
    "print(countComponents(n, edges))"
   ]
  },
  {
   "cell_type": "code",
   "execution_count": 136,
   "id": "atlantic-responsibility",
   "metadata": {},
   "outputs": [
    {
     "name": "stdout",
     "output_type": "stream",
     "text": [
      "2\n",
      "2\n",
      "1\n"
     ]
    }
   ],
   "source": [
    "from collections import deque\n",
    "\n",
    "def countComponents(n, edges):\n",
    "    \"\"\"\n",
    "    :type n: int\n",
    "    :type edges: List[List[int]]\n",
    "    :rtype: int\n",
    "    \"\"\"\n",
    "    \n",
    "    def dfs(visit, stack):\n",
    "        if stack == deque():\n",
    "            return \n",
    "        else:\n",
    "            node = stack.pop()\n",
    "            adj = [e[1] for e in edges if e[0] == node]\n",
    "            for j in adj:\n",
    "                if j not in visit:\n",
    "                    stack.append(j)\n",
    "                    visit.add(j) \n",
    "            dfs(visit, stack)\n",
    "    \n",
    "    visit = set()\n",
    "    stack = deque()\n",
    "    count = 0\n",
    "    \n",
    "\n",
    "    for i in range(n):\n",
    "        if i not in visit:\n",
    "            stack.append(i)\n",
    "            count += 1\n",
    "            dfs(visit, stack)\n",
    "\n",
    "    return count\n",
    "\n",
    "n = 2\n",
    "edges =  [[1,0]]\n",
    "print(countComponents(n, edges))\n",
    "\n",
    "\n",
    "n = 5\n",
    "edges = [[0,1],[1,2],[3,4]]\n",
    "print(countComponents(n, edges))\n",
    "\n",
    "n = 5\n",
    "edges = edges = [[0,1],[1,2],[2,3],[3,4]]\n",
    "print(countComponents(n, edges))"
   ]
  },
  {
   "cell_type": "markdown",
   "id": "indonesian-surrey",
   "metadata": {},
   "source": [
    "### All Nodes Distance K in Binary Tree"
   ]
  },
  {
   "cell_type": "code",
   "execution_count": 141,
   "id": "raising-timer",
   "metadata": {},
   "outputs": [],
   "source": [
    "# Definition for a binary tree node.\n",
    "class TreeNode(object):\n",
    "    def __init__(self, x):\n",
    "        self.val = x\n",
    "        self.left = None\n",
    "        self.right = None\n",
    "\n",
    "\n",
    "def distanceK(root, target, K):\n",
    "    \"\"\"\n",
    "    :type root: TreeNode\n",
    "    :type target: TreeNode\n",
    "    :type K: int\n",
    "    :rtype: List[int]\n",
    "    \"\"\"\n",
    "    dct = {}\n",
    "    level = 1\n",
    "    \n",
    "    def find_target(level, node, target):\n",
    "        level = level + 1\n",
    "        left = node.left\n",
    "        right = node.right\n",
    "        if left == target:\n",
    "            dct[right] = level\n",
    "            return level\n",
    "        elif right == target:\n",
    "            dct[left] = level\n",
    "            return level\n",
    "        else:\n",
    "            dct[left] = level\n",
    "            dct[right] = level\n",
    "            \n",
    "            find_target(level, left, target)\n",
    "            find_target(level, rihtg, target)\n",
    "            \n",
    "        \n",
    "    target_level = find_target()\n",
    "    \n",
    "    def find_childrens(node, k, lst):\n",
    "        if k == 1:\n",
    "            return [node.left.val, node.right.val]\n",
    "        else:\n",
    "            k = k-1\n",
    "            return find_childrens(node.left, k) + find_childrens(node.right, k)\n",
    "    \n",
    "    childrens = find_childrens\n",
    "    through_par = [k.val for k, v in dct.items if v ==  K-target_level]\n",
    "    \n",
    "    return childrens + through_par\n",
    "    "
   ]
  },
  {
   "cell_type": "code",
   "execution_count": null,
   "id": "orange-africa",
   "metadata": {},
   "outputs": [],
   "source": [
    "def buildGraph(node, parent, graph):\n",
    "    if node is None:\n",
    "        return\n",
    "\n",
    "    if parent is not None:\n",
    "        graph[node].append(parent)\n",
    "\n",
    "    if node.left is not None:\n",
    "        graph[node].append(node.left)\n",
    "        self.buildGraph(node.left, node, graph)\n",
    "\n",
    "    if node.right is not None:\n",
    "        graph[node].append(node.right)\n",
    "        self.buildGraph(node.right, node, graph)\n",
    "\n",
    "\n",
    "def distanceK(root, target, K):\n",
    "    \"\"\"\n",
    "    :type root: TreeNode\n",
    "    :type target: TreeNode\n",
    "    :type K: int\n",
    "    :rtype: List[int]\n",
    "    \"\"\"\n",
    "    from collections import defaultdict\n",
    "    # vetex: [parent, left, right]\n",
    "    graph = defaultdict(list)\n",
    "\n",
    "    # DFS to build graph\n",
    "    buildGraph(root, None, graph)\n",
    "\n",
    "    # BFS to retrieve the nodes with given distance\n",
    "    # Starting from the target node\n",
    "    q = [(target, 0)]\n",
    "\n",
    "    # keep the records, since the graph is all connected\n",
    "    visited = set()\n",
    "    # results\n",
    "    ans = []\n",
    "    while q:\n",
    "        node, distance = q.pop(0)\n",
    "        if node in visited:\n",
    "            continue\n",
    "        visited.add(node)\n",
    "\n",
    "        # we've reached the desired distance/radius\n",
    "        if K == distance:\n",
    "            ans.append(node.val)\n",
    "\n",
    "        # we haven't reached the desired distance, keep going\n",
    "        elif distance < K:\n",
    "            for child in graph[node]:\n",
    "                q.append((child, distance+1))\n",
    "        # exceed the desired distance\n",
    "        # No need to go further\n",
    "    return ans   "
   ]
  },
  {
   "cell_type": "markdown",
   "id": "square-aluminum",
   "metadata": {},
   "source": [
    "## Robot Bounded In Circle\n",
    "- https://leetcode.com/problems/robot-bounded-in-circle/"
   ]
  },
  {
   "cell_type": "code",
   "execution_count": 144,
   "id": "challenging-green",
   "metadata": {},
   "outputs": [
    {
     "name": "stdout",
     "output_type": "stream",
     "text": [
      "True\n"
     ]
    }
   ],
   "source": [
    "def isRobotBounded(instructions: str) -> bool:\n",
    "    # north = 0, east = 1, south = 2, west = 3\n",
    "    directions = [[0, 1], [1, 0], [0, -1], [-1, 0]]\n",
    "    # Initial position is in the center\n",
    "    x = y = 0\n",
    "    # facing north\n",
    "    idx = 0\n",
    "\n",
    "    for i in instructions:\n",
    "        if i == \"L\":\n",
    "            idx = (idx + 3) % 4\n",
    "        elif i == \"R\":\n",
    "            idx = (idx + 1) % 4\n",
    "        else:\n",
    "            x += directions[idx][0]\n",
    "            y += directions[idx][1]\n",
    "\n",
    "    # after one cycle:\n",
    "    # robot returns into initial position\n",
    "    # or robot doesn't face north\n",
    "    return (x == 0 and y == 0) or idx != 0\n",
    "\n",
    "instructions = \"GGLLGG\"\n",
    "print(isRobotBounded(instructions))"
   ]
  },
  {
   "cell_type": "code",
   "execution_count": null,
   "id": "missing-georgia",
   "metadata": {},
   "outputs": [],
   "source": [
    "## "
   ]
  },
  {
   "cell_type": "code",
   "execution_count": null,
   "id": "neutral-cache",
   "metadata": {},
   "outputs": [],
   "source": [
    "from collections import defaultdict\n",
    "\n",
    "def topKFrequent(words, k):\n",
    "    \"\"\"\n",
    "    :type words: List[str]\n",
    "    :type k: int\n",
    "    :rtype: List[str]\n",
    "    \"\"\"\n",
    "    dct = defaultdict(int)\n",
    "    \n",
    "    for word in words:\n",
    "        dct[word] += 1\n",
    "        \n",
    "    ans = sorted(dct, key=lambda word: (-dct[word], word))\n",
    "    \n",
    "    return ans "
   ]
  },
  {
   "cell_type": "code",
   "execution_count": 163,
   "id": "prospective-emerald",
   "metadata": {},
   "outputs": [],
   "source": [
    "def topKFrequent(words, k):\n",
    "    count = collections.Counter(words)\n",
    "    candidates = count.keys()\n",
    "    candidates.sort(key = lambda w: (-count[w], w))\n",
    "    return candidates[:k]"
   ]
  },
  {
   "cell_type": "code",
   "execution_count": 164,
   "id": "abstract-contractor",
   "metadata": {},
   "outputs": [
    {
     "data": {
      "text/plain": [
       "['xblue', 'yellow', 'red']"
      ]
     },
     "execution_count": 164,
     "metadata": {},
     "output_type": "execute_result"
    }
   ],
   "source": [
    "def topKFrequent(words, k):\n",
    "    count = collections.Counter(words)\n",
    "    heap = [(-freq, word) for word, freq in count.items()]\n",
    "    heapq.heapify(heap)\n",
    "    return [heapq.heappop(heap)[1] for _ in xrange(k)]"
   ]
  },
  {
   "cell_type": "markdown",
   "id": "reflected-citizenship",
   "metadata": {},
   "source": [
    "## Pairs of Songs With Total Durations Divisible by 60\n",
    "- https://leetcode.com/problems/pairs-of-songs-with-total-durations-divisible-by-60/solution/"
   ]
  },
  {
   "cell_type": "code",
   "execution_count": 178,
   "id": "regional-finland",
   "metadata": {},
   "outputs": [
    {
     "name": "stdout",
     "output_type": "stream",
     "text": [
      "defaultdict(<class 'int'>, {30: 2, 40: 2, 20: 1})\n",
      "3\n"
     ]
    }
   ],
   "source": [
    "def numPairsDivisibleBy60(time):\n",
    "    # 余りのdict\n",
    "    remainders = collections.defaultdict(int)\n",
    "    ret = 0\n",
    "    for t in time:\n",
    "        # 余りがt%60でなんぼになるか\n",
    "        if t % 60 == 0: # check if a%60==0 && b%60==0\n",
    "            ret += remainders[0]\n",
    "        else: # check if a%60+b%60==60\n",
    "            ret += remainders[60-t%60]\n",
    "        \n",
    "        remainders[t % 60] += 1 # remember to update the remainders\n",
    "    print(remainders)\n",
    "    return ret\n",
    "\n",
    "time = [30,20,150,100,40]\n",
    "print(numPairsDivisibleBy60(time))"
   ]
  },
  {
   "cell_type": "code",
   "execution_count": 179,
   "id": "certain-clone",
   "metadata": {},
   "outputs": [
    {
     "name": "stdout",
     "output_type": "stream",
     "text": [
      "3\n"
     ]
    }
   ],
   "source": [
    "def numPairsDivisibleBy60(time):   \n",
    "    ans, cnt = 0, collections.Counter()\n",
    "    for t in time:\n",
    "        theOther = -t % 60\n",
    "        ans += cnt[theOther]\n",
    "        cnt[t % 60] += 1\n",
    "    return ans\n",
    "\n",
    "time = [30,20,150,100,40]\n",
    "print(numPairsDivisibleBy60(time))"
   ]
  },
  {
   "cell_type": "code",
   "execution_count": null,
   "id": "about-nurse",
   "metadata": {},
   "outputs": [],
   "source": []
  }
 ],
 "metadata": {
  "kernelspec": {
   "display_name": "conda_python3",
   "language": "python",
   "name": "conda_python3"
  },
  "language_info": {
   "codemirror_mode": {
    "name": "ipython",
    "version": 3
   },
   "file_extension": ".py",
   "mimetype": "text/x-python",
   "name": "python",
   "nbconvert_exporter": "python",
   "pygments_lexer": "ipython3",
   "version": "3.6.10"
  }
 },
 "nbformat": 4,
 "nbformat_minor": 5
}
