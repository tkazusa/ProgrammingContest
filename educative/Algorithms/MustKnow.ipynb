{
 "cells": [
  {
   "cell_type": "markdown",
   "id": "f373c585",
   "metadata": {},
   "source": [
    "# Prim's Algorithm"
   ]
  },
  {
   "cell_type": "code",
   "execution_count": 20,
   "id": "3159ae88",
   "metadata": {},
   "outputs": [
    {
     "name": "stdout",
     "output_type": "stream",
     "text": [
      "defaultdict(<class 'list'>, {1: [(5, 2), (6, 3)], 2: [(5, 1), (1, 3)], 3: [(6, 1), (1, 2)]})\n",
      "pop 0 1\n",
      "1\n",
      "queue に行けるnodeを追加 [(5, 2), (6, 3)]\n",
      "pop 5 2\n",
      "2\n",
      "queue に行けるnodeを追加 [(1, 3), (6, 3), (5, 1)]\n",
      "pop 1 3\n",
      "3\n",
      "queue に行けるnodeを追加 [(1, 2), (5, 1), (6, 1), (6, 3)]\n",
      "6\n"
     ]
    }
   ],
   "source": [
    "from typing import List\n",
    "import collections\n",
    "import heapq\n",
    "\n",
    "def minimumCost(N: int, connections: List[List[int]]) -> int:\n",
    "    '''\n",
    "    Prim's Algorithm:\n",
    "    1) Initialize a tree with a single node, chosen\n",
    "    arbitrarily from the graph.\n",
    "    2) Grow the tree by one edge: of the edges that\n",
    "    connect the tree to vertices not yet in the tree,\n",
    "    find the minimum-weight edge, and transfer it to the tree.\n",
    "    3) Repeat step 2 (until all vertices are in the tree).\n",
    "    '''\n",
    "    # city1 <-> city2 may have multiple different cost connections,\n",
    "    # so use a list of tuples. Nested dict will break algorithm.\n",
    "    # ここの持ち方は、与えられた問題による\n",
    "    G = collections.defaultdict(list)\n",
    "    for node1, node2, cost in connections:\n",
    "        # 優先度キューに入れるために (cost, node) の順\n",
    "        G[node1].append((cost, node2))\n",
    "        G[node2].append((cost, node1))\n",
    "    \n",
    "    print(G)\n",
    "\n",
    "    # queue = [(cost, node)] # heappop するときは、cost を見ている。\n",
    "    # コストが小さい=優先度が高い、優先度キュー\n",
    "    queue = [(0, 1)]  # [1] Arbitrary starting point N costs 0.\n",
    "    visited = set()\n",
    "    total = 0\n",
    "    while queue and len(visited) < N: # [3] Exit if all cities are visited.\n",
    "        # cost is always least cost connection in queue.\n",
    "        cost, city = heapq.heappop(queue)\n",
    "        print(\"pop\", cost, city)\n",
    "        if city not in visited:\n",
    "            visited.add(city)\n",
    "            total += cost # [2] Grow tree by one edge.\n",
    "            for edge_cost, next_city in G[city]:\n",
    "\n",
    "                heapq.heappush(queue, (edge_cost, next_city))\n",
    "            print(city)\n",
    "            print(\"queue に行けるnodeを追加\", queue)\n",
    "    return total if len(visited) == N else -1\n",
    "\n",
    "N = 3\n",
    "connections = [[1,2,5],[1,3,6],[2,3,1]]\n",
    "print(minimumCost(N, connections))"
   ]
  },
  {
   "cell_type": "code",
   "execution_count": null,
   "id": "c1b3cd89",
   "metadata": {},
   "outputs": [],
   "source": [
    "# Find Union"
   ]
  },
  {
   "cell_type": "code",
   "execution_count": 26,
   "id": "222d8e0b",
   "metadata": {},
   "outputs": [
    {
     "name": "stdout",
     "output_type": "stream",
     "text": [
      "{1: 1, 2: 2, 3: 3, 4: 4, 5: 5, 6: 6, 7: 7}\n",
      "{1: 5, 2: 6, 3: 4, 4: 4, 5: 5, 6: 4, 7: 7}\n",
      "True\n"
     ]
    }
   ],
   "source": [
    "def find(x):\n",
    "    # BaseCase\n",
    "    if par[x] == x:\n",
    "        return x\n",
    "    else:\n",
    "        return find(par[x])\n",
    "    \n",
    "def same(x,y):\n",
    "    return find(x) == find(y)\n",
    "\n",
    "def unite(x,y):\n",
    "    x = find(x)\n",
    "    y = find(y)\n",
    "    if x == y:\n",
    "        return 0 # 既に同じグループ\n",
    "    par[x] = y\n",
    "    return True\n",
    "\n",
    "N = 7\n",
    "par = {node: node for node in range(1, N+1)}\n",
    "print(par)\n",
    "unite(1,5)\n",
    "unite(2,6)\n",
    "unite(3,4)\n",
    "unite(2,4)\n",
    "print(par)\n",
    "\n",
    "print(same(2,3))"
   ]
  },
  {
   "cell_type": "markdown",
   "id": "42d42c8a",
   "metadata": {},
   "source": [
    "### union by size\n",
    "size の小さい方を大きい方にuniteする。木の高さが O(logN) に抑えられる"
   ]
  },
  {
   "cell_type": "code",
   "execution_count": 29,
   "id": "49be2980",
   "metadata": {},
   "outputs": [
    {
     "name": "stdout",
     "output_type": "stream",
     "text": [
      "{1: 1, 2: 2, 3: 3, 4: 4, 5: 5, 6: 6, 7: 7}\n",
      "{1: 5, 2: 6, 3: 4, 4: 4, 5: 5, 6: 4, 7: 7}\n",
      "True\n"
     ]
    }
   ],
   "source": [
    "def find(x):\n",
    "    # BaseCase\n",
    "    if par[x] == x:\n",
    "        return x\n",
    "    else:\n",
    "        return find(par[x])\n",
    "    \n",
    "def same(x,y):\n",
    "    return find(x) == find(y)\n",
    "\n",
    "def unite(x,y):\n",
    "    size_x = 0\n",
    "    size_y = 0\n",
    "    \n",
    "    x = find(x)\n",
    "    y = find(y)\n",
    "    \n",
    "    for i in range(1, N+1):\n",
    "        if x == find(i):\n",
    "            size_x +=1\n",
    "        if y == find(i):\n",
    "            size_y += 1\n",
    "\n",
    "    if x == y:\n",
    "        return 0 # 既に同じグループ\n",
    "    if size_x <= size_y:\n",
    "        small = x\n",
    "        large = y\n",
    "    else:\n",
    "        small = y\n",
    "        large  = x\n",
    "    par[small] = large\n",
    "    return True\n",
    "\n",
    "N = 7\n",
    "par = {node: node for node in range(1, N+1)}\n",
    "print(par)\n",
    "unite(1,5)\n",
    "unite(2,6)\n",
    "unite(3,4)\n",
    "unite(2,4)\n",
    "print(par)\n",
    "\n",
    "print(same(2,3))"
   ]
  },
  {
   "cell_type": "markdown",
   "id": "9bd691df",
   "metadata": {},
   "source": [
    "### 経路圧縮"
   ]
  },
  {
   "cell_type": "code",
   "execution_count": 25,
   "id": "06c4af8c",
   "metadata": {},
   "outputs": [
    {
     "name": "stdout",
     "output_type": "stream",
     "text": [
      "{1: 1, 2: 2, 3: 3, 4: 4, 5: 5, 6: 6, 7: 7}\n",
      "{1: 5, 2: 6, 3: 4, 4: 4, 5: 5, 6: 4, 7: 7}\n"
     ]
    }
   ],
   "source": [
    "def find(x):\n",
    "    if par[x] == x:\n",
    "        return x\n",
    "    else:\n",
    "        par[x] = find(par[x]) #par[x] を更新してをしている経路圧縮\n",
    "        return par[x]\n",
    "    \n",
    "def same(x,y):\n",
    "    return find(x) == find(y)\n",
    "\n",
    "def unite(x,y):\n",
    "    x = find(x)\n",
    "    y = find(y)\n",
    "    if x == y:\n",
    "        return 0 # 既に同じグループ\n",
    "    par[x] = y\n",
    "    return True\n",
    "\n",
    "N = 7\n",
    "par = {node: node for node in range(1, N+1)}\n",
    "print(par)\n",
    "unite(1,5)\n",
    "unite(2,6)\n",
    "unite(3,4)\n",
    "unite(2,4)\n",
    "print(par)\n",
    "\n",
    "print(same(2,3))"
   ]
  },
  {
   "cell_type": "markdown",
   "id": "462553ab",
   "metadata": {},
   "source": [
    "# Kruskal's Algorithm"
   ]
  },
  {
   "cell_type": "code",
   "execution_count": null,
   "id": "3c938375",
   "metadata": {},
   "outputs": [],
   "source": [
    "def minimumCost(N: int, connections: List[List[int]]) -> int:\n",
    "    '''\n",
    "    Kruskal's Algorithm:\n",
    "    1) Create a forest F (a set of trees), where each vertex in \n",
    "    the graph is a separate tree.\n",
    "    2) Create a set S containing all the edges in the graph.\n",
    "    3) While S is nonempty and F is not yet spanning (fully connected):\n",
    "        3A) Remove an edge with minimum weight from S\n",
    "        3B) If the removed edge connects two different trees then \n",
    "        add it to the forest F, combining two trees into a single tree.\n",
    "        \n",
    "    time complexity: sort connections by cost(O(ElogV)), union process (O(Eα(V))\n",
    "    '''\n",
    "    def find(node):\n",
    "        \"\"\"自分の親を探す\"\"\"\n",
    "        # Recursively re-set city's parent to its parent's parent.\n",
    "        # Build the bush: ideally each tree/set is of height 1.\n",
    "        # 自分が親でなかったら再帰\n",
    "        if parent[node] != node:\n",
    "            parent[node] = find(parent[node]) # indirect な繋がり方を探すために recursive。経路圧縮している。\n",
    "        # 自分が親なら自分の番号を返す\n",
    "        return parent[node]\n",
    "\n",
    "    def union(c1, c2):\n",
    "        \"\"\"親を統合して、c1 と c2 の親が既に同じ(つまり統合済)なら False, 異なっていて統合したら True\"\"\"\n",
    "        root1, root2 = find(c1), find(c2)\n",
    "        \n",
    "        # 既に尾長同じである = c1 と c2 をつないでしまうとサイクルができてしまう\n",
    "        if root1 == root2:\n",
    "            return False\n",
    "        # ルートを同じにする = c1 と c2 をつなぐことと同じ\n",
    "        parent[root2] = root1  # Always join roots!\n",
    "        return True\n",
    "\n",
    "    # [1] Keep track of disjoint sets. Initially each city is its own set.\n",
    "    # まずは全部の要素がそれ自信を親として持つ = どこともつながっていない状態\n",
    "    parent = {city: city for city in range(1, N+1)}\n",
    "    # [2] Sort connections by cost(connections[2]), so we are always picking minimum cost edge.\n",
    "    connections.sort(key=lambda x: x[2])\n",
    "    total = 0\n",
    "    for city1, city2, cost in connections:  # [3A] 一番辺のコストが小さいものから追加。 \n",
    "        if union(city1, city2):  # [3B]\n",
    "            total += cost\n",
    "    # Check that all cities are connected.\n",
    "    root = find(1)\n",
    "    return total if all(root == find(city) for city in range(1, N+1)) else -1\n",
    "\n",
    "N = 3\n",
    "connections = [[1,2,5],[1,3,6],[2,3,1]]\n",
    "print(minimumCost(N, connections))"
   ]
  }
 ],
 "metadata": {
  "kernelspec": {
   "display_name": "conda_python3",
   "language": "python",
   "name": "conda_python3"
  },
  "language_info": {
   "codemirror_mode": {
    "name": "ipython",
    "version": 3
   },
   "file_extension": ".py",
   "mimetype": "text/x-python",
   "name": "python",
   "nbconvert_exporter": "python",
   "pygments_lexer": "ipython3",
   "version": "3.6.13"
  }
 },
 "nbformat": 4,
 "nbformat_minor": 5
}
