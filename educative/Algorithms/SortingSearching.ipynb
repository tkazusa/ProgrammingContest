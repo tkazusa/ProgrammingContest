{
 "cells": [
  {
   "cell_type": "markdown",
   "id": "496e0af1",
   "metadata": {},
   "source": [
    "# Sorting and Searching\n",
    "## What is sorting?\n",
    "- Arrenging items systematically like abscending or deciending order."
   ]
  },
  {
   "cell_type": "markdown",
   "id": "105625b6",
   "metadata": {},
   "source": [
    "### Selection sort algorithm\n",
    "\n",
    "This algorithm works by repeatedly finding the minimum element in the list and placing it at the beginning. Time complexity is O(n^2)"
   ]
  },
  {
   "cell_type": "code",
   "execution_count": null,
   "id": "ff5f7688",
   "metadata": {},
   "outputs": [],
   "source": [
    "def selection_sort(lst):\n",
    "    \"\"\"\n",
    "    Selection sort function\n",
    "    :param lst: List of integers\n",
    "    \"\"\"\n",
    "\n",
    "    # Traverse through all lst elements\n",
    "    for i in range(len(lst)):\n",
    "        # Find the minimum element in unsorted lst\n",
    "        min_index = i\n",
    "        for j in range(i + 1, len(lst)):\n",
    "            if lst[min_index] > lst[j]:\n",
    "                min_index = j\n",
    "\n",
    "        # Swap the found minimum element with the first element\n",
    "        lst[i], lst[min_index] = lst[min_index], lst[i]\n",
    "\n",
    "\n",
    "# Driver code to test above\n",
    "if __name__ == '__main__':\n",
    "\n",
    "    lst = [3, 2, 1, 5, 4]\n",
    "    selection_sort(lst)  # Calling selection sort function\n",
    "\n",
    "    # Printing Sorted lst\n",
    "    print(\"Sorted lst: \", lst)\n",
    "    "
   ]
  },
  {
   "cell_type": "code",
   "execution_count": null,
   "id": "d6c08ae2",
   "metadata": {},
   "outputs": [],
   "source": [
    "### Bubble sort algorithm"
   ]
  },
  {
   "cell_type": "code",
   "execution_count": 4,
   "id": "3d5cf518",
   "metadata": {},
   "outputs": [
    {
     "name": "stdout",
     "output_type": "stream",
     "text": [
      "0 0\n",
      "[5, 2, 1, 3, 4]\n",
      "[2, 5, 1, 3, 4]\n",
      "0 1\n",
      "[2, 5, 1, 3, 4]\n",
      "[2, 1, 5, 3, 4]\n",
      "0 2\n",
      "[2, 1, 5, 3, 4]\n",
      "[2, 1, 3, 5, 4]\n",
      "0 3\n",
      "[2, 1, 3, 5, 4]\n",
      "[2, 1, 3, 4, 5]\n",
      "1 0\n",
      "[2, 1, 3, 4, 5]\n",
      "[1, 2, 3, 4, 5]\n",
      "1 1\n",
      "[1, 2, 3, 4, 5]\n",
      "[1, 2, 3, 4, 5]\n",
      "1 2\n",
      "[1, 2, 3, 4, 5]\n",
      "[1, 2, 3, 4, 5]\n",
      "2 0\n",
      "[1, 2, 3, 4, 5]\n",
      "[1, 2, 3, 4, 5]\n",
      "2 1\n",
      "[1, 2, 3, 4, 5]\n",
      "[1, 2, 3, 4, 5]\n",
      "3 0\n",
      "[1, 2, 3, 4, 5]\n",
      "[1, 2, 3, 4, 5]\n",
      "Sorted list is:  [1, 2, 3, 4, 5]\n"
     ]
    }
   ],
   "source": [
    "def bubble_sort(lst):\n",
    "    \"\"\"\n",
    "    Bubble sort function\n",
    "    :param lst: lst of unsorted integers\n",
    "    \"\"\"\n",
    "\n",
    "    # Traverse through all list elements\n",
    "    for i in range(len(lst)):\n",
    "\n",
    "        # Last i elements are already in place\n",
    "        for j in range(0, len(lst) - i - 1):\n",
    "            print(i,j)\n",
    "\n",
    "            # Traverse the list from 0 to size of lst - i - 1\n",
    "            # Swap if the element found is greater than the next element\n",
    "            print(lst)\n",
    "            if lst[j] > lst[j + 1]:\n",
    "                lst[j], lst[j + 1] = lst[j + 1], lst[j]\n",
    "            print(lst)\n",
    "\n",
    "\n",
    "# Driver code to test above\n",
    "if __name__ == '__main__':\n",
    "\n",
    "    lst = [5, 2, 1, 3, 4]\n",
    "    bubble_sort(lst)  # Calling bubble sort function\n",
    "\n",
    "    print(\"Sorted list is: \", lst)\n",
    "    "
   ]
  },
  {
   "cell_type": "markdown",
   "id": "53ce4e5e",
   "metadata": {},
   "source": [
    "### Insertion sort\n",
    "\n",
    "The inserion algorithm traverse the given list and figures out where is the currect position for every element and inserts it there. The time conplexity is O(n^2)."
   ]
  },
  {
   "cell_type": "code",
   "execution_count": 11,
   "id": "9c12fda9",
   "metadata": {},
   "outputs": [
    {
     "name": "stdout",
     "output_type": "stream",
     "text": [
      "1 0\n",
      "2 1\n",
      "2 0\n",
      "3 2\n",
      "4 3\n",
      "4 2\n",
      "Sorted list is:  [1, 2, 3, 4, 5]\n"
     ]
    }
   ],
   "source": [
    "def insertion_sort(lst):\n",
    "    n = len(lst)\n",
    "    for i in range(n):\n",
    "        for j in reversed(range(i)):\n",
    "            print(i,j)\n",
    "            if lst[j] > lst[j+1]:\n",
    "                lst[j], lst[j+1] = lst[j+1], lst[j]\n",
    "            else:\n",
    "                break  # <- この break 文がポイント\n",
    "\n",
    "\n",
    "\n",
    "# Driver code to test above\n",
    "if __name__ == '__main__':\n",
    "\n",
    "    lst = [3, 2, 1, 5, 4]\n",
    "    insertion_sort(lst)  # Calling insertion sort function\n",
    "\n",
    "    print(\"Sorted list is: \", lst)"
   ]
  },
  {
   "cell_type": "markdown",
   "id": "3b829f28",
   "metadata": {},
   "source": [
    "### Merge Sort\n",
    "\n",
    "Merge sort is a recursive divide & conquer algorithm that essentially divides a given list into two halves, sorts those halves, and merges them in order. The base case is to merge two lists of size 1 so, eventually, single elements are merged in order; the merge part is where most of the heavy lifting happens. The time complexity is O(nlogn)."
   ]
  },
  {
   "cell_type": "code",
   "execution_count": 70,
   "id": "51453d22",
   "metadata": {},
   "outputs": [
    {
     "name": "stdout",
     "output_type": "stream",
     "text": [
      "Sorted list:  [1, 2, 3, 3, 3, 4, 5]\n"
     ]
    }
   ],
   "source": [
    "def merge_sort(my_list):\n",
    "    # my_list の長さが 1 のときには何もしない\n",
    "    # my_list= [3,3,5, 4, 2, 1, 3]\n",
    "    if len(my_list) > 1:\n",
    "        mid = len(my_list) // 2\n",
    "        left = my_list[:mid]\n",
    "        right = my_list[mid:]\n",
    "        \n",
    "\n",
    "        # 再帰的に全部分割、かつ、leftとrightはソート済となる\n",
    "        merge_sort(left)\n",
    "        merge_sort(right)\n",
    "\n",
    "        # Two iterators for traversing(横断) the two halves\n",
    "        left_index = 0\n",
    "        right_index = 0\n",
    "        \n",
    "        # Iterator for the main list\n",
    "        main_index = 0\n",
    "        \n",
    "        # ソートされている left と right の比較。\n",
    "        # 左右に分割されたlstを一個ずつ、小さい方から比較していく、 index は一つずつ増えていくので、長さが超えないように\n",
    "        while left_index < len(left) and right_index < len(right):\n",
    "            if left[left_index] < right[right_index]:\n",
    "                my_list[main_index] = left[left_index]\n",
    "                left_index += 1\n",
    "            else:\n",
    "                my_list[main_index] = right[right_index]\n",
    "                right_index += 1\n",
    "            # Move to the next slot\n",
    "            main_index += 1\n",
    "\n",
    "        # For all the remaining values\n",
    "        # Until item of one or the other list are gone, \n",
    "        while left_index < len(left):\n",
    "            my_list[main_index] = left[left_index]\n",
    "            left_index += 1\n",
    "            main_index += 1\n",
    "\n",
    "        while right_index < len(right):\n",
    "            my_list[main_index]=right[right_index]\n",
    "            right_index += 1\n",
    "            main_index += 1\n",
    "        \n",
    "\n",
    "\n",
    "# Driver code to test above\n",
    "if __name__ == '__main__':\n",
    "\n",
    "    lst = [3,3,5, 4, 2, 1, 3]\n",
    "    merge_sort(lst)\n",
    "\n",
    "    # Printing Sorted list\n",
    "    print(\"Sorted list: \", lst)"
   ]
  },
  {
   "cell_type": "markdown",
   "id": "a813c46d",
   "metadata": {},
   "source": [
    "### Quick Sort\n",
    "\n",
    "- Start with a list of n elements\n",
    "- Choose a pivot element from the list to be sorted\n",
    "- Partition the list into 2 unsorted sublists, such that all elements in one sublist are less than the pivot and all the elements in the other sublist are greater than the pivot\n",
    "- Elements that are equal to the pivot can go in either sublist\n",
    "- Sort each sublist recursively to yield two sorted sublists\n",
    "- Concatenate the two sorted sublists and the pivot to yield one sorted list"
   ]
  },
  {
   "cell_type": "code",
   "execution_count": 32,
   "id": "9bc39ebf",
   "metadata": {},
   "outputs": [
    {
     "name": "stdout",
     "output_type": "stream",
     "text": [
      "Sorted list:  [1, 2, 3, 3, 3, 4, 5]\n"
     ]
    }
   ],
   "source": [
    "def quick_sort(arr):\n",
    "    left = []\n",
    "    right = []\n",
    "    if len(arr) <= 1:\n",
    "        return arr\n",
    "\n",
    "    # データの状態に左右されないためにrandom.choice()を用いることもある。\n",
    "    # pivot = random.choice(arr)\n",
    "    pivot = arr[0]\n",
    "    pivot_count = 0\n",
    "    \n",
    "    # pivot を軸に、左右のリストへ分割\n",
    "    for ele in arr:\n",
    "        if ele < pivot:\n",
    "            left.append(ele)\n",
    "        elif ele > pivot:\n",
    "            right.append(ele)\n",
    "        # pivot に選択した値と同じ値がリスト中にあった場合にはそれをカウント。\n",
    "        # これがないとpivotに選んだ数値が最小だっったりすると、永遠にリストを分割できない\n",
    "        else:\n",
    "            pivot_count += 1\n",
    "    \n",
    "    # 再帰的に実行\n",
    "    left = quick_sort(left)\n",
    "    right = quick_sort(right)\n",
    "    \n",
    "    return left + [pivot] * pivot_count + right\n",
    "\n",
    "# Driver code to test above\n",
    "if __name__ == '__main__':\n",
    "\n",
    "    lst = [3,3,5, 4, 2, 1, 3]\n",
    "    sorted_list = quick_sort(lst)\n",
    "\n",
    "    # Printing Sorted list\n",
    "    print(\"Sorted list: \", sorted_list)"
   ]
  },
  {
   "cell_type": "markdown",
   "id": "dd3f5f73",
   "metadata": {},
   "source": [
    "### linear search\n",
    "\n",
    "This searh method traverse the given list and find the target value."
   ]
  },
  {
   "cell_type": "code",
   "execution_count": null,
   "id": "3f790543",
   "metadata": {},
   "outputs": [],
   "source": [
    "def linear_search(lst, key):\n",
    "    \"\"\"\n",
    "    Linear search function\n",
    "    :param lst: lst of unsorted integers\n",
    "    :param key: A key to be searched in the list\n",
    "    \"\"\"\n",
    "    if len(lst) <= 0:  # Sanity check\n",
    "        return -1\n",
    "\n",
    "    for i in range(len(lst)):\n",
    "        if lst[i] == key:\n",
    "            return i  # If found return index\n",
    "    return -1  # Return -1 otherwise\n",
    "\n",
    "\n",
    "# Driver code to test above\n",
    "if __name__ == '__main__':\n",
    "\n",
    "    lst = [5, 4, 1, 0, 5, 95, 4, -100, 200, 0]\n",
    "    key = 95\n",
    "\n",
    "    index = linear_search(lst, key)\n",
    "    if index != -1:\n",
    "        print(\"Key:\", key, \"is found at index:\", index)\n",
    "    else:\n",
    "        print(key, \" is not found in the list.\")"
   ]
  },
  {
   "cell_type": "markdown",
   "id": "a9f37147",
   "metadata": {},
   "source": [
    "## Binary Search\n",
    "\n",
    "When the array is sorted, the search algorithm compare the target element and the element at the middle of the array. If the target element is less than the middle element, the target should be on the first half of array."
   ]
  },
  {
   "cell_type": "code",
   "execution_count": 76,
   "id": "5b42c57e",
   "metadata": {},
   "outputs": [
    {
     "name": "stdout",
     "output_type": "stream",
     "text": [
      "Element is present at index: 6\n"
     ]
    }
   ],
   "source": [
    "def binary_search(lst, target):\n",
    "    \n",
    "    left_index = 0\n",
    "    right_index = len(lst)\n",
    "\n",
    "    while left_index <= right_index:\n",
    "\n",
    "        mid = left_index + (right_index - left_index) // 2\n",
    "\n",
    "        # Check if key is present at mid\n",
    "        if lst[mid] == target:\n",
    "            return mid\n",
    "\n",
    "        # If key is greater, ignore left half\n",
    "        elif lst[mid] < key:\n",
    "            left_index = mid + 1\n",
    "\n",
    "        # If key is smaller, ignore right half\n",
    "        else:\n",
    "            right_index = mid - 1\n",
    "\n",
    "    # If we reach here, then the element was not present\n",
    "    return -1\n",
    "\n",
    "\n",
    "# Driver to test above code\n",
    "if __name__ == '__main__':\n",
    "\n",
    "    lst = [1, 2, 3, 10, 20, 40, 111, 244, 14444, 800000]\n",
    "    key = 111\n",
    "\n",
    "    # Function call\n",
    "    result = binary_search(lst, key)\n",
    "\n",
    "    if result != -1:\n",
    "        print(\"Element is present at index:\", result)\n",
    "    else:\n",
    "        print(\"Element is not present in the list\")\n",
    "    "
   ]
  },
  {
   "cell_type": "markdown",
   "id": "353d7f9e",
   "metadata": {},
   "source": [
    "## Challenge 1: Find Two Numbers that Add up to \"n\""
   ]
  },
  {
   "cell_type": "markdown",
   "id": "61292020",
   "metadata": {},
   "source": [
    "In this problem, you have to implement the find_sum(lst, n) function which will take a list lst and number n as inputs and return two numbers from the list that add up to n.\n",
    "\n",
    "Input #\n",
    "A list and a number n\n",
    "\n",
    "Output #\n",
    "A list with two integers a and b that add up to n"
   ]
  },
  {
   "cell_type": "code",
   "execution_count": 79,
   "id": "96debfdb",
   "metadata": {},
   "outputs": [
    {
     "name": "stdout",
     "output_type": "stream",
     "text": [
      "[4, 2]\n"
     ]
    }
   ],
   "source": [
    "def find_sum(lst, n):\n",
    "    \"\"\"\n",
    "    Function to find two number that add up to n\n",
    "    :param lst: A list of integers\n",
    "    :param n: The integer number n\n",
    "    \"\"\"\n",
    "\n",
    "    found_values = set()\n",
    "\n",
    "    for ele in lst:\n",
    "        if n - ele in found_values:\n",
    "            return [n - ele, ele]\n",
    "        found_values.add(ele)\n",
    "\n",
    "    return False\n",
    "\n",
    "\n",
    "# Driver to test above code\n",
    "if __name__ == '__main__':\n",
    "  \n",
    "  print(find_sum([1, 3, 2, 4], 6))"
   ]
  },
  {
   "cell_type": "markdown",
   "id": "3e07db64",
   "metadata": {},
   "source": [
    "### Challenge 3: Group Anagrams\n",
    "\n",
    "\n",
    "Given a list of strings that contains anagrams, write a function to print pairs of those anagrams.\n",
    "\n",
    "Input #\n",
    "A list of strings. Remember that spaces count as characters. So, \" abc\" and “cab” are technically not anagrams, since \" abc\" has spaces which “cab” does not.\n",
    "\n",
    "Output #\n",
    "A list of lists where all pairs of anagrams grouped together"
   ]
  },
  {
   "cell_type": "code",
   "execution_count": 88,
   "id": "cfccbfe3",
   "metadata": {},
   "outputs": [
    {
     "name": "stdout",
     "output_type": "stream",
     "text": [
      "{'   addeillmmooorrtv': ['tom marvolo riddle ', 'i am lord voldemort'], 'abc': ['abc', 'cab'], 'def': ['def', 'fed'], '  acdeilnoosttw': ['clint eastwood ', 'old west action'], 'eilsv': ['elvis', 'lives']}\n",
      "[['abc', 'cab'], ['clint eastwood ', 'old west action'], ['def', 'fed'], ['elvis', 'lives'], ['tom marvolo riddle ', 'i am lord voldemort']]\n"
     ]
    }
   ],
   "source": [
    "def anagrams(lst):\n",
    "    \"\"\"\n",
    "    Function to find anagram pairs\n",
    "    :param lst: A lst of strings\n",
    "    :return: Group of anagrams\n",
    "    \"\"\"\n",
    "    \n",
    "    # Empty dictionary which holds subsets of all anagrams together\n",
    "    dictionary = {}\n",
    "\n",
    "    # traversing all the lst strings\n",
    "    for string in lst:\n",
    "\n",
    "        # sorting the lst string and storing it in a key\n",
    "        key = ''.join(sorted(string))\n",
    "\n",
    "        # if the key is already in the dictionary then appending the original lst(Anagram).\n",
    "        if key in dictionary.keys():\n",
    "            dictionary[key].append(string)\n",
    "            \n",
    "        else:  # If there is no key in the dictionary\n",
    "            dictionary[key] = []\n",
    "            dictionary[key].append(string)\n",
    "\n",
    "    # traversing the whole dictionary and concatenating values and keys\n",
    "    result = []\n",
    "    \n",
    "    for key, value in dictionary.items():\n",
    "        if len(value) >= 2:\n",
    "            result.append(value)\n",
    "\n",
    "    result = sorted(result) # sort the list\n",
    "    print(dictionary)\n",
    "\n",
    "    return result\n",
    "\n",
    "\n",
    "# Driver to test above code\n",
    "if __name__ == '__main__':\n",
    "\n",
    "    lst = ['tom marvolo riddle ', 'abc', 'def', 'cab', 'fed', 'clint eastwood ', 'i am lord voldemort', 'elvis', 'old west action', 'lives']\n",
    "    print (anagrams(lst))"
   ]
  },
  {
   "cell_type": "markdown",
   "id": "a1a94b79",
   "metadata": {},
   "source": [
    "### Challenge 4: Arrange a Binary List\n",
    "\n",
    "Implement a function sort_binary_list(lst) that takes a binary list of numbers and returns a sorted list.\n",
    "\n",
    "Input #\n",
    "A list having binary numbers\n",
    "\n",
    "Output #\n",
    "A sorted binary list"
   ]
  },
  {
   "cell_type": "code",
   "execution_count": null,
   "id": "639cd6eb",
   "metadata": {},
   "outputs": [],
   "source": [
    "def sort_binary_list(lst):\n",
    "    \"\"\"\n",
    "    A function to sort binary list\n",
    "    :param lst: A list containing binary numbers\n",
    "    :return: A sorted binary list\n",
    "    \"\"\"\n",
    "    \n",
    "    j = 0\n",
    "    \n",
    "    for i in range(len(lst)):\n",
    "        if lst[i] < 1:  # Swapping with jth element if the number is less than 1\n",
    "            lst[i], lst[j] = lst[j], lst[i]  # Swapping\n",
    "            j = j + 1\n",
    "    \n",
    "    return lst\n",
    "\n",
    "\n",
    "# Driver to test above code\n",
    "if __name__ == '__main__':\n",
    "    \n",
    "    lst = [1, 0, 1, 0, 1, 0, 1, 0]\n",
    "    result = sort_binary_list(lst)\n",
    "    \n",
    "    print (result)"
   ]
  },
  {
   "cell_type": "markdown",
   "id": "ad515e78",
   "metadata": {},
   "source": [
    "### Challenge 5: Find the Maximum Product of Two Integers in a List\n",
    "\n",
    "Implement a function find_max_prod(lst) that takes a list of numbers and returns a maximum product pair.\n",
    "\n",
    "Input #\n",
    "A list of integer numbers\n",
    "\n",
    "Output #\n",
    "Two integers"
   ]
  },
  {
   "cell_type": "code",
   "execution_count": null,
   "id": "7f2ed71a",
   "metadata": {},
   "outputs": [],
   "source": [
    "# Decimal library to assign infinite numbers\n",
    "from decimal import Decimal\n",
    "\n",
    "\n",
    "def find_max_prod(lst):\n",
    "    \"\"\"\n",
    "    Finds the pair having maximum product in a given list\n",
    "    :param lst: A list of integers\n",
    "    :return: A pair of integer\n",
    "    \"\"\"\n",
    "\n",
    "    max1 = lst[0]\n",
    "    max2 = Decimal('-Infinity')\n",
    "\n",
    "    min1 = lst[0]\n",
    "    min2 = Decimal('Infinity')\n",
    "\n",
    "    for number in lst:\n",
    "\n",
    "        if number > max1:\n",
    "            max2 = max1  # Second highest\n",
    "            max1 = number  # First highest\n",
    "        elif number > max2:\n",
    "            max2 = number\n",
    "\n",
    "        if number < min1:\n",
    "            min2 = min1  # Second lowest\n",
    "            min1 = number  # First lowest\n",
    "        elif number < min2:\n",
    "            min2 = number\n",
    "\n",
    "    # Checking which pair has the highest product\n",
    "    if max1 * max2 > min1 * min2:\n",
    "        return max2, max1\n",
    "    else:\n",
    "        return min2, min1\n",
    "\n",
    "\n",
    "# Driver to test above code\n",
    "if __name__ == '__main__':\n",
    "\n",
    "    lst = [1, 3, 5, 2, 6]\n",
    "    num1, num2 = find_max_prod(lst)\n",
    "    print(num1, num2)\n",
    "    \n",
    "    lst = [1, -3, -5, 2, 6]\n",
    "    num1, num2 = find_max_prod(lst)\n",
    "    print(num1, num2)"
   ]
  }
 ],
 "metadata": {
  "kernelspec": {
   "display_name": "conda_python3",
   "language": "python",
   "name": "conda_python3"
  },
  "language_info": {
   "codemirror_mode": {
    "name": "ipython",
    "version": 3
   },
   "file_extension": ".py",
   "mimetype": "text/x-python",
   "name": "python",
   "nbconvert_exporter": "python",
   "pygments_lexer": "ipython3",
   "version": "3.6.13"
  }
 },
 "nbformat": 4,
 "nbformat_minor": 5
}
