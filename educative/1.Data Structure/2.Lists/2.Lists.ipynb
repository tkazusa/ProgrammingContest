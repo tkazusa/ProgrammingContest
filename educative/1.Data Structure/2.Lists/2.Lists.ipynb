{
 "cells": [
  {
   "cell_type": "markdown",
   "id": "ae1fb1b5",
   "metadata": {},
   "source": [
    "## Problem Statement\n",
    "Implement a function that removes all the even elements from a given list. Name it remove_even(lst)."
   ]
  },
  {
   "cell_type": "code",
   "execution_count": 4,
   "id": "ed0075c0",
   "metadata": {},
   "outputs": [
    {
     "data": {
      "text/plain": [
       "True"
      ]
     },
     "execution_count": 4,
     "metadata": {},
     "output_type": "execute_result"
    }
   ],
   "source": [
    "# sample input\n",
    "my_list = [1,2,4,5,10,6,3]\n",
    "# sample output\n",
    "expected = [1,5,3]\n",
    "\n",
    "def remove_even(lst):\n",
    "    # Write your code here!\n",
    "    new_lst = []\n",
    "    for i in range(len(lst)):\n",
    "        if lst[i]%2 != 0:\n",
    "            new_lst.append(lst[i])\n",
    "    return new_lst\n",
    "\n",
    "def remove_even(lst):\n",
    "    return [item for item in lst if item % 2 != 0]\n",
    "\n",
    "result = remove_even([1,2,4,5,10,6,3])\n",
    "result == expected"
   ]
  },
  {
   "cell_type": "markdown",
   "id": "19d008e7",
   "metadata": {},
   "source": [
    "# Problem Statement\n",
    "Implement a function that merges two sorted lists of m and n elements respectively, into another sorted list. Name it merge_lists(lst1, lst2)."
   ]
  },
  {
   "cell_type": "code",
   "execution_count": null,
   "id": "bddbfe40",
   "metadata": {},
   "outputs": [],
   "source": [
    "# input\n",
    "list1 = [1,3,4,5]  \n",
    "list2 = [2,6,7,8]\n",
    "\n",
    "expected = [1,2,3,4,5,6,7,8]\n",
    "\n",
    "# Creating new list\n",
    "def merge_lists(lst1, lst2):\n",
    "    index_arr1 = 0\n",
    "    index_arr2 = 0\n",
    "    index_result = 0\n",
    "    result = []\n",
    "\n",
    "    for i in range(len(lst1)+len(lst2)):\n",
    "        result.append(i)\n",
    "    # Traverse Both lists and insert smaller value from arr1 or arr2\n",
    "    # into result list and then increment that lists index.\n",
    "    # If a list is completely traversed, while other one is left then just\n",
    "    # copy all the remaining elements into result list\n",
    "    while (index_arr1 < len(lst1)) and (index_arr2 < len(lst2)):\n",
    "        if (lst1[index_arr1] < lst2[index_arr2]):\n",
    "            result[index_result] = lst1[index_arr1]\n",
    "            index_result += 1\n",
    "            index_arr1 += 1\n",
    "        else:\n",
    "            result[index_result] = lst2[index_arr2]\n",
    "            index_result += 1\n",
    "            index_arr2 += 1\n",
    "    while (index_arr1 < len(lst1)):\n",
    "        result[index_result] = lst1[index_arr1]\n",
    "        index_result += 1\n",
    "        index_arr1 += 1\n",
    "    while (index_arr2 < len(lst2)):\n",
    "        result[index_result] = lst2[index_arr2]\n",
    "        index_result += 1\n",
    "        index_arr2 += 1\n",
    "    return result\n",
    "\n",
    "\n",
    "# Merging in place\n",
    "def merge_lists(lst1, lst2):\n",
    "    ind1 = 0\n",
    "    ind2 = 0\n",
    "    while(ind1 < len(lst1) and ind2 < len(lst2)):\n",
    "        if(lst1[ind1] > lst2[ind2]):\n",
    "            lst1.insert(ind1, lst2[ind2])\n",
    "            ind1 += 1\n",
    "            ind2 += 1\n",
    "        else:\n",
    "            ind1 += 1\n",
    "\n",
    "    if(ind2 < len(lst2)):\n",
    "        lst1.extend(lst2[ind2:])\n",
    "    return lst1"
   ]
  },
  {
   "cell_type": "markdown",
   "id": "fa641efe",
   "metadata": {},
   "source": [
    "### Challenge 3: Find Two Numbers that Add up to \"k\"\n",
    "In this problem, you have to implement the find_sum(lst,k) function which will take a number k as input and return two numbers that add up to k."
   ]
  },
  {
   "cell_type": "code",
   "execution_count": 8,
   "id": "24524c4c",
   "metadata": {},
   "outputs": [],
   "source": [
    "# input\n",
    "lst = [1,21,3,14,5,60,7,6]\n",
    "k = 81\n",
    "# output\n",
    "lst = [21,60]\n",
    "\n",
    "def find_sum(lst, k):\n",
    "    for i in range(len(lst)):\n",
    "        for j in range(i, len(lst)):\n",
    "            if lst[i]+lst[j] == k:\n",
    "                return [lst[i], lst[j]]\n",
    "    return []\n",
    "\n",
    "\n",
    "def find_sum(lst, k):\n",
    "    dct = {}\n",
    "    for i in range(len(lst)):\n",
    "        dct[k-lst[i]] = lst[i]\n",
    "        if lst[i] in dct.keys():\n",
    "            return [lst[i], k-lst[i]]\n",
    "    return []\n",
    "\n",
    "\n",
    "# Solution #2: Sorting the List\n",
    "def binary_search(a, item):\n",
    "    first = 0\n",
    "    last = len(a) - 1\n",
    "    found = False\n",
    "    index = -1\n",
    "    while first <= last and not found:\n",
    "        mid = (first + last) // 2\n",
    "        if a[mid] == item:\n",
    "            index = mid\n",
    "            found = True\n",
    "        else:\n",
    "            if item < a[mid]:\n",
    "                last = mid - 1\n",
    "            else:\n",
    "                first = mid + 1\n",
    "    if found:\n",
    "        return index\n",
    "    else:\n",
    "        return -1\n",
    "\n",
    "\n",
    "def find_sum(lst, k):\n",
    "    lst.sort()\n",
    "    for j in range(len(lst)):\n",
    "        # find the difference in list through binary search\n",
    "        # return the only if we find an index\n",
    "        index = binary_search(lst, k -lst[j])\n",
    "        if index is not -1 and index is not j:\n",
    "            return [lst[j], k -lst[j]]\n",
    "    \n",
    "\n",
    "\n",
    "print(find_sum([1, 5, 3], 2))\n",
    "print(find_sum([1, 2, 3, 4], 5))\n",
    "\n",
    "\n",
    "# Moving Indices\n",
    "def find_sum(lst, k):\n",
    "    # sort the list\n",
    "    lst.sort()\n",
    "    index1 = 0\n",
    "    index2 = len(lst) - 1\n",
    "    result = []\n",
    "    sum = 0\n",
    "    # iterate from front and back\n",
    "    # move accordingly to reach the sum to be equal to k\n",
    "    # returns false when the two indices meet\n",
    "    while (index1 != index2):\n",
    "        sum = lst[index1] + lst[index2]\n",
    "        if sum < k:\n",
    "            index1 += 1\n",
    "        elif sum > k:\n",
    "            index2 -= 1\n",
    "        else:\n",
    "            result.append(lst[index1])\n",
    "            result.append(lst[index2])\n",
    "            return result\n",
    "    return False\n",
    "\n",
    "\n",
    "print(find_sum([1, 2, 3, 4], 5))\n",
    "print(find_sum([1, 2, 3, 4], 2))"
   ]
  },
  {
   "cell_type": "markdown",
   "id": "d3c1bc58",
   "metadata": {},
   "source": [
    "### Challenge 4: List of Products of all Elements\n",
    "Implement a function, find_product(lst), which modifies a list so that each index has a product of all the numbers present in the list except the number stored at that index."
   ]
  },
  {
   "cell_type": "code",
   "execution_count": 6,
   "id": "e58ec445",
   "metadata": {},
   "outputs": [
    {
     "name": "stdout",
     "output_type": "stream",
     "text": [
      "[24, 12, 8, 6]\n",
      "[6, 0, 0, 0]\n"
     ]
    }
   ],
   "source": [
    "# input\n",
    "arr = [1,2,3,4]\n",
    "\n",
    "# output\n",
    "arr = [24,12,8,6]\n",
    "\n",
    "def find_product(lst):\n",
    "    prod = 1\n",
    "    for i in range(len(lst)):\n",
    "        if lst[i] != 0:\n",
    "            prod *= lst[i]\n",
    "        \n",
    "    new_lst = [None] * len(lst)\n",
    "    for j in range(len(lst)):\n",
    "        if lst[j] == 0:\n",
    "            new_lst[j] = prod\n",
    "        else:\n",
    "            new_lst[j] = prod/lst[j]\n",
    "        \n",
    "    return new_lst\n",
    "\n",
    "def find_product(lst):\n",
    "    result = []\n",
    "    left = 1  # To store product of all previous values from currentIndex\n",
    "    for i in range(len(lst)):\n",
    "        currentproduct = 1  # To store current product for index i\n",
    "        # compute product of values to the right of i index of list\n",
    "        for ele in lst[i+1:]:\n",
    "            currentproduct = currentproduct * ele\n",
    "        # currentproduct * product of all values to the left of i index\n",
    "        result.append(currentproduct * left)\n",
    "        # Updating `left`\n",
    "        left = left * lst[i]\n",
    "\n",
    "    return result\n",
    "\n",
    "\n",
    "print(find_product([1, 2, 3, 4]))\n",
    "\n",
    "\n",
    "def find_product(lst):\n",
    "    # get product start from left\n",
    "    left = 1\n",
    "    product = []\n",
    "    for ele in lst:\n",
    "        product.append(left)\n",
    "        left = left * ele\n",
    "    # get product starting from right\n",
    "    right = 1\n",
    "    for i in range(len(lst)-1, -1, -1):\n",
    "        product[i] = product[i] * right\n",
    "        right = right * lst[i]\n",
    "\n",
    "    return product\n",
    "\n",
    "\n",
    "print(find_product([0, 1, 2, 3]))"
   ]
  },
  {
   "cell_type": "markdown",
   "id": "47d4a635",
   "metadata": {},
   "source": [
    "### Challenge 5: Find Minimum Value in List\n",
    "Implement a function findMinimum(lst) which finds the smallest number in the given list."
   ]
  },
  {
   "cell_type": "code",
   "execution_count": null,
   "id": "7e639715",
   "metadata": {},
   "outputs": [],
   "source": [
    "#input\n",
    "arr = [9,2,3,6]\n",
    "\n",
    "#output 2\n",
    "\n",
    "# Sort the list Complexity: O(nlong)\n",
    "def find_minimum(lst):\n",
    "    if (len(lst) <= 0):\n",
    "        return None\n",
    "    lst.sort()  # sort list\n",
    "    return lst[0]  # return first element\n",
    "\n",
    "\n",
    "print(find_minimum([9, 2, 3, 6]))\n",
    "\n",
    "\n",
    "def find_minimum(lst):\n",
    "    if (len(lst) <= 0):\n",
    "        return None\n",
    "    minimum = lst[0]\n",
    "    for ele in lst:\n",
    "        # update if found a smaller element\n",
    "        if ele < minimum:\n",
    "            minimum = ele\n",
    "    return minimum\n",
    "\n",
    "\n",
    "print(find_minimum([9, 2, 3, 6]))"
   ]
  },
  {
   "cell_type": "markdown",
   "id": "11096da3",
   "metadata": {},
   "source": [
    "### Challenge 7: Find Second Maximum Value in a List\n",
    "Implement a function `find_second_maximum(lst)` which returns the second largest element in the list."
   ]
  },
  {
   "cell_type": "code",
   "execution_count": 11,
   "id": "07bfc4e2",
   "metadata": {},
   "outputs": [
    {
     "name": "stdout",
     "output_type": "stream",
     "text": [
      "6\n"
     ]
    }
   ],
   "source": [
    "# input\n",
    "lst = [9,2,3,6]\n",
    "\n",
    "def find_second_maximum(lst):\n",
    "    maximum = -1**9\n",
    "    second = -1**8\n",
    "    \n",
    "    for i in range(len(lst)):\n",
    "        if maximum <= lst[i]:\n",
    "            second = maximum\n",
    "            maximum = lst[i]\n",
    "        elif second <= lst[i]:\n",
    "            second = lst[i]\n",
    "        \n",
    "    return second\n",
    "\n",
    "print(find_second_maximum([9, 2, 3, 6]))"
   ]
  },
  {
   "cell_type": "markdown",
   "id": "87004cd9",
   "metadata": {},
   "source": [
    "### Challenge 8: Right Rotate List\n",
    "Implement a function right_rotate(lst, k) which will rotate the given list by k. This means that the right-most elements will appear at the left-most position in the list and so on. You only have to rotate the list by one element at a time."
   ]
  },
  {
   "cell_type": "code",
   "execution_count": 25,
   "id": "bf5b73d9",
   "metadata": {},
   "outputs": [
    {
     "name": "stdout",
     "output_type": "stream",
     "text": [
      "[30, 40, 50, 10, 20]\n"
     ]
    }
   ],
   "source": [
    "# input\n",
    "lst = [10, 20, 30, 40, 50]\n",
    "\n",
    "def right_rotate(lst, k):\n",
    "    # get rotation index\n",
    "    if len(lst) == 0:\n",
    "        k = 0\n",
    "    else:\n",
    "        # ローテーションがリストの長さを超えることもある\n",
    "        k = k % len(lst)\n",
    "    return lst[-k:] + lst[:-k]\n",
    "\n",
    "\n",
    "print(right_rotate([10, 20, 30, 40, 50], abs(3)))"
   ]
  },
  {
   "cell_type": "markdown",
   "id": "3ba59d37",
   "metadata": {},
   "source": [
    "### Challenge 9: Rearrange Positive & Negative Values\n",
    "Implement a function rearrange(lst) which rearranges the elements such that all the negative elements appear on the left and positive elements appear at the right of the list. Note that it is not necessary to maintain the sorted order of the input list."
   ]
  },
  {
   "cell_type": "code",
   "execution_count": 29,
   "id": "ec288e12",
   "metadata": {},
   "outputs": [
    {
     "name": "stdout",
     "output_type": "stream",
     "text": [
      "[-1, -9, -6, 10, 20, 4, 5]\n"
     ]
    }
   ],
   "source": [
    "#1: Using Auxiliary Lists \n",
    "def rearrange(lst):\n",
    "    if len(lst) == 0:\n",
    "        return []\n",
    "    \n",
    "    pos_lst = []\n",
    "    neg_lst = []\n",
    "    for i in range(len(lst)):\n",
    "        if lst[i] < 0:\n",
    "            neg_lst.append(lst[i])\n",
    "        else:\n",
    "            pos_lst.append(lst[i])\n",
    "            \n",
    "    sorted_lst = neg_lst + pos_lst\n",
    "    return sorted_lst\n",
    "\n",
    "\n",
    "print(rearrange([10,-1,20,4,5,-9,-6]))\n",
    "\n",
    "\n",
    "#2: Rearranging in Place\n",
    "def rearrange(lst):\n",
    "    leftMostPosEle = 0  # index of left most element\n",
    "    # iterate the list\n",
    "    for curr in range(len(lst)):\n",
    "        # if negative number\n",
    "        if lst[curr] < 0:\n",
    "            # if not the last negative number\n",
    "            if curr != leftMostPosEle:\n",
    "                # swap the two\n",
    "                # 一行で表現すればスワップできる？！\n",
    "                lst[curr], lst[leftMostPosEle] = lst[leftMostPosEle], lst[curr]\n",
    "            # update the last position\n",
    "            leftMostPosEle += 1\n",
    "    return lst\n",
    "\n",
    "\n",
    "print(rearrange([10, -1, 20, 4, 5, -9, -6]))\n",
    "\n",
    "\n",
    "# pythonでfor文見たらリスト内包表記を考えよう\n",
    "def rearrange(lst):\n",
    "    # get negative and positive list after filter and then merge\n",
    "    return [i for i in lst if i < 0] + [i for i in lst if i >= 0]\n",
    "\n",
    "\n",
    "print(rearrange([10, -1, 20, 4, 5, -9, -6]))"
   ]
  },
  {
   "cell_type": "markdown",
   "id": "78fae64d",
   "metadata": {},
   "source": [
    "### Challenge 10: Rearrange Sorted List in Max/Min Form\n",
    "Implement a function called max_min(lst) which will re-arrange the elements of a sorted list such that the 0th index will have the largest number, the 1st index will have the smallest, and the 2nd index will have second-largest, and so on. In other words, all the even-numbered indices will have the largest numbers in the list in descending order and the odd-numbered indices will have the smallest numbers in ascending order."
   ]
  },
  {
   "cell_type": "code",
   "execution_count": 11,
   "id": "eb939ba2",
   "metadata": {},
   "outputs": [
    {
     "name": "stdout",
     "output_type": "stream",
     "text": [
      "[6, 1, 5, 2, 4, 3]\n",
      "[5, 1, 4, 2, 3]\n"
     ]
    }
   ],
   "source": [
    "# input\n",
    "lst = [1,2,3,4,5]\n",
    "# output\n",
    "lst = [5, 1, 4, 2, 3]\n",
    "\n",
    "def max_min(lst):\n",
    "    result = []\n",
    "    # iterate half list\n",
    "    for i in range(len(lst)//2):\n",
    "        # Append corresponding last element\n",
    "        result.append(lst[-(i+1)])\n",
    "        # append current element\n",
    "        result.append(lst[i])\n",
    "    if len(lst) % 2 == 1:\n",
    "        # if middle value then append\n",
    "        result.append(lst[len(lst)//2])\n",
    "    return result\n",
    "\n",
    "\n",
    "print(max_min([1, 2, 3, 4, 5, 6]))\n",
    "print(max_min([1,2,3,4,5]))"
   ]
  },
  {
   "cell_type": "markdown",
   "id": "8339b5cc",
   "metadata": {},
   "source": [
    "### Challenge 11: Maximum Sum Sublist\n",
    "Given an unsorted list AA, the maximum sum sub list is the sub list (contiguous elements) from AA for which the sum of the elements is maximum. In this challenge, we want to find the sum of the maximum sum sub list. This problem is a tricky one because the list might have negative integers in any position, so we have to cater to those negative integers while choosing the continuous sublist with the largest positive values."
   ]
  },
  {
   "cell_type": "code",
   "execution_count": 14,
   "id": "354c0712",
   "metadata": {},
   "outputs": [
    {
     "name": "stdout",
     "output_type": "stream",
     "text": [
      "12\n"
     ]
    }
   ],
   "source": [
    "def find_max_sum_sublist(lst):\n",
    "    max_sum = -1 * float('inf')\n",
    "    \n",
    "    for i in range(len(lst)):\n",
    "        sum_ = lst[i]\n",
    "        if sum_ > max_sum:\n",
    "            max_sum = sum_\n",
    "        for j in range(i+1,len(lst)):\n",
    "            sum_ += lst[j]\n",
    "            if sum_ > max_sum:\n",
    "                max_sum = sum_\n",
    "            \n",
    "    return max_sum\n",
    "\n",
    "lst = [-4,2,-5,1,2,3,6,-5,1]\n",
    "largest_sum = 12\n",
    "print(find_max_sum_sublist(lst))\n",
    "\n",
    "\n",
    "# 最大値だけに着目するパターン\n",
    "def find_max_sum_sublist(lst): \n",
    "    if (len(lst) < 1): \n",
    "        return 0;\n",
    "    curr_max = lst[0];\n",
    "    global_max = lst[0];\n",
    "    length_array = len(lst);\n",
    "    for i in range(1, length_array):\n",
    "        if curr_max < 0: \n",
    "            curr_max = lst[i]\n",
    "        else:\n",
    "            curr_max += lst[i]\n",
    "        \n",
    "        if global_max < curr_max:\n",
    "            global_max = curr_max\n",
    "            \n",
    "    return global_max;\n",
    "\n",
    "lst = [-4, 2, -5, 1, 2, 3, 6, -5, 1];\n",
    "print(\"Sum of largest subarray: \", find_max_sum_sublist(lst));"
   ]
  },
  {
   "cell_type": "code",
   "execution_count": null,
   "id": "6340e160",
   "metadata": {},
   "outputs": [],
   "source": []
  }
 ],
 "metadata": {
  "kernelspec": {
   "display_name": "conda_python3",
   "language": "python",
   "name": "conda_python3"
  },
  "language_info": {
   "codemirror_mode": {
    "name": "ipython",
    "version": 3
   },
   "file_extension": ".py",
   "mimetype": "text/x-python",
   "name": "python",
   "nbconvert_exporter": "python",
   "pygments_lexer": "ipython3",
   "version": "3.6.13"
  }
 },
 "nbformat": 4,
 "nbformat_minor": 5
}
