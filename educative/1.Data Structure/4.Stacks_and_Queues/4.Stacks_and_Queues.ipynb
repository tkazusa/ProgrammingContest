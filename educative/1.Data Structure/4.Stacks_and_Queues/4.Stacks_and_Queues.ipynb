{
 "cells": [
  {
   "cell_type": "markdown",
   "id": "10c1f56d",
   "metadata": {},
   "source": [
    "### Challenge 3: Reversing First k Elements of Queue\n",
    "\n",
    "Implement the function reverseK(queue, k) which takes a queue and a number “k” as input and reverses the first “k” elements of the queue. An illustration is also provided for your understanding."
   ]
  },
  {
   "cell_type": "code",
   "execution_count": 12,
   "id": "888c4238",
   "metadata": {},
   "outputs": [
    {
     "name": "stdout",
     "output_type": "stream",
     "text": [
      "[5, 4, 3, 2, 1, 6, 7, 8, 9, 10]\n"
     ]
    }
   ],
   "source": [
    "from collections import deque\n",
    "\n",
    "\n",
    "Queue = [1,2,3,4,5,6,7,8,9,10]\n",
    "k = 5\n",
    "\n",
    "answer = [5,4,3,2,1,6,7,8,9,10]\n",
    "\n",
    "def reverseK(queue, k):\n",
    "    # Write your code here\n",
    "    stack = deque()\n",
    "    answer = []\n",
    "\n",
    "    for i in range(5):\n",
    "        stack.append(Queue[i])\n",
    "\n",
    "    while stack:\n",
    "        answer.append(stack.pop())\n",
    "\n",
    "    for j in range(k, len(Queue)):\n",
    "        answer.append(Queue[j])\n",
    "        \n",
    "    return answer\n",
    "\n",
    "\n",
    "print(reverseK(Queue,k))"
   ]
  },
  {
   "cell_type": "markdown",
   "id": "8ae4efff",
   "metadata": {},
   "source": [
    "### Challenge 6: Evaluate Postfix Expression Using a Stack\n",
    "\n",
    "The usual convention followed in mathematics is the infix expression. Operators like + and * appear between the two numbers involved in the calculation:\n",
    "\n",
    "6 + 3 * 8 - 4\n",
    "\n",
    "\n",
    "Another convention is the postfix expression where the operators appear after the two numbers involved in the expression. In postfix, the expression written above will be presented as:\n",
    "\n",
    "6 3 8 * + 4 -\n",
    "\n",
    "The two digits preceding an operator will be used with that operator\n",
    "\n",
    "From the first block of digits 6 3 8, we pick the last two which are 3 and 8.\n",
    "Reading the operators from left to right, the first one is *. The expression now becomes 3 * 8\n",
    "The next number is 6 while the next operator is +, so we have 6 + 8 * 3.\n",
    "The value of this expression is followed by 4, which is right before -. Hence we have 6 + 8 * 3 - 4."
   ]
  },
  {
   "cell_type": "code",
   "execution_count": 39,
   "id": "7e0c929a",
   "metadata": {},
   "outputs": [
    {
     "name": "stdout",
     "output_type": "stream",
     "text": [
      "Result of expression (921*-8-4+) : 3\n",
      "Result of expression (921*-8--4+) : Invalid Sequence\n"
     ]
    }
   ],
   "source": [
    "from collections import deque\n",
    "\n",
    "exp = \"921 * - 8 - 4 +\" # 9 - 2 * 1 - 8 + 4\n",
    "\n",
    "def evaluate_post_fix(exp):\n",
    "    stack = deque()\n",
    "    try:\n",
    "        for char in exp:\n",
    "            if not char.isdigit():\n",
    "                one = stack.pop()\n",
    "                two = stack.pop()\n",
    "                answer = eval(str(two+char+one))\n",
    "                stack.append(str(answer))\n",
    "            else:\n",
    "                stack.append(char)\n",
    "        return int(float(stack.pop()))\n",
    "    except:\n",
    "        return \"Invalid Sequence\"\n",
    "            \n",
    "if __name__ == \"__main__\" :\n",
    "    print(\"Result of expression (921*-8-4+) : \" + str(evaluate_post_fix(\"921*-8-4+\")))\n",
    "    print(\"Result of expression (921*-8--4+) : \" + str(evaluate_post_fix(\"921*-8--4+\")))"
   ]
  },
  {
   "cell_type": "markdown",
   "id": "5b3daa5e",
   "metadata": {},
   "source": [
    "### Challenge 7: Next Greater Element Using a Stack\n",
    "\n",
    "You are required to implement the next_greater_element() function. For each element ii in a list, the function finds the first element to its right which is greater than element ii. If for any element such a value does not exist, the answer is -1."
   ]
  },
  {
   "cell_type": "code",
   "execution_count": 42,
   "id": "ca885e12",
   "metadata": {},
   "outputs": [
    {
     "name": "stdout",
     "output_type": "stream",
     "text": [
      "4 -- 6\n",
      "6 -- 8\n",
      "3 -- 8\n",
      "2 -- 8\n",
      "8 -- 9\n",
      "1 -- 9\n",
      "9 -- -1\n",
      "9 -- -1\n",
      "9 -- -1\n"
     ]
    }
   ],
   "source": [
    "# Brute Force\n",
    "def next_greater_element(lst):\n",
    "    res = []\n",
    "    # Iterate list\n",
    "    for i in range(0, len(lst)):\n",
    "        # initialise nextGreatest to -1\n",
    "        next_greatest = -1\n",
    "        for j in range(i+1, len(lst)):\n",
    "            # Update nextGreatest when greater value found\n",
    "            if lst[i] < lst[j]:\n",
    "                next_greatest = lst[j]\n",
    "                break\n",
    "        # append next greatest\n",
    "        res.append(next_greatest)\n",
    "        print(str(lst[i]) + \" -- \" + str(next_greatest))\n",
    "    return res\n",
    "\n",
    "if __name__ == \"__main__\" :\n",
    "    next_greater_element([4, 6, 3, 2, 8, 1, 9, 9, 9])"
   ]
  },
  {
   "cell_type": "code",
   "execution_count": 49,
   "id": "5cb02bc3",
   "metadata": {},
   "outputs": [
    {
     "name": "stdout",
     "output_type": "stream",
     "text": [
      "4 -- 9\n",
      "6 -- 9\n",
      "3 -- 9\n",
      "2 -- 9\n",
      "8 -- 9\n",
      "1 -- 9\n",
      "9 -- -1\n",
      "9 -- -1\n",
      "9 -- -1\n"
     ]
    }
   ],
   "source": [
    "from collections import deque\n",
    "\n",
    "def next_greater_element(lst):\n",
    "    stack = deque()\n",
    "    \n",
    "    # 大きい値がなければ -1 を返す\n",
    "    res = [-1] * len(lst)\n",
    "    \n",
    "    # 自分よりも右側にあるものと比較したいから、右から調べる、リバースする。\n",
    "    for i in range(len(lst) - 1, -1, -1):\n",
    "        ''' While stack has elements and current element is greater \n",
    "        than top element, pop all elements '''\n",
    "        while not len(stack) == 0 and stack[0] <= lst[i]:\n",
    "            stack.pop()\n",
    "        ''' If stack has an element, top element will be \n",
    "        greater than ith element '''\n",
    "        if not len(stack)== 0:\n",
    "            res[i] = stack[0]\n",
    "        # push in the current element in stack\n",
    "        stack.append(lst[i])\n",
    "    for i in range(len(lst)):\n",
    "        print(str(lst[i]) + \" -- \" + str(res[i]))\n",
    "    return res\n",
    "\n",
    "if __name__ == \"__main__\" :\n",
    "    nge = next_greater_element([4, 6, 3, 2, 8, 1, 9, 9, 9])"
   ]
  }
 ],
 "metadata": {
  "kernelspec": {
   "display_name": "conda_python3",
   "language": "python",
   "name": "conda_python3"
  },
  "language_info": {
   "codemirror_mode": {
    "name": "ipython",
    "version": 3
   },
   "file_extension": ".py",
   "mimetype": "text/x-python",
   "name": "python",
   "nbconvert_exporter": "python",
   "pygments_lexer": "ipython3",
   "version": "3.6.13"
  }
 },
 "nbformat": 4,
 "nbformat_minor": 5
}
