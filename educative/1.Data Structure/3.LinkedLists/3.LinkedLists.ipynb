{
 "cells": [
  {
   "cell_type": "markdown",
   "id": "3f351519",
   "metadata": {},
   "source": [
    "### Challenge 1: Insertion at Tail\n",
    "We need to insert a new object at the end of the linked list. You can naturally guess that this newly added node will point to None as it is at the tail."
   ]
  },
  {
   "cell_type": "code",
   "execution_count": 1,
   "id": "4c6b75a4",
   "metadata": {},
   "outputs": [
    {
     "name": "stdout",
     "output_type": "stream",
     "text": [
      "List is Empty\n",
      "0 -> None\n",
      "0 -> 1 -> None\n",
      "0 -> 1 -> 2 -> None\n",
      "0 -> 1 -> 2 -> 3 -> None\n"
     ]
    },
    {
     "data": {
      "text/plain": [
       "True"
      ]
     },
     "execution_count": 1,
     "metadata": {},
     "output_type": "execute_result"
    }
   ],
   "source": [
    "from LinkedList import LinkedList\n",
    "from Node import Node\n",
    "# Access HeadNode => list.getHead()\n",
    "# Check if list is empty => list.isEmpty()\n",
    "# Node class  { int data ; Node nextElement;}\n",
    "\n",
    "# Inserts a value at the end of the list\n",
    "\n",
    "\n",
    "def insert_at_tail(lst, value):\n",
    "    # Creating a new node\n",
    "    new_node = Node(value)\n",
    "\n",
    "    # Check if the list is empty, if it is simply point head to new node\n",
    "    if lst.get_head() is None:\n",
    "        lst.head_node = new_node\n",
    "        return\n",
    "\n",
    "    # if list not empty, traverse the list to the last node\n",
    "    temp = lst.get_head()\n",
    "\n",
    "    while temp.next_element:\n",
    "        temp = temp.next_element\n",
    "\n",
    "    # Set the nextElement of the previous node to new node\n",
    "    temp.next_element = new_node\n",
    "    return\n",
    "\n",
    "\n",
    "lst = LinkedList()\n",
    "lst.print_list()\n",
    "insert_at_tail(lst, 0)\n",
    "lst.print_list()\n",
    "insert_at_tail(lst, 1)\n",
    "lst.print_list()\n",
    "insert_at_tail(lst, 2)\n",
    "lst.print_list()\n",
    "insert_at_tail(lst, 3)\n",
    "lst.print_list()"
   ]
  },
  {
   "cell_type": "markdown",
   "id": "69d71a27",
   "metadata": {},
   "source": [
    "### Challenge 2: Search in a Singly Linked List \n",
    "The search algorithm in a linked list can be generalized to the following steps:\n",
    "\n",
    "Start from the head node.\n",
    "Traverse the list till you either find a node with the given value or you reach the end node which will indicate that the given node doesn’t exist in the list."
   ]
  },
  {
   "cell_type": "code",
   "execution_count": 2,
   "id": "eb2b5993",
   "metadata": {},
   "outputs": [
    {
     "name": "stdout",
     "output_type": "stream",
     "text": [
      "5 -> 40 -> 10 -> 4 -> None\n",
      "True\n"
     ]
    }
   ],
   "source": [
    "def search(node, value):\n",
    "\n",
    "    # Base case\n",
    "    if(not node):\n",
    "        return False  # value not found\n",
    "\n",
    "    # check if the node's data matches our value\n",
    "    if(node.data is value):\n",
    "        return True  # value found\n",
    "\n",
    "    # Recursive call to next node in the list\n",
    "    return search(node.next_element, value)\n",
    "\n",
    "\n",
    "lst = LinkedList()\n",
    "lst.insert_at_head(4)\n",
    "lst.insert_at_head(10)\n",
    "lst.insert_at_head(40)\n",
    "lst.insert_at_head(5)\n",
    "lst.print_list()\n",
    "print(search(lst.get_head(), 4))"
   ]
  },
  {
   "cell_type": "markdown",
   "id": "36d1ce03",
   "metadata": {},
   "source": [
    "### Challenge 3: Deletion by Value\n",
    "\n",
    "In this lesson, you’ll be implementing the delete by value strategy. We’ll describe its functionality, which should give you a clearer idea of what you have to do."
   ]
  },
  {
   "cell_type": "code",
   "execution_count": 3,
   "id": "7f9c2d61",
   "metadata": {},
   "outputs": [
    {
     "name": "stdout",
     "output_type": "stream",
     "text": [
      "2 -> 3 -> 4 -> 1 -> None\n",
      "2 -> 3 -> 1 -> None\n"
     ]
    },
    {
     "data": {
      "text/plain": [
       "True"
      ]
     },
     "execution_count": 3,
     "metadata": {},
     "output_type": "execute_result"
    }
   ],
   "source": [
    "from LinkedList import LinkedList\n",
    "from Node import Node\n",
    "\n",
    "# Access head_node => list.get_head()\n",
    "# Check if list is empty => list.is_empty()\n",
    "# Delete at head => list.delete_at_head()\n",
    "# Search for element => list.search()\n",
    "# Node class  { int data ; Node next_element;}\n",
    "\n",
    "\n",
    "def delete(lst, value):\n",
    "    prev_node = lst.get_head()\n",
    "    if not prev_node:\n",
    "        return False\n",
    "    elif prev_node.data == value:\n",
    "        lst.head_node = prev_node.next_element\n",
    "        return True\n",
    "    \n",
    "    \n",
    "    temp_node = prev_node.next_element    \n",
    "    while temp_node is not None:\n",
    "        if temp_node.data == value:\n",
    "            prev_node.next_element = temp_node.next_element\n",
    "            return True\n",
    "        else:\n",
    "            prev_node = temp_node\n",
    "            temp_node = temp_node.next_element\n",
    "        \n",
    "    return False\n",
    "            \n",
    "lst = LinkedList()\n",
    "lst.insert_at_head(1)\n",
    "lst.insert_at_head(4)\n",
    "lst.insert_at_head(3)\n",
    "lst.insert_at_head(2)\n",
    "lst.print_list()\n",
    "delete(lst, 4)\n",
    "lst.print_list()"
   ]
  },
  {
   "cell_type": "markdown",
   "id": "584f8a13",
   "metadata": {},
   "source": [
    "### Challenge 4: Find the Length of a Linked List\n",
    "\n",
    "In this problem, you have to implement the length() function which will find the length of a given linked list."
   ]
  },
  {
   "cell_type": "code",
   "execution_count": 4,
   "id": "3e63b857",
   "metadata": {},
   "outputs": [
    {
     "name": "stdout",
     "output_type": "stream",
     "text": [
      "5\n"
     ]
    }
   ],
   "source": [
    "from Node import Node\n",
    "from LinkedList import LinkedList\n",
    "# Access head_node => list.get_head()\n",
    "# Check if list is empty => list.is_empty()\n",
    "# Delete at head => list.delete_at_head()\n",
    "# Delete by value => list.delete(value)\n",
    "# Search for element => list.search()\n",
    "# Node class attributes: {data, next_element}\n",
    "\n",
    "\n",
    "def length(lst):\n",
    "    count = 0\n",
    "    current_node = lst.get_head()\n",
    "    while current_node is not None:\n",
    "        count += 1\n",
    "        current_node = current_node.next_element\n",
    "\n",
    "    return count\n",
    "    \n",
    "lst = LinkedList()\n",
    "lst.insert_at_head(4)\n",
    "lst.insert_at_head(3)\n",
    "lst.insert_at_head(2)\n",
    "lst.insert_at_head(1)\n",
    "lst.insert_at_head(0)\n",
    "print(length(lst))"
   ]
  },
  {
   "cell_type": "markdown",
   "id": "afb12179",
   "metadata": {},
   "source": [
    "### Challenge 5: Reverse a Linked List\n",
    "\n",
    "You have to define the reverse function, which takes a singly linked list and produces the exact opposite list, i.e., the links of the output linked list should be reversed."
   ]
  },
  {
   "cell_type": "code",
   "execution_count": 5,
   "id": "64a0197b",
   "metadata": {},
   "outputs": [
    {
     "name": "stdout",
     "output_type": "stream",
     "text": [
      "10 -> 9 -> 4 -> 6 -> None\n",
      "6 -> 4 -> 9 -> 10 -> None\n"
     ]
    },
    {
     "data": {
      "text/plain": [
       "True"
      ]
     },
     "execution_count": 5,
     "metadata": {},
     "output_type": "execute_result"
    }
   ],
   "source": [
    "from LinkedList import LinkedList\n",
    "from Node import Node\n",
    "def reverse(lst):\n",
    "    # To reverse linked, we need to keep track of three things\n",
    "    previous = None # Maintain track of the previous node\n",
    "    current = lst.get_head() # The current node\n",
    "    next = None # The next node in the list\n",
    "\n",
    "    #Reversal\n",
    "    while current:\n",
    "        next = current.next_element\n",
    "        current.next_element = previous\n",
    "        previous = current\n",
    "        current = next\n",
    "\n",
    "        #Set the last element as the new head node\n",
    "        lst.head_node = previous\n",
    "    return lst\n",
    "\n",
    "\n",
    "lst = LinkedList()\n",
    "lst.insert_at_head(6)\n",
    "lst.insert_at_head(4)\n",
    "lst.insert_at_head(9)\n",
    "lst.insert_at_head(10)\n",
    "lst.print_list()\n",
    "\n",
    "reverse(lst)\n",
    "lst.print_list()"
   ]
  },
  {
   "cell_type": "markdown",
   "id": "a091204d",
   "metadata": {},
   "source": [
    "### Challenge 6: Detect Loop in a Linked List\n",
    "\n",
    "You must implement the detect_loop() function which will take a linked list as input and deduce whether or not a loop is present."
   ]
  },
  {
   "cell_type": "code",
   "execution_count": 6,
   "id": "8c451585",
   "metadata": {},
   "outputs": [
    {
     "name": "stdout",
     "output_type": "stream",
     "text": [
      "True\n"
     ]
    }
   ],
   "source": [
    "from LinkedList import LinkedList\n",
    "from Node import Node\n",
    "# Access head_node => list.get_head()\n",
    "# Check if list is empty => list.is_empty()\n",
    "# Delete at head => list.delete_at_head()\n",
    "# Delete by value => list.delete(value)\n",
    "# Search for element => list.search()\n",
    "# Length of the list => list.length()\n",
    "# Node class  { int data ; Node next_element;}\n",
    "\n",
    "\n",
    "def detect_loop(lst):\n",
    "    current_node = lst.get_head()\n",
    "    \n",
    "    nodes = set()\n",
    "    while current_node is not None:\n",
    "        if current_node in nodes:\n",
    "            return True\n",
    "        else:\n",
    "            nodes.add(current_node)\n",
    "    return False\n",
    "\n",
    "lst = LinkedList()\n",
    "\n",
    "lst.insert_at_head(21)\n",
    "lst.insert_at_head(14)\n",
    "lst.insert_at_head(7)\n",
    "\n",
    "# Adding a loop\n",
    "head = lst.get_head()\n",
    "node = lst.get_head()\n",
    "\n",
    "for i in range(4):\n",
    "    if node.next_element is None:\n",
    "        node.next_element = head.next_element\n",
    "        break\n",
    "    node = node.next_element\n",
    "\n",
    "print(detect_loop(lst))"
   ]
  },
  {
   "cell_type": "markdown",
   "id": "a18f85b2",
   "metadata": {},
   "source": [
    "### Challenge 7: Find Middle Node of Linked List\n",
    "\n",
    "You have to implement the find_mid() function which will take a linked list as an input and return the value of the middle node. If the length of the list is even, the middle value will occur at \\frac{length}{2}\n",
    "​2\n",
    "​\n",
    "​length\n",
    "​​ . For a list of odd length, the middle value will be \\frac{length}{2}+1\n",
    "​2\n",
    "​\n",
    "​length\n",
    "​​ +1."
   ]
  },
  {
   "cell_type": "code",
   "execution_count": 7,
   "id": "75c1499c",
   "metadata": {},
   "outputs": [
    {
     "name": "stdout",
     "output_type": "stream",
     "text": [
      "7 -> 14 -> 10 -> 21 -> 22 -> None\n"
     ]
    },
    {
     "ename": "AttributeError",
     "evalue": "'LinkedList' object has no attribute 'length'",
     "output_type": "error",
     "traceback": [
      "\u001b[0;31m---------------------------------------------------------------------------\u001b[0m",
      "\u001b[0;31mAttributeError\u001b[0m                            Traceback (most recent call last)",
      "\u001b[0;32m<ipython-input-7-9ac3f0305130>\u001b[0m in \u001b[0;36m<module>\u001b[0;34m\u001b[0m\n\u001b[1;32m     32\u001b[0m \u001b[0;34m\u001b[0m\u001b[0m\n\u001b[1;32m     33\u001b[0m \u001b[0mlst\u001b[0m\u001b[0;34m.\u001b[0m\u001b[0mprint_list\u001b[0m\u001b[0;34m(\u001b[0m\u001b[0;34m)\u001b[0m\u001b[0;34m\u001b[0m\u001b[0;34m\u001b[0m\u001b[0m\n\u001b[0;32m---> 34\u001b[0;31m \u001b[0mprint\u001b[0m\u001b[0;34m(\u001b[0m\u001b[0mfind_mid\u001b[0m\u001b[0;34m(\u001b[0m\u001b[0mlst\u001b[0m\u001b[0;34m)\u001b[0m\u001b[0;34m)\u001b[0m\u001b[0;34m\u001b[0m\u001b[0;34m\u001b[0m\u001b[0m\n\u001b[0m",
      "\u001b[0;32m<ipython-input-7-9ac3f0305130>\u001b[0m in \u001b[0;36mfind_mid\u001b[0;34m(lst)\u001b[0m\n\u001b[1;32m     13\u001b[0m     \u001b[0mnode\u001b[0m \u001b[0;34m=\u001b[0m \u001b[0mlst\u001b[0m\u001b[0;34m.\u001b[0m\u001b[0mget_head\u001b[0m\u001b[0;34m(\u001b[0m\u001b[0;34m)\u001b[0m\u001b[0;34m\u001b[0m\u001b[0;34m\u001b[0m\u001b[0m\n\u001b[1;32m     14\u001b[0m     \u001b[0mmid\u001b[0m \u001b[0;34m=\u001b[0m \u001b[0;36m0\u001b[0m\u001b[0;34m\u001b[0m\u001b[0;34m\u001b[0m\u001b[0m\n\u001b[0;32m---> 15\u001b[0;31m     \u001b[0;32mif\u001b[0m \u001b[0mlst\u001b[0m\u001b[0;34m.\u001b[0m\u001b[0mlength\u001b[0m\u001b[0;34m(\u001b[0m\u001b[0;34m)\u001b[0m \u001b[0;34m%\u001b[0m \u001b[0;36m2\u001b[0m \u001b[0;34m==\u001b[0m \u001b[0;36m0\u001b[0m\u001b[0;34m:\u001b[0m\u001b[0;34m\u001b[0m\u001b[0;34m\u001b[0m\u001b[0m\n\u001b[0m\u001b[1;32m     16\u001b[0m         \u001b[0mmid\u001b[0m \u001b[0;34m=\u001b[0m \u001b[0mlst\u001b[0m\u001b[0;34m.\u001b[0m\u001b[0mlength\u001b[0m\u001b[0;34m(\u001b[0m\u001b[0;34m)\u001b[0m\u001b[0;34m//\u001b[0m\u001b[0;36m2\u001b[0m\u001b[0;34m\u001b[0m\u001b[0;34m\u001b[0m\u001b[0m\n\u001b[1;32m     17\u001b[0m     \u001b[0;32melse\u001b[0m\u001b[0;34m:\u001b[0m\u001b[0;34m\u001b[0m\u001b[0;34m\u001b[0m\u001b[0m\n",
      "\u001b[0;31mAttributeError\u001b[0m: 'LinkedList' object has no attribute 'length'"
     ]
    }
   ],
   "source": [
    "from LinkedList import LinkedList\n",
    "from Node import Node\n",
    "# Access HeadNode => list.getHead()\n",
    "# Check length => list.length()\n",
    "# Check if list is empty => list.isEmpty()\n",
    "# Node class  { int data ; Node nextElement;}\n",
    "\n",
    "\n",
    "def find_mid(lst):\n",
    "    if lst.is_empty():\n",
    "        return None\n",
    "\n",
    "    node = lst.get_head()\n",
    "    mid = 0\n",
    "    if lst.length() % 2 == 0:\n",
    "        mid = lst.length()//2\n",
    "    else:\n",
    "        mid = lst.length()//2 + 1\n",
    "\n",
    "    for i in range(mid - 1):\n",
    "        node = node.next_element\n",
    "\n",
    "    return node.data\n",
    "\n",
    "\n",
    "lst = LinkedList()\n",
    "lst.insert_at_head(22)\n",
    "lst.insert_at_head(21)\n",
    "lst.insert_at_head(10)\n",
    "lst.insert_at_head(14)\n",
    "lst.insert_at_head(7)\n",
    "\n",
    "lst.print_list()\n",
    "print(find_mid(lst))"
   ]
  },
  {
   "cell_type": "code",
   "execution_count": 8,
   "id": "d837ba75",
   "metadata": {},
   "outputs": [
    {
     "name": "stdout",
     "output_type": "stream",
     "text": [
      "7 -> 14 -> 10 -> 21 -> 22 -> None\n",
      "10\n"
     ]
    }
   ],
   "source": [
    "from LinkedList import LinkedList\n",
    "from Node import Node\n",
    "def find_mid(lst):\n",
    "    if lst.is_empty():\n",
    "        return -1\n",
    "    current_node = lst.get_head()\n",
    "    if current_node.next_element == None:\n",
    "        #Only 1 element exist in array so return its value.\n",
    "        return current_node.data\n",
    "\n",
    "    mid_node = current_node\n",
    "    current_node = current_node.next_element.next_element\n",
    "    #Move mid_node (Slower) one step at a time\n",
    "    #Move current_node (Faster) two steps at a time\n",
    "    #When current_node reaches at end, mid_node will be at the middle of List \n",
    "    while current_node:\n",
    "        mid_node = mid_node.next_element\n",
    "        current_node = current_node.next_element\n",
    "        if current_node:\n",
    "            current_node = current_node.next_element\n",
    "    if mid_node:\n",
    "        return mid_node.data\n",
    "    return -1\n",
    "\n",
    "lst = LinkedList()\n",
    "lst.insert_at_head(22)\n",
    "lst.insert_at_head(21)\n",
    "lst.insert_at_head(10)\n",
    "lst.insert_at_head(14)\n",
    "lst.insert_at_head(7)\n",
    "\n",
    "lst.print_list()\n",
    "print(find_mid(lst))"
   ]
  },
  {
   "cell_type": "markdown",
   "id": "607e9134",
   "metadata": {},
   "source": [
    "### Challenge 8: Remove Duplicates from Linked List\n",
    "You will now be implementing the remove_duplicates() function. When a linked list is passed to this function, it removes any node which is a duplicate of another existing node."
   ]
  },
  {
   "cell_type": "code",
   "execution_count": 9,
   "id": "a7249418",
   "metadata": {},
   "outputs": [
    {
     "name": "stdout",
     "output_type": "stream",
     "text": [
      "7 -> 14 -> 21 -> 14 -> 22 -> 7 -> 7 -> 7 -> None\n",
      "7 -> 14 -> 21 -> 22 -> None\n"
     ]
    },
    {
     "data": {
      "text/plain": [
       "True"
      ]
     },
     "execution_count": 9,
     "metadata": {},
     "output_type": "execute_result"
    }
   ],
   "source": [
    "from LinkedList import LinkedList\n",
    "from Node import Node\n",
    "# Access head_node => list.get_head()\n",
    "# Check if list is empty => list.is_empty()\n",
    "# Delete at head => list.delete_at_head()\n",
    "# Delete by value => list.delete(value)\n",
    "# Search for element => list.search()\n",
    "# Length of the list => list.length()\n",
    "# Node class  { int data ; Node next_element;}\n",
    "\n",
    "\n",
    "def remove_duplicates(lst):\n",
    "    previous_node = None\n",
    "    current_node = lst.get_head()\n",
    "    nodes = set()\n",
    "    while current_node is not None:\n",
    "        if current_node.data in nodes:\n",
    "            previous_node.next_element = current_node.next_element\n",
    "            current_node = current_node.next_element\n",
    "        else:\n",
    "            nodes.add(current_node.data)\n",
    "            previous_node = current_node\n",
    "            current_node = current_node.next_element\n",
    "            \n",
    "    return lst\n",
    "        \n",
    "        \n",
    "        \n",
    "lst = LinkedList()\n",
    "lst.insert_at_head(7)\n",
    "lst.insert_at_head(7)\n",
    "lst.insert_at_head(7)\n",
    "lst.insert_at_head(22)\n",
    "lst.insert_at_head(14)\n",
    "lst.insert_at_head(21)\n",
    "lst.insert_at_head(14)\n",
    "lst.insert_at_head(7)\n",
    "\n",
    "\n",
    "lst.print_list()\n",
    "remove_duplicates(lst)\n",
    "lst.print_list()   "
   ]
  },
  {
   "cell_type": "markdown",
   "id": "67802e21",
   "metadata": {},
   "source": [
    "### Challenge 9: Union & Intersection of Linked Lists\n",
    "The union function will take two linked lists and return their union.\n",
    "\n",
    "The intersection function will return all the elements that are common between two linked lists."
   ]
  },
  {
   "cell_type": "code",
   "execution_count": 10,
   "id": "71a4bc47",
   "metadata": {},
   "outputs": [
    {
     "name": "stdout",
     "output_type": "stream",
     "text": [
      "List 1\n",
      "15 -> 22 -> 8 -> None\n",
      "List 2\n",
      "7 -> 14 -> 21 -> None\n"
     ]
    },
    {
     "ename": "AttributeError",
     "evalue": "'LinkedList' object has no attribute 'remove_duplicates'",
     "output_type": "error",
     "traceback": [
      "\u001b[0;31m---------------------------------------------------------------------------\u001b[0m",
      "\u001b[0;31mAttributeError\u001b[0m                            Traceback (most recent call last)",
      "\u001b[0;32m<ipython-input-10-9a8e98c5b2a3>\u001b[0m in \u001b[0;36m<module>\u001b[0;34m\u001b[0m\n\u001b[1;32m     38\u001b[0m \u001b[0mulist2\u001b[0m\u001b[0;34m.\u001b[0m\u001b[0mprint_list\u001b[0m\u001b[0;34m(\u001b[0m\u001b[0;34m)\u001b[0m\u001b[0;34m\u001b[0m\u001b[0;34m\u001b[0m\u001b[0m\n\u001b[1;32m     39\u001b[0m \u001b[0;34m\u001b[0m\u001b[0m\n\u001b[0;32m---> 40\u001b[0;31m \u001b[0mnew_list\u001b[0m \u001b[0;34m=\u001b[0m \u001b[0munion\u001b[0m\u001b[0;34m(\u001b[0m\u001b[0mulist1\u001b[0m\u001b[0;34m,\u001b[0m\u001b[0mulist2\u001b[0m\u001b[0;34m)\u001b[0m\u001b[0;34m\u001b[0m\u001b[0;34m\u001b[0m\u001b[0m\n\u001b[0m\u001b[1;32m     41\u001b[0m \u001b[0;34m\u001b[0m\u001b[0m\n\u001b[1;32m     42\u001b[0m \u001b[0mprint\u001b[0m\u001b[0;34m(\u001b[0m\u001b[0;34m\"Union of list 1 and 2\"\u001b[0m\u001b[0;34m)\u001b[0m\u001b[0;34m\u001b[0m\u001b[0;34m\u001b[0m\u001b[0m\n",
      "\u001b[0;32m<ipython-input-10-9a8e98c5b2a3>\u001b[0m in \u001b[0;36munion\u001b[0;34m(list1, list2)\u001b[0m\n\u001b[1;32m     18\u001b[0m     \u001b[0;31m# Link last element of first list to the first element of second list\u001b[0m\u001b[0;34m\u001b[0m\u001b[0;34m\u001b[0m\u001b[0;34m\u001b[0m\u001b[0m\n\u001b[1;32m     19\u001b[0m     \u001b[0mstart\u001b[0m\u001b[0;34m.\u001b[0m\u001b[0mnext_element\u001b[0m \u001b[0;34m=\u001b[0m \u001b[0mlist2\u001b[0m\u001b[0;34m.\u001b[0m\u001b[0mget_head\u001b[0m\u001b[0;34m(\u001b[0m\u001b[0;34m)\u001b[0m\u001b[0;34m\u001b[0m\u001b[0;34m\u001b[0m\u001b[0m\n\u001b[0;32m---> 20\u001b[0;31m     \u001b[0mlist1\u001b[0m\u001b[0;34m.\u001b[0m\u001b[0mremove_duplicates\u001b[0m\u001b[0;34m(\u001b[0m\u001b[0;34m)\u001b[0m\u001b[0;34m\u001b[0m\u001b[0;34m\u001b[0m\u001b[0m\n\u001b[0m\u001b[1;32m     21\u001b[0m     \u001b[0;32mreturn\u001b[0m \u001b[0mlist1\u001b[0m\u001b[0;34m\u001b[0m\u001b[0;34m\u001b[0m\u001b[0m\n\u001b[1;32m     22\u001b[0m \u001b[0;34m\u001b[0m\u001b[0m\n",
      "\u001b[0;31mAttributeError\u001b[0m: 'LinkedList' object has no attribute 'remove_duplicates'"
     ]
    }
   ],
   "source": [
    "from LinkedList import LinkedList\n",
    "from Node import Node\n",
    "\n",
    "\n",
    "def union(list1, list2):\n",
    "    # Return other List if one of them is empty\n",
    "    if (list1.is_empty()):\n",
    "        return list2\n",
    "    elif (list2.is_empty()):\n",
    "        return list1\n",
    "\n",
    "    start = list1.get_head()\n",
    "\n",
    "    # Traverse the first list till the tail\n",
    "    while start.next_element:\n",
    "        start = start.next_element\n",
    "\n",
    "    # Link last element of first list to the first element of second list\n",
    "    start.next_element = list2.get_head()\n",
    "    list1.remove_duplicates()\n",
    "    return list1\n",
    "\n",
    "\n",
    "ulist1 = LinkedList()\n",
    "ulist2 = LinkedList()\n",
    "ulist1.insert_at_head(8)\n",
    "ulist1.insert_at_head(22)\n",
    "ulist1.insert_at_head(15)\n",
    "\n",
    "print(\"List 1\")\n",
    "ulist1.print_list()\n",
    "\n",
    "ulist2.insert_at_head(21)\n",
    "ulist2.insert_at_head(14)\n",
    "ulist2.insert_at_head(7)\n",
    "\n",
    "print(\"List 2\")\n",
    "ulist2.print_list()\n",
    "\n",
    "new_list = union(ulist1,ulist2)\n",
    "\n",
    "print(\"Union of list 1 and 2\")\n",
    "new_list.print_list()"
   ]
  },
  {
   "cell_type": "code",
   "execution_count": 11,
   "id": "e1bae66d",
   "metadata": {},
   "outputs": [
    {
     "name": "stdout",
     "output_type": "stream",
     "text": [
      "22  is not in List!\n"
     ]
    },
    {
     "ename": "AttributeError",
     "evalue": "'LinkedList' object has no attribute 'remove_duplicates'",
     "output_type": "error",
     "traceback": [
      "\u001b[0;31m---------------------------------------------------------------------------\u001b[0m",
      "\u001b[0;31mAttributeError\u001b[0m                            Traceback (most recent call last)",
      "\u001b[0;32m<ipython-input-11-bbcdae124a00>\u001b[0m in \u001b[0;36m<module>\u001b[0;34m\u001b[0m\n\u001b[1;32m     32\u001b[0m \u001b[0milist2\u001b[0m\u001b[0;34m.\u001b[0m\u001b[0minsert_at_head\u001b[0m\u001b[0;34m(\u001b[0m\u001b[0;36m15\u001b[0m\u001b[0;34m)\u001b[0m\u001b[0;34m\u001b[0m\u001b[0;34m\u001b[0m\u001b[0m\n\u001b[1;32m     33\u001b[0m \u001b[0;34m\u001b[0m\u001b[0m\n\u001b[0;32m---> 34\u001b[0;31m \u001b[0mlst\u001b[0m \u001b[0;34m=\u001b[0m \u001b[0mintersection\u001b[0m\u001b[0;34m(\u001b[0m\u001b[0milist1\u001b[0m\u001b[0;34m,\u001b[0m \u001b[0milist2\u001b[0m\u001b[0;34m)\u001b[0m\u001b[0;34m\u001b[0m\u001b[0;34m\u001b[0m\u001b[0m\n\u001b[0m\u001b[1;32m     35\u001b[0m \u001b[0mlst\u001b[0m\u001b[0;34m.\u001b[0m\u001b[0mprint_list\u001b[0m\u001b[0;34m(\u001b[0m\u001b[0;34m)\u001b[0m\u001b[0;34m\u001b[0m\u001b[0;34m\u001b[0m\u001b[0m\n",
      "\u001b[0;32m<ipython-input-11-bbcdae124a00>\u001b[0m in \u001b[0;36mintersection\u001b[0;34m(list1, list2)\u001b[0m\n\u001b[1;32m     17\u001b[0m \u001b[0;34m\u001b[0m\u001b[0m\n\u001b[1;32m     18\u001b[0m     \u001b[0;31m# Remove duplicates if any\u001b[0m\u001b[0;34m\u001b[0m\u001b[0;34m\u001b[0m\u001b[0;34m\u001b[0m\u001b[0m\n\u001b[0;32m---> 19\u001b[0;31m     \u001b[0mresult\u001b[0m\u001b[0;34m.\u001b[0m\u001b[0mremove_duplicates\u001b[0m\u001b[0;34m(\u001b[0m\u001b[0;34m)\u001b[0m\u001b[0;34m\u001b[0m\u001b[0;34m\u001b[0m\u001b[0m\n\u001b[0m\u001b[1;32m     20\u001b[0m     \u001b[0;32mreturn\u001b[0m \u001b[0mresult\u001b[0m\u001b[0;34m\u001b[0m\u001b[0;34m\u001b[0m\u001b[0m\n\u001b[1;32m     21\u001b[0m \u001b[0;34m\u001b[0m\u001b[0m\n",
      "\u001b[0;31mAttributeError\u001b[0m: 'LinkedList' object has no attribute 'remove_duplicates'"
     ]
    }
   ],
   "source": [
    "from LinkedList import LinkedList\n",
    "from Node import Node\n",
    "\n",
    "\n",
    "def intersection(list1, list2):\n",
    "\n",
    "    result = LinkedList()\n",
    "    current_node = list1.get_head()\n",
    "\n",
    "    # Traversing list1 and searching in list2\n",
    "    # insert in result if the value exists\n",
    "    while current_node is not None:\n",
    "        value = current_node.data\n",
    "        if list2.search(value) is not None:\n",
    "            result.insert_at_head(value)\n",
    "        current_node = current_node.next_element\n",
    "\n",
    "    # Remove duplicates if any\n",
    "    result.remove_duplicates()\n",
    "    return result\n",
    "\n",
    "\n",
    "ilist1 = LinkedList()\n",
    "ilist2 = LinkedList()\n",
    "\n",
    "ilist1.insert_at_head(14)\n",
    "ilist1.insert_at_head(22)\n",
    "ilist1.insert_at_head(15)\n",
    "\n",
    "ilist2.insert_at_head(21)\n",
    "ilist2.insert_at_head(14)\n",
    "ilist2.insert_at_head(15)\n",
    "\n",
    "lst = intersection(ilist1, ilist2)\n",
    "lst.print_list()"
   ]
  },
  {
   "cell_type": "code",
   "execution_count": null,
   "id": "a1e4a4e2",
   "metadata": {},
   "outputs": [],
   "source": []
  }
 ],
 "metadata": {
  "kernelspec": {
   "display_name": "conda_python3",
   "language": "python",
   "name": "conda_python3"
  },
  "language_info": {
   "codemirror_mode": {
    "name": "ipython",
    "version": 3
   },
   "file_extension": ".py",
   "mimetype": "text/x-python",
   "name": "python",
   "nbconvert_exporter": "python",
   "pygments_lexer": "ipython3",
   "version": "3.6.13"
  }
 },
 "nbformat": 4,
 "nbformat_minor": 5
}
