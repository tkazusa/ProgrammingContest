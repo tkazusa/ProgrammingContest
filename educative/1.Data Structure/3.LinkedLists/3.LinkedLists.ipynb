{
 "cells": [
  {
   "cell_type": "markdown",
   "id": "2355abc4",
   "metadata": {},
   "source": [
    "### Challenge 1: Insertion at Tail\n",
    "We need to insert a new object at the end of the linked list. You can naturally guess that this newly added node will point to None as it is at the tail."
   ]
  },
  {
   "cell_type": "code",
   "execution_count": 1,
   "id": "2b1c4ea6",
   "metadata": {},
   "outputs": [
    {
     "name": "stdout",
     "output_type": "stream",
     "text": [
      "List is Empty\n",
      "0 -> None\n",
      "0 -> 1 -> None\n",
      "0 -> 1 -> 2 -> None\n",
      "0 -> 1 -> 2 -> 3 -> None\n"
     ]
    },
    {
     "data": {
      "text/plain": [
       "True"
      ]
     },
     "execution_count": 1,
     "metadata": {},
     "output_type": "execute_result"
    }
   ],
   "source": [
    "from LinkedList import LinkedList\n",
    "from Node import Node\n",
    "# Access HeadNode => list.getHead()\n",
    "# Check if list is empty => list.isEmpty()\n",
    "# Node class  { int data ; Node nextElement;}\n",
    "\n",
    "# Inserts a value at the end of the list\n",
    "\n",
    "\n",
    "def insert_at_tail(lst, value):\n",
    "    # Creating a new node\n",
    "    new_node = Node(value)\n",
    "\n",
    "    # Check if the list is empty, if it is simply point head to new node\n",
    "    if lst.get_head() is None:\n",
    "        lst.head_node = new_node\n",
    "        return\n",
    "\n",
    "    # if list not empty, traverse the list to the last node\n",
    "    temp = lst.get_head()\n",
    "\n",
    "    while temp.next_element:\n",
    "        temp = temp.next_element\n",
    "\n",
    "    # Set the nextElement of the previous node to new node\n",
    "    temp.next_element = new_node\n",
    "    return\n",
    "\n",
    "\n",
    "lst = LinkedList()\n",
    "lst.print_list()\n",
    "insert_at_tail(lst, 0)\n",
    "lst.print_list()\n",
    "insert_at_tail(lst, 1)\n",
    "lst.print_list()\n",
    "insert_at_tail(lst, 2)\n",
    "lst.print_list()\n",
    "insert_at_tail(lst, 3)\n",
    "lst.print_list()"
   ]
  },
  {
   "cell_type": "markdown",
   "id": "37ffe97c",
   "metadata": {},
   "source": [
    "### Challenge 2: Search in a Singly Linked List \n",
    "The search algorithm in a linked list can be generalized to the following steps:\n",
    "\n",
    "Start from the head node.\n",
    "Traverse the list till you either find a node with the given value or you reach the end node which will indicate that the given node doesn’t exist in the list."
   ]
  },
  {
   "cell_type": "code",
   "execution_count": 2,
   "id": "ea851fc0",
   "metadata": {},
   "outputs": [
    {
     "name": "stdout",
     "output_type": "stream",
     "text": [
      "5 -> 40 -> 10 -> 4 -> None\n",
      "True\n"
     ]
    }
   ],
   "source": [
    "def search(node, value):\n",
    "\n",
    "    # Base case\n",
    "    if(not node):\n",
    "        return False  # value not found\n",
    "\n",
    "    # check if the node's data matches our value\n",
    "    if(node.data is value):\n",
    "        return True  # value found\n",
    "\n",
    "    # Recursive call to next node in the list\n",
    "    return search(node.next_element, value)\n",
    "\n",
    "\n",
    "lst = LinkedList()\n",
    "lst.insert_at_head(4)\n",
    "lst.insert_at_head(10)\n",
    "lst.insert_at_head(40)\n",
    "lst.insert_at_head(5)\n",
    "lst.print_list()\n",
    "print(search(lst.get_head(), 4))"
   ]
  },
  {
   "cell_type": "markdown",
   "id": "8f2dec11",
   "metadata": {},
   "source": [
    "### Challenge 3: Deletion by Value\n",
    "\n",
    "In this lesson, you’ll be implementing the delete by value strategy. We’ll describe its functionality, which should give you a clearer idea of what you have to do."
   ]
  },
  {
   "cell_type": "code",
   "execution_count": 3,
   "id": "ff9f130d",
   "metadata": {},
   "outputs": [
    {
     "name": "stdout",
     "output_type": "stream",
     "text": [
      "2 -> 3 -> 4 -> 1 -> None\n",
      "2 -> 3 -> 1 -> None\n"
     ]
    },
    {
     "data": {
      "text/plain": [
       "True"
      ]
     },
     "execution_count": 3,
     "metadata": {},
     "output_type": "execute_result"
    }
   ],
   "source": [
    "from LinkedList import LinkedList\n",
    "from Node import Node\n",
    "\n",
    "# Access head_node => list.get_head()\n",
    "# Check if list is empty => list.is_empty()\n",
    "# Delete at head => list.delete_at_head()\n",
    "# Search for element => list.search()\n",
    "# Node class  { int data ; Node next_element;}\n",
    "\n",
    "\n",
    "def delete(lst, value):\n",
    "    prev_node = lst.get_head()\n",
    "    if not prev_node:\n",
    "        return False\n",
    "    elif prev_node.data == value:\n",
    "        lst.head_node = prev_node.next_element\n",
    "        return True\n",
    "    \n",
    "    \n",
    "    temp_node = prev_node.next_element    \n",
    "    while temp_node is not None:\n",
    "        if temp_node.data == value:\n",
    "            prev_node.next_element = temp_node.next_element\n",
    "            return True\n",
    "        else:\n",
    "            prev_node = temp_node\n",
    "            temp_node = temp_node.next_element\n",
    "        \n",
    "    return False\n",
    "            \n",
    "lst = LinkedList()\n",
    "lst.insert_at_head(1)\n",
    "lst.insert_at_head(4)\n",
    "lst.insert_at_head(3)\n",
    "lst.insert_at_head(2)\n",
    "lst.print_list()\n",
    "delete(lst, 4)\n",
    "lst.print_list()"
   ]
  },
  {
   "cell_type": "markdown",
   "id": "5354c5b7",
   "metadata": {},
   "source": [
    "### Challenge 4: Find the Length of a Linked List\n",
    "\n",
    "In this problem, you have to implement the length() function which will find the length of a given linked list."
   ]
  },
  {
   "cell_type": "code",
   "execution_count": 4,
   "id": "47630743",
   "metadata": {},
   "outputs": [
    {
     "name": "stdout",
     "output_type": "stream",
     "text": [
      "5\n"
     ]
    }
   ],
   "source": [
    "from Node import Node\n",
    "from LinkedList import LinkedList\n",
    "# Access head_node => list.get_head()\n",
    "# Check if list is empty => list.is_empty()\n",
    "# Delete at head => list.delete_at_head()\n",
    "# Delete by value => list.delete(value)\n",
    "# Search for element => list.search()\n",
    "# Node class attributes: {data, next_element}\n",
    "\n",
    "\n",
    "def length(lst):\n",
    "    count = 0\n",
    "    current_node = lst.get_head()\n",
    "    while current_node is not None:\n",
    "        count += 1\n",
    "        current_node = current_node.next_element\n",
    "\n",
    "    return count\n",
    "    \n",
    "lst = LinkedList()\n",
    "lst.insert_at_head(4)\n",
    "lst.insert_at_head(3)\n",
    "lst.insert_at_head(2)\n",
    "lst.insert_at_head(1)\n",
    "lst.insert_at_head(0)\n",
    "print(length(lst))"
   ]
  },
  {
   "cell_type": "markdown",
   "id": "ea57be19",
   "metadata": {},
   "source": [
    "### Challenge 5: Reverse a Linked List\n",
    "\n",
    "You have to define the reverse function, which takes a singly linked list and produces the exact opposite list, i.e., the links of the output linked list should be reversed."
   ]
  },
  {
   "cell_type": "code",
   "execution_count": 5,
   "id": "f8b5797c",
   "metadata": {},
   "outputs": [
    {
     "name": "stdout",
     "output_type": "stream",
     "text": [
      "10 -> 9 -> 4 -> 6 -> None\n",
      "6 -> 4 -> 9 -> 10 -> None\n"
     ]
    },
    {
     "data": {
      "text/plain": [
       "True"
      ]
     },
     "execution_count": 5,
     "metadata": {},
     "output_type": "execute_result"
    }
   ],
   "source": [
    "from LinkedList import LinkedList\n",
    "from Node import Node\n",
    "def reverse(lst):\n",
    "    # To reverse linked, we need to keep track of three things\n",
    "    previous = None # Maintain track of the previous node\n",
    "    current = lst.get_head() # The current node\n",
    "    next = None # The next node in the list\n",
    "\n",
    "    #Reversal\n",
    "    while current:\n",
    "        next = current.next_element\n",
    "        current.next_element = previous\n",
    "        previous = current\n",
    "        current = next\n",
    "\n",
    "        #Set the last element as the new head node\n",
    "        lst.head_node = previous\n",
    "    return lst\n",
    "\n",
    "\n",
    "lst = LinkedList()\n",
    "lst.insert_at_head(6)\n",
    "lst.insert_at_head(4)\n",
    "lst.insert_at_head(9)\n",
    "lst.insert_at_head(10)\n",
    "lst.print_list()\n",
    "\n",
    "reverse(lst)\n",
    "lst.print_list()"
   ]
  },
  {
   "cell_type": "markdown",
   "id": "88e19233",
   "metadata": {},
   "source": [
    "### Challenge 6: Detect Loop in a Linked List\n",
    "\n",
    "You must implement the detect_loop() function which will take a linked list as input and deduce whether or not a loop is present."
   ]
  },
  {
   "cell_type": "code",
   "execution_count": 6,
   "id": "ba70603f",
   "metadata": {},
   "outputs": [
    {
     "name": "stdout",
     "output_type": "stream",
     "text": [
      "True\n"
     ]
    }
   ],
   "source": [
    "from LinkedList import LinkedList\n",
    "from Node import Node\n",
    "# Access head_node => list.get_head()\n",
    "# Check if list is empty => list.is_empty()\n",
    "# Delete at head => list.delete_at_head()\n",
    "# Delete by value => list.delete(value)\n",
    "# Search for element => list.search()\n",
    "# Length of the list => list.length()\n",
    "# Node class  { int data ; Node next_element;}\n",
    "\n",
    "\n",
    "def detect_loop(lst):\n",
    "    current_node = lst.get_head()\n",
    "    \n",
    "    nodes = set()\n",
    "    while current_node is not None:\n",
    "        if current_node in nodes:\n",
    "            return True\n",
    "        else:\n",
    "            nodes.add(current_node)\n",
    "    return False\n",
    "\n",
    "lst = LinkedList()\n",
    "\n",
    "lst.insert_at_head(21)\n",
    "lst.insert_at_head(14)\n",
    "lst.insert_at_head(7)\n",
    "\n",
    "# Adding a loop\n",
    "head = lst.get_head()\n",
    "node = lst.get_head()\n",
    "\n",
    "for i in range(4):\n",
    "    if node.next_element is None:\n",
    "        node.next_element = head.next_element\n",
    "        break\n",
    "    node = node.next_element\n",
    "\n",
    "print(detect_loop(lst))"
   ]
  },
  {
   "cell_type": "markdown",
   "id": "d79d31a1",
   "metadata": {},
   "source": [
    "### Challenge 7: Find Middle Node of Linked List\n",
    "\n",
    "You have to implement the find_mid() function which will take a linked list as an input and return the value of the middle node. If the length of the list is even, the middle value will occur at \\frac{length}{2}\n",
    "​2\n",
    "​\n",
    "​length\n",
    "​​ . For a list of odd length, the middle value will be \\frac{length}{2}+1\n",
    "​2\n",
    "​\n",
    "​length\n",
    "​​ +1."
   ]
  },
  {
   "cell_type": "code",
   "execution_count": 7,
   "id": "a67bf791",
   "metadata": {},
   "outputs": [
    {
     "name": "stdout",
     "output_type": "stream",
     "text": [
      "7 -> 14 -> 10 -> 21 -> 22 -> None\n",
      "10\n"
     ]
    }
   ],
   "source": [
    "from LinkedList import LinkedList\n",
    "from Node import Node\n",
    "# Access HeadNode => list.getHead()\n",
    "# Check length => list.length()\n",
    "# Check if list is empty => list.isEmpty()\n",
    "# Node class  { int data ; Node nextElement;}\n",
    "\n",
    "\n",
    "def find_mid(lst):\n",
    "    if lst.is_empty():\n",
    "        return None\n",
    "\n",
    "    node = lst.get_head()\n",
    "    mid = 0\n",
    "    if lst.length() % 2 == 0:\n",
    "        mid = lst.length()//2\n",
    "    else:\n",
    "        mid = lst.length()//2 + 1\n",
    "\n",
    "    for i in range(mid - 1):\n",
    "        node = node.next_element\n",
    "\n",
    "    return node.data\n",
    "\n",
    "\n",
    "lst = LinkedList()\n",
    "lst.insert_at_head(22)\n",
    "lst.insert_at_head(21)\n",
    "lst.insert_at_head(10)\n",
    "lst.insert_at_head(14)\n",
    "lst.insert_at_head(7)\n",
    "\n",
    "lst.print_list()\n",
    "print(find_mid(lst))"
   ]
  },
  {
   "cell_type": "code",
   "execution_count": 8,
   "id": "19719ca1",
   "metadata": {},
   "outputs": [
    {
     "name": "stdout",
     "output_type": "stream",
     "text": [
      "7 -> 14 -> 10 -> 21 -> 22 -> None\n",
      "10\n"
     ]
    }
   ],
   "source": [
    "from LinkedList import LinkedList\n",
    "from Node import Node\n",
    "def find_mid(lst):\n",
    "    if lst.is_empty():\n",
    "        return -1\n",
    "    current_node = lst.get_head()\n",
    "    if current_node.next_element == None:\n",
    "        #Only 1 element exist in array so return its value.\n",
    "        return current_node.data\n",
    "\n",
    "    mid_node = current_node\n",
    "    current_node = current_node.next_element.next_element\n",
    "    #Move mid_node (Slower) one step at a time\n",
    "    #Move current_node (Faster) two steps at a time\n",
    "    #When current_node reaches at end, mid_node will be at the middle of List \n",
    "    while current_node:\n",
    "        mid_node = mid_node.next_element\n",
    "        current_node = current_node.next_element\n",
    "        if current_node:\n",
    "            current_node = current_node.next_element\n",
    "    if mid_node:\n",
    "        return mid_node.data\n",
    "    return -1\n",
    "\n",
    "lst = LinkedList()\n",
    "lst.insert_at_head(22)\n",
    "lst.insert_at_head(21)\n",
    "lst.insert_at_head(10)\n",
    "lst.insert_at_head(14)\n",
    "lst.insert_at_head(7)\n",
    "\n",
    "lst.print_list()\n",
    "print(find_mid(lst))"
   ]
  },
  {
   "cell_type": "markdown",
   "id": "37b4f6d3",
   "metadata": {},
   "source": [
    "### Challenge 8: Remove Duplicates from Linked List\n",
    "You will now be implementing the remove_duplicates() function. When a linked list is passed to this function, it removes any node which is a duplicate of another existing node."
   ]
  },
  {
   "cell_type": "code",
   "execution_count": 9,
   "id": "9ed1c238",
   "metadata": {},
   "outputs": [
    {
     "name": "stdout",
     "output_type": "stream",
     "text": [
      "7 -> 14 -> 21 -> 14 -> 22 -> 7 -> 7 -> 7 -> None\n",
      "7 -> 14 -> 21 -> 22 -> None\n"
     ]
    },
    {
     "data": {
      "text/plain": [
       "True"
      ]
     },
     "execution_count": 9,
     "metadata": {},
     "output_type": "execute_result"
    }
   ],
   "source": [
    "from LinkedList import LinkedList\n",
    "from Node import Node\n",
    "# Access head_node => list.get_head()\n",
    "# Check if list is empty => list.is_empty()\n",
    "# Delete at head => list.delete_at_head()\n",
    "# Delete by value => list.delete(value)\n",
    "# Search for element => list.search()\n",
    "# Length of the list => list.length()\n",
    "# Node class  { int data ; Node next_element;}\n",
    "\n",
    "\n",
    "def remove_duplicates(lst):\n",
    "    previous_node = None\n",
    "    current_node = lst.get_head()\n",
    "    nodes = set()\n",
    "    while current_node is not None:\n",
    "        if current_node.data in nodes:\n",
    "            previous_node.next_element = current_node.next_element\n",
    "            current_node = current_node.next_element\n",
    "        else:\n",
    "            nodes.add(current_node.data)\n",
    "            previous_node = current_node\n",
    "            current_node = current_node.next_element\n",
    "            \n",
    "    return lst\n",
    "        \n",
    "        \n",
    "        \n",
    "lst = LinkedList()\n",
    "lst.insert_at_head(7)\n",
    "lst.insert_at_head(7)\n",
    "lst.insert_at_head(7)\n",
    "lst.insert_at_head(22)\n",
    "lst.insert_at_head(14)\n",
    "lst.insert_at_head(21)\n",
    "lst.insert_at_head(14)\n",
    "lst.insert_at_head(7)\n",
    "\n",
    "\n",
    "lst.print_list()\n",
    "remove_duplicates(lst)\n",
    "lst.print_list()   "
   ]
  },
  {
   "cell_type": "markdown",
   "id": "748e4a82",
   "metadata": {},
   "source": [
    "### Challenge 9: Union & Intersection of Linked Lists\n",
    "The union function will take two linked lists and return their union.\n",
    "\n",
    "The intersection function will return all the elements that are common between two linked lists."
   ]
  },
  {
   "cell_type": "code",
   "execution_count": 10,
   "id": "a2cd3e18",
   "metadata": {},
   "outputs": [
    {
     "name": "stdout",
     "output_type": "stream",
     "text": [
      "List 1\n",
      "15 -> 22 -> 8 -> None\n",
      "List 2\n",
      "7 -> 14 -> 21 -> None\n",
      "Union of list 1 and 2\n",
      "15 -> 22 -> 8 -> 7 -> 14 -> 21 -> None\n"
     ]
    },
    {
     "data": {
      "text/plain": [
       "True"
      ]
     },
     "execution_count": 10,
     "metadata": {},
     "output_type": "execute_result"
    }
   ],
   "source": [
    "from LinkedList import LinkedList\n",
    "from Node import Node\n",
    "\n",
    "\n",
    "def union(list1, list2):\n",
    "    # Return other List if one of them is empty\n",
    "    if (list1.is_empty()):\n",
    "        return list2\n",
    "    elif (list2.is_empty()):\n",
    "        return list1\n",
    "\n",
    "    start = list1.get_head()\n",
    "\n",
    "    # Traverse the first list till the tail\n",
    "    while start.next_element:\n",
    "        start = start.next_element\n",
    "\n",
    "    # Link last element of first list to the first element of second list\n",
    "    start.next_element = list2.get_head()\n",
    "    list1.remove_duplicates()\n",
    "    return list1\n",
    "\n",
    "\n",
    "ulist1 = LinkedList()\n",
    "ulist2 = LinkedList()\n",
    "ulist1.insert_at_head(8)\n",
    "ulist1.insert_at_head(22)\n",
    "ulist1.insert_at_head(15)\n",
    "\n",
    "print(\"List 1\")\n",
    "ulist1.print_list()\n",
    "\n",
    "ulist2.insert_at_head(21)\n",
    "ulist2.insert_at_head(14)\n",
    "ulist2.insert_at_head(7)\n",
    "\n",
    "print(\"List 2\")\n",
    "ulist2.print_list()\n",
    "\n",
    "new_list = union(ulist1,ulist2)\n",
    "\n",
    "print(\"Union of list 1 and 2\")\n",
    "new_list.print_list()"
   ]
  },
  {
   "cell_type": "code",
   "execution_count": 11,
   "id": "5532f57f",
   "metadata": {},
   "outputs": [
    {
     "name": "stdout",
     "output_type": "stream",
     "text": [
      "14 -> 15 -> None\n"
     ]
    },
    {
     "data": {
      "text/plain": [
       "True"
      ]
     },
     "execution_count": 11,
     "metadata": {},
     "output_type": "execute_result"
    }
   ],
   "source": [
    "from LinkedList import LinkedList\n",
    "from Node import Node\n",
    "\n",
    "\n",
    "def intersection(list1, list2):\n",
    "\n",
    "    result = LinkedList()\n",
    "    current_node = list1.get_head()\n",
    "\n",
    "    # Traversing list1 and searching in list2\n",
    "    # insert in result if the value exists\n",
    "    while current_node is not None:\n",
    "        value = current_node.data\n",
    "        if list2.search(value) is not None:\n",
    "            result.insert_at_head(value)\n",
    "        current_node = current_node.next_element\n",
    "\n",
    "    # Remove duplicates if any\n",
    "    result.remove_duplicates()\n",
    "    return result\n",
    "\n",
    "\n",
    "ilist1 = LinkedList()\n",
    "ilist2 = LinkedList()\n",
    "\n",
    "ilist1.insert_at_head(14)\n",
    "ilist1.insert_at_head(22)\n",
    "ilist1.insert_at_head(15)\n",
    "\n",
    "ilist2.insert_at_head(21)\n",
    "ilist2.insert_at_head(14)\n",
    "ilist2.insert_at_head(15)\n",
    "\n",
    "lst = intersection(ilist1, ilist2)\n",
    "lst.print_list()"
   ]
  },
  {
   "cell_type": "markdown",
   "id": "a8a59e6c",
   "metadata": {},
   "source": [
    "### Challenge 10: Return the Nth node from End\n",
    "\n",
    "In the find_nth function, a certain N is specified as an argument. You simply need to return the node which is N spaces away from the None end of the linked list."
   ]
  },
  {
   "cell_type": "code",
   "execution_count": 25,
   "id": "fc8b98db",
   "metadata": {},
   "outputs": [
    {
     "name": "stdout",
     "output_type": "stream",
     "text": [
      "15 -> 22 -> 8 -> 7 -> 14 -> 21 -> None\n",
      "22\n",
      "21\n",
      "N is less than length of the list\n"
     ]
    }
   ],
   "source": [
    "from LinkedList import LinkedList\n",
    "from Node import Node\n",
    "# Access head_node => list.get_head()\n",
    "# Check if list is empty => list.is_empty()\n",
    "# Delete at head => list.delete_at_head()\n",
    "# Delete by value => list.delete(value)\n",
    "# Search for element => list.search()\n",
    "# Length of the list => list.length()\n",
    "# Remove duplicates => list.remove_duplicates()\n",
    "# Node class  {int data ; Node next_element;}\n",
    "\n",
    "# Function to find the nth node from end of Linked List\n",
    "\n",
    "\n",
    "def find_nth(lst, n):\n",
    "    if lst.is_empty():\n",
    "        return \"The list is empty\"\n",
    "    length = lst.length() - 1 \n",
    "    target = length - n + 1\n",
    "    \n",
    "    \n",
    "    if target <= 0:\n",
    "        return \"N is less than length of the list\"\n",
    "    \n",
    "    \n",
    "    current_node = lst.get_head()\n",
    "\n",
    "    while target > 0:\n",
    "        current_node = current_node.next_element\n",
    "        target -= 1\n",
    "        \n",
    "    return current_node.data\n",
    "        \n",
    "\n",
    "lst = LinkedList()\n",
    "lst.insert_at_head(21)\n",
    "lst.insert_at_head(14)\n",
    "lst.insert_at_head(7)\n",
    "lst.insert_at_head(8)\n",
    "lst.insert_at_head(22)\n",
    "lst.insert_at_head(15)\n",
    "\n",
    "\n",
    "lst.print_list()\n",
    "print(find_nth(lst, 5))\n",
    "print(find_nth(lst, 1))\n",
    "print(find_nth(lst, 10))"
   ]
  },
  {
   "cell_type": "code",
   "execution_count": 26,
   "id": "68c9cbaf",
   "metadata": {},
   "outputs": [
    {
     "name": "stdout",
     "output_type": "stream",
     "text": [
      "15 -> 22 -> 8 -> 7 -> 14 -> 21 -> None\n",
      "-1\n",
      "22\n"
     ]
    }
   ],
   "source": [
    "from LinkedList import LinkedList\n",
    "from Node import Node\n",
    "\n",
    "\n",
    "def find_nth(lst, n):\n",
    "\n",
    "    if lst.is_empty():\n",
    "        return -1\n",
    "\n",
    "    nth_node = lst.get_head()  # This iterator will reach the Nth node\n",
    "    end_node = lst.get_head()  # This iterator will reach the end of the list\n",
    "\n",
    "    count = 0\n",
    "    while count < n:\n",
    "        if end_node is None:\n",
    "            return -1\n",
    "        end_node = end_node.next_element\n",
    "        count += 1\n",
    "\n",
    "    while end_node is not None:\n",
    "        end_node = end_node.next_element\n",
    "        nth_node = nth_node.next_element\n",
    "\n",
    "    return nth_node.data\n",
    "\n",
    "\n",
    "lst = LinkedList()\n",
    "lst.insert_at_head(21)\n",
    "lst.insert_at_head(14)\n",
    "lst.insert_at_head(7)\n",
    "lst.insert_at_head(8)\n",
    "lst.insert_at_head(22)\n",
    "lst.insert_at_head(15)\n",
    "\n",
    "lst.print_list()\n",
    "\n",
    "print(find_nth(lst, 19))\n",
    "print(find_nth(lst, 5))"
   ]
  },
  {
   "cell_type": "markdown",
   "id": "425bc39c",
   "metadata": {},
   "source": [
    "### Happy Number (medium)\n",
    "Any number will be called a happy number if, after repeatedly replacing it with a number equal to the sum of the square of all of its digits, leads us to number ‘1’. All other (not-happy) numbers will never reach ‘1’. Instead, they will be stuck in a cycle of numbers which does not include ‘1’."
   ]
  },
  {
   "cell_type": "code",
   "execution_count": 46,
   "id": "e44c14bf",
   "metadata": {},
   "outputs": [
    {
     "name": "stdout",
     "output_type": "stream",
     "text": [
      "True\n",
      "False\n"
     ]
    }
   ],
   "source": [
    "def find_happy_number(num):\n",
    "    sums = set()\n",
    "        \n",
    "    while num not in sums:\n",
    "        sums.add(num)\n",
    "        if num == 1:\n",
    "            return True\n",
    "\n",
    "        nums = list(str(num))\n",
    "        num = sum([int(x)**2 for x in nums])\n",
    "        \n",
    "    return False    \n",
    "\n",
    "\n",
    "def main():\n",
    "    print(find_happy_number(23))\n",
    "    print(find_happy_number(12))\n",
    "\n",
    "main()"
   ]
  },
  {
   "cell_type": "markdown",
   "id": "2fc112f2",
   "metadata": {},
   "source": [
    "**Solution**\n",
    "\n",
    "The process, defined above, to find out if a number is a happy number or not, always ends in a cycle. If the number is a happy number, the process will be stuck in a cycle on number ‘1,’ and if the number is not a happy number then the process will be stuck in a cycle with a set of numbers. As we saw in Example-2 while determining if ‘12’ is a happy number or not, our process will get stuck in a cycle with the following numbers: 89 -> 145 -> 42 -> 20 -> 4 -> 16 -> 37 -> 58 -> 89\n",
    "\n",
    "We saw in the LinkedList Cycle problem that we can use the Fast & Slow pointers method to find a cycle among a set of elements. As we have described above, each number will definitely have a cycle. Therefore, we will use the same fast & slow pointer strategy to find the cycle and once the cycle is found, we will see if the cycle is stuck on number ‘1’ to find out if the number is happy or not."
   ]
  },
  {
   "cell_type": "code",
   "execution_count": 47,
   "id": "0977f929",
   "metadata": {},
   "outputs": [
    {
     "name": "stdout",
     "output_type": "stream",
     "text": [
      "True\n",
      "False\n"
     ]
    }
   ],
   "source": [
    "def find_square_sum(num):\n",
    "    return sum([int(x)**2 for x in list(str(num))])\n",
    "\n",
    "def find_happy_number(num):\n",
    "    \n",
    "    slow, fast = num, num\n",
    "    while True:\n",
    "        slow = find_square_sum(slow)  # move one step\n",
    "        fast = find_square_sum(find_square_sum(fast))  # move two steps\n",
    "        if slow == fast:  # found the cycle\n",
    "            break\n",
    "            \n",
    "    return slow == 1  # see if the cycle is stuck on the number '1'\n",
    "\n",
    "def main():\n",
    "    print(find_happy_number(23))\n",
    "    print(find_happy_number(12))\n",
    "\n",
    "main()"
   ]
  },
  {
   "cell_type": "markdown",
   "id": "77f0aa64",
   "metadata": {},
   "source": [
    "### Reverse every K-element Sub-list (medium)\n",
    "\n",
    "★もう一回解く: https://www.educative.io/module/lesson/data-structures-in-python/qVEMgx4xYr3\n",
    "\n",
    "Given the head of a LinkedList and a number ‘k’, reverse every ‘k’ sized sub-list starting from the head.\n",
    "If, in the end, you are left with a sub-list with less than ‘k’ elements, reverse it too."
   ]
  },
  {
   "cell_type": "code",
   "execution_count": null,
   "id": "f091f751",
   "metadata": {},
   "outputs": [],
   "source": [
    "from __future__ import print_function\n",
    "\n",
    "\n",
    "class Node:\n",
    "    def __init__(self, value, next=None):\n",
    "        self.value = value\n",
    "        self.next = next\n",
    "\n",
    "    def print_list(self):\n",
    "        temp = self\n",
    "        while temp is not None:\n",
    "            print(temp.value, end=\" \")\n",
    "            temp = temp.next\n",
    "        print()\n",
    "\n",
    "\n",
    "def reverse_every_k_elements(head, k):\n",
    "    if k <= 1 or head is None:\n",
    "        return head\n",
    "    \n",
    "    current, previous = head, None\n",
    "    \n",
    "    # 全体を考える。\n",
    "    while True:\n",
    "        # これからサブリストを作るよ\n",
    "        \n",
    "        # XXX\n",
    "        last_node_of_previous_part = previous\n",
    "        # サブリストの最後は current \n",
    "        last_node_of_sub_list = current\n",
    "        \n",
    "\n",
    "        next = None  # will be used to temporarily store the next node        \n",
    "        # Sub-list を考える。\n",
    "        i = 0\n",
    "        # current が None はリスト全体が終わり\n",
    "        # もしくは、k より小さい場合、サブリストのリバースが終了\n",
    "        while current is not None and i < k:  # reverse 'k' nodes\n",
    "            # 入れ替え\n",
    "            next = current.next\n",
    "            current.next = previous\n",
    "            \n",
    "            # 次のノードに行く\n",
    "            previous = current\n",
    "            current = next\n",
    "            i += 1\n",
    "        \n",
    "        # 前のパートの最後のノードのnextが、\n",
    "        if last_node_of_previous_part is not None:\n",
    "            last_node_of_previous_part.next = previous\n",
    "        else:\n",
    "            head = previous\n",
    "\n",
    "        # connect with the next part\n",
    "        last_node_of_sub_list.next = current\n",
    "\n",
    "        # \n",
    "        if current is None:\n",
    "            break\n",
    "            \n",
    "        previous = last_node_of_sub_list\n",
    "    \n",
    "    return head\n",
    "\n",
    "\n",
    "def main():\n",
    "    head = Node(1)\n",
    "    head.next = Node(2)\n",
    "    head.next.next = Node(3)\n",
    "    head.next.next.next = Node(4)\n",
    "    head.next.next.next.next = Node(5)\n",
    "    head.next.next.next.next.next = Node(6)\n",
    "    head.next.next.next.next.next.next = Node(7)\n",
    "    head.next.next.next.next.next.next.next = Node(8)\n",
    "\n",
    "    print(\"Nodes of original LinkedList are: \", end='')\n",
    "    head.print_list()\n",
    "    result = reverse_every_k_elements(head, 3)\n",
    "    print(\"Nodes of reversed LinkedList are: \", end='')\n",
    "    result.print_list()\n",
    "    \n",
    "main()"
   ]
  },
  {
   "cell_type": "code",
   "execution_count": null,
   "id": "7db29fa9",
   "metadata": {},
   "outputs": [],
   "source": [
    "### Rotate a Linked List"
   ]
  },
  {
   "cell_type": "code",
   "execution_count": null,
   "id": "1d5dccee",
   "metadata": {},
   "outputs": [],
   "source": [
    "from __future__ import print_function\n",
    "\n",
    "\n",
    "class Node:\n",
    "    def __init__(self, value, next=None):\n",
    "        self.value = value\n",
    "        self.next = next\n",
    "\n",
    "  def print_list(self):\n",
    "    temp = self\n",
    "    while temp is not None:\n",
    "      print(temp.value, end=\" \")\n",
    "      temp = temp.next\n",
    "    print()\n",
    "\n",
    "\n",
    "def rotate(head, rotations):\n",
    "  # TODO: Write your code here\n",
    "  return head\n",
    "\n",
    "\n",
    "def main():\n",
    "  head = Node(1)\n",
    "  head.next = Node(2)\n",
    "  head.next.next = Node(3)\n",
    "  head.next.next.next = Node(4)\n",
    "  head.next.next.next.next = Node(5)\n",
    "  head.next.next.next.next.next = Node(6)\n",
    "\n",
    "  print(\"Nodes of original LinkedList are: \", end='')\n",
    "  head.print_list()\n",
    "  result = rotate(head, 3)\n",
    "  print(\"Nodes of rotated LinkedList are: \", end='')\n",
    "  result.print_list()\n",
    "\n",
    "\n",
    "main()"
   ]
  }
 ],
 "metadata": {
  "kernelspec": {
   "display_name": "conda_python3",
   "language": "python",
   "name": "conda_python3"
  },
  "language_info": {
   "codemirror_mode": {
    "name": "ipython",
    "version": 3
   },
   "file_extension": ".py",
   "mimetype": "text/x-python",
   "name": "python",
   "nbconvert_exporter": "python",
   "pygments_lexer": "ipython3",
   "version": "3.6.13"
  }
 },
 "nbformat": 4,
 "nbformat_minor": 5
}
