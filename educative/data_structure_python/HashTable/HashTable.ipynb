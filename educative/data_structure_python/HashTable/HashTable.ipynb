{
 "cells": [
  {
   "cell_type": "markdown",
   "id": "sonic-chick",
   "metadata": {},
   "source": [
    "# Hash Table"
   ]
  },
  {
   "cell_type": "code",
   "execution_count": 2,
   "id": "failing-shaft",
   "metadata": {},
   "outputs": [],
   "source": [
    "## Hash Function\n",
    "- Arithmetic Modular\n",
    "- Truncation\n",
    "- Folding"
   ]
  },
  {
   "cell_type": "markdown",
   "id": "clear-kentucky",
   "metadata": {},
   "source": [
    "### Arithmetic Modular"
   ]
  },
  {
   "cell_type": "code",
   "execution_count": 3,
   "id": "challenging-former",
   "metadata": {},
   "outputs": [
    {
     "name": "stdout",
     "output_type": "stream",
     "text": [
      "The index for key 35 is 5\n"
     ]
    }
   ],
   "source": [
    "def hash_modular(key, size):\n",
    "    return key % size\n",
    "\n",
    "\n",
    "lst = [None] * 10  # List of size 10\n",
    "key = 35\n",
    "index = hash_modular(key, len(lst))  # Fit the key into the list size\n",
    "print(\"The index for key \" + str(key) + \" is \" + str(index))"
   ]
  },
  {
   "cell_type": "markdown",
   "id": "virtual-effects",
   "metadata": {},
   "source": [
    "### Truncation"
   ]
  },
  {
   "cell_type": "code",
   "execution_count": null,
   "id": "grand-florida",
   "metadata": {},
   "outputs": [],
   "source": [
    "def hash_trunc(key):\n",
    "    return key % 1000  # Will always give us a key of up to 3 digits\n",
    "\n",
    "\n",
    "key = 123456\n",
    "index = hash_trunc(key)  # Fit the key into the list size\n",
    "print(\"The index for key \" + str(key) + \" is \" + str(index))"
   ]
  },
  {
   "cell_type": "markdown",
   "id": "experienced-williams",
   "metadata": {},
   "source": [
    "### Folding"
   ]
  },
  {
   "cell_type": "code",
   "execution_count": null,
   "id": "operating-facing",
   "metadata": {},
   "outputs": [],
   "source": [
    "def hash_fold(key, chunk_size):  # Define the size of each divided portion\n",
    "    str_key = str(key)  # Convert integer into string for slicing\n",
    "    print(\"Key: \" + str_key)\n",
    "    hash_val = 0\n",
    "    print(\"Chunks:\")\n",
    "    for i in range(0, len(str_key),  chunk_size):\n",
    "\n",
    "        if(i + chunk_size < len(str_key)):\n",
    "            # Slice the appropriate chunk from the string\n",
    "            print(str_key[i:i+chunk_size])\n",
    "            hash_val += int(str_key[i:i+chunk_size])  # convert into integer\n",
    "        else:\n",
    "            print(str_key[i:len(str_key)])\n",
    "            hash_val += int(str_key[i:len(str_key)])\n",
    "    return hash_val\n",
    "\n",
    "\n",
    "key = 3456789\n",
    "chunk_size = 2\n",
    "print(\"Hash Key: \" + str(hash_fold(key, chunk_size)))"
   ]
  },
  {
   "cell_type": "markdown",
   "id": "civilian-differential",
   "metadata": {},
   "source": [
    "## Strategies to Handle Collisions\n",
    "- Linear Probing\n",
    "- Chaining\n",
    "- Resizing the list"
   ]
  },
  {
   "cell_type": "markdown",
   "id": "graduate-captain",
   "metadata": {},
   "source": [
    "## Hash Table implementation "
   ]
  },
  {
   "cell_type": "code",
   "execution_count": null,
   "id": "found-south",
   "metadata": {},
   "outputs": [],
   "source": [
    "class HashEntry:\n",
    "    def __init__(self, key, data):\n",
    "        self.key = key\n",
    "        # data to be stored\n",
    "        self.value = data\n",
    "        # reference to new entry\n",
    "        self.nxt = None"
   ]
  },
  {
   "cell_type": "code",
   "execution_count": 8,
   "id": "boring-humor",
   "metadata": {},
   "outputs": [
    {
     "name": "stdout",
     "output_type": "stream",
     "text": [
      "3, Educative\n"
     ]
    }
   ],
   "source": [
    "class HashTable:\n",
    "    # Constructor\n",
    "    def __init__(self):\n",
    "        # Size of the HashTable\n",
    "        self.slots = 10\n",
    "        # Current entries in the table\n",
    "        # Used while resizing the table when half of the table gets filled\n",
    "        self.size = 0\n",
    "        # List of HashEntry objects (by default all None)\n",
    "        self.bucket = [None] * self.slots\n",
    "        self.threshold = 0.6\n",
    "\n",
    "    # Helper Functions\n",
    "    def get_size(self):\n",
    "        return self.size\n",
    "\n",
    "    def is_empty(self):\n",
    "        return self.get_size() is 0\n",
    "\n",
    "    # Hash Function\n",
    "    def get_index(self, key):\n",
    "        # hash is a built in function in Python\n",
    "        hash_code = hash(key)\n",
    "        index = hash_code % self.slots\n",
    "        return index\n",
    "\n",
    "    def resize(self):\n",
    "        new_slots = self.slots * 2\n",
    "        new_bucket = [None] * new_slots\n",
    "        # rehash all items into new slots\n",
    "        for i in range(0, len(self.bucket)):\n",
    "            head = self.bucket[i]\n",
    "            while head is not None:\n",
    "                new_index = hash(head.key) % new_slots\n",
    "                if new_bucket[new_index] is None:\n",
    "                    new_bucket[new_index] = HashEntry(head.key, head.value)\n",
    "                else:\n",
    "                    node = new_bucket[new_index]\n",
    "                    while node is not None:\n",
    "                        if node.key is head.key:\n",
    "                            node.value = head.value\n",
    "                            node = None\n",
    "                        elif node.nxt is None:\n",
    "                            node.nxt = HashEntry(head.key, head.value)\n",
    "                            node = None\n",
    "                        else:\n",
    "                            node = node.nxt\n",
    "                head = head.nxt\n",
    "        self.bucket = new_bucket\n",
    "        self.slots = new_slots\n",
    "\n",
    "    def insert(self, key, value):\n",
    "        # Find the node with the given key\n",
    "        b_index = self.get_index(key)\n",
    "        if self.bucket[b_index] is None:\n",
    "            self.bucket[b_index] = HashEntry(key, value)\n",
    "            self.size += 1\n",
    "        else:\n",
    "            head = self.bucket[b_index]\n",
    "            while head is not None:\n",
    "                if head.key is key:\n",
    "                    head.value = value\n",
    "                    break\n",
    "                elif head.nxt is None:\n",
    "                    head.nxt = HashEntry(key, value)\n",
    "                    self.size += 1\n",
    "                    break\n",
    "                head = head.nxt\n",
    "\n",
    "        load_factor = float(self.size) / float(self.slots)\n",
    "        # Checks if 60% of the entries in table are filled, threshold = 0.6\n",
    "        if load_factor >= self.threshold:\n",
    "            self.resize()\n",
    "        \n",
    "    # Return a value for a given key\n",
    "    def search(self, key):\n",
    "        # Find the node with the given key\n",
    "        b_index = self.get_index(key)\n",
    "        head = self.bucket[b_index]\n",
    "        # Search key in the slots\n",
    "        while head is not None:\n",
    "            if head.key == key:\n",
    "                return head.value\n",
    "            head = head.nxt\n",
    "        # If key not found\n",
    "        return None\n",
    "\n",
    "    # Remove a value based on a key\n",
    "    def delete(self, key):\n",
    "        # Find index\n",
    "        b_index = self.get_index(key)\n",
    "        head = self.bucket[b_index]\n",
    "        # If key exists at first slot\n",
    "        if head.key is key:\n",
    "            self.bucket[b_index] = head.nxt\n",
    "            # Decrease the size by one\n",
    "            self.size -= 1\n",
    "            return self\n",
    "        # Find the key in slots\n",
    "        prev = None\n",
    "        while head is not None:\n",
    "            # If key exists\n",
    "            if head.key is key:\n",
    "                prev.nxt = head.nxt\n",
    "                # Decrease the size by one\n",
    "                self.size -= 1\n",
    "                return\n",
    "            # Else keep moving in chain\n",
    "            prev = head\n",
    "            head = head.nxt\n",
    "\n",
    "        # If key does not exist\n",
    "        return"
   ]
  },
  {
   "cell_type": "code",
   "execution_count": 10,
   "id": "industrial-atlanta",
   "metadata": {},
   "outputs": [
    {
     "data": {
      "text/plain": [
       "7"
      ]
     },
     "execution_count": 10,
     "metadata": {},
     "output_type": "execute_result"
    }
   ],
   "source": [
    "table = HashTable()  # Create a HashTable\n",
    "print(table.is_empty())\n",
    "table.insert(\"This\", 1)\n",
    "table.insert(\"is\", 2)\n",
    "table.insert(\"a\", 3)\n",
    "table.insert(\"Test\", 4)\n",
    "table.insert(\"Driver\", 5)\n",
    "print(\"Table Size: \" + str(table.get_size()))\n",
    "print(\"The value for 'is' key: \" + str(table.search(\"is\")))\n",
    "table.delete(\"is\")\n",
    "table.delete(\"a\")\n",
    "print(\"Table Size: \" + str(table.get_size()))"
   ]
  },
  {
   "cell_type": "markdown",
   "id": "herbal-cleaners",
   "metadata": {},
   "source": [
    "### Challenge 1: A List as a Subset of Another List\n",
    "\n",
    "Implement the is_subset(list1,list2) function which will take two lists as input and check whether one list is the subset of the other. This method is already available in Python, but we’ll be implementing it using hash tables.\n",
    "\n",
    "Note: The input arrays do not contain duplicate values.\n",
    "\n",
    "Use the Python set as your hash table.\n",
    "\n",
    "Input #\n",
    "Two lists of integers.\n",
    "\n",
    "Output #\n",
    "True if list2 is a subset of list1."
   ]
  },
  {
   "cell_type": "markdown",
   "id": "reverse-camping",
   "metadata": {},
   "source": [
    "### Solution: Lookup in a Hash Table\n",
    "\n",
    "For a lookup list with m elements and a subset list with n elements, the time complexity is O(m+n)."
   ]
  },
  {
   "cell_type": "code",
   "execution_count": null,
   "id": "cheap-former",
   "metadata": {},
   "outputs": [],
   "source": [
    "def is_subset(list1, list2):\n",
    "    s = set(list1)  # Create a set with list1 values\n",
    "    # Traverse list 2 elements\n",
    "    for elem in list2:\n",
    "        # Return false if an element not in list1\n",
    "        if elem not in s:\n",
    "            return False\n",
    "    # Return True if all elements in list1\n",
    "    return True\n",
    "\n",
    "\n",
    "list1 = [9, 4, 7, 1, -2, 6, 5]\n",
    "list2 = [7, 1, -2]\n",
    "list3 = [10, 12]\n",
    "print(is_subset(list1, list2))\n",
    "print(is_subset(list1, list3))"
   ]
  },
  {
   "cell_type": "markdown",
   "id": "indie-telling",
   "metadata": {},
   "source": [
    "## Challenge 2: Check if Lists are Disjoint\n",
    "\n",
    "You have to implement the is_disjoint() function which checks whether two given lists are disjoint or not. Two lists are disjoint if there are no common elements between them. The assumption is that there are no duplicate elements in each list.\n",
    "\n",
    "Input # Two lists of integers.\n",
    "\n",
    "Output # It returns True if the two are disjoint. Otherwise, it returns False."
   ]
  },
  {
   "cell_type": "markdown",
   "id": "higher-biology",
   "metadata": {},
   "source": [
    "### Solution: Use a Set\n",
    "\n",
    "For a lookup list with m elements and a subset list with n elements, the time complexity is O(m+n)."
   ]
  },
  {
   "cell_type": "code",
   "execution_count": null,
   "id": "hollow-patient",
   "metadata": {},
   "outputs": [],
   "source": [
    "def is_disjoint(list1, list2):\n",
    "    s = set(list1)  # Create set of list1 elements\n",
    "    # iterate list 2\n",
    "    for elem in list2:\n",
    "        # if element in list1 then return False\n",
    "        if elem in s:\n",
    "            return False\n",
    "    # Return True if no common element\n",
    "    return True\n",
    "\n",
    "\n",
    "list1 = [9, 4, 3, 1, -2, 6, 5]\n",
    "list2 = [7, 10, 8]\n",
    "list3 = [1, 12]\n",
    "print(is_disjoint(list1, list2))\n",
    "print(is_disjoint(list1, list3))"
   ]
  },
  {
   "cell_type": "markdown",
   "id": "thirty-presence",
   "metadata": {},
   "source": [
    "## Challenge 3: Find Symmetric Pairs in a Lis\n",
    "\n",
    "By definition, (a, b) and (c, d) are symmetric pairs iff, a = d and b = c. In this problem, you have to implement the find_symmetric(list) function which will find all the symmetric pairs in a given list.\n",
    "\n",
    "Input # A list.\n",
    "\n",
    "Output # A list containing all the symmetric pairs of elements in the input list."
   ]
  },
  {
   "cell_type": "markdown",
   "id": "adequate-spank",
   "metadata": {},
   "source": [
    "### Solution: Using a Dictionary/Set\n",
    "The hash table lookups work in constant time. Hence, our traversal of the input list makes the algorithm run in O(n) where n is the list size."
   ]
  },
  {
   "cell_type": "code",
   "execution_count": null,
   "id": "silver-portsmouth",
   "metadata": {},
   "outputs": [],
   "source": [
    "def find_symmetric(my_list):\n",
    "    # Create an empty set\n",
    "    pair_set = set()\n",
    "    result = []\n",
    "    # Traverse through the given list\n",
    "    for pair in my_list:\n",
    "        # Make a tuple and a reverse tuple out of the pair\n",
    "        pair_tup = tuple(pair)\n",
    "        pair.reverse()\n",
    "        reverse_tup = tuple(pair)\n",
    "        # Check if the reverse tuple exists in the set\n",
    "        if(reverse_tup in pair_set):\n",
    "            # Symmetric pair found\n",
    "            result.append(list(pair_tup))\n",
    "            result.append(list(reverse_tup))\n",
    "        else:\n",
    "            # Insert the current tuple into the set\n",
    "            pair_set.add(pair_tup)\n",
    "    return result\n",
    "\n",
    "\n",
    "arr = [[1, 2], [4, 6], [4, 3], [6, 4], [5, 9], [3, 4], [9, 5]]\n",
    "symmetric = find_symmetric(arr)\n",
    "print(symmetric)"
   ]
  },
  {
   "cell_type": "markdown",
   "id": "sustainable-registrar",
   "metadata": {},
   "source": [
    "## Challenge 4: Trace the Complete Path of a Journey\n",
    "\n",
    "You have to implement the trace_path() function which will take in a list of source-destination pairs and return the correct sequence of the whole journey from the first city to the last.\n",
    "\n",
    "Input #\n",
    "A Python dict containing string pairs of source-destination cities.\n",
    "\n",
    "Output #\n",
    "A list of source-destination pairs in the correct order.\n",
    "\n",
    "```\n",
    "# Sample Input\n",
    "dict = {\n",
    "  \"NewYork\": \"Chicago\",\n",
    "  \"Boston\": \"Texas\",\n",
    "  \"Missouri\": \"NewYork\",\n",
    "  \"Texas\": \"Missouri\"\n",
    "}\n",
    "\n",
    "# Sample Output\n",
    "[[\"Boston\", \"Texas\"] , [\"Texas\", \"Missouri\"] , [\"Missouri\", \"NewYork\"] , [\"NewYork\", \"Chicago\"]]\n",
    "```"
   ]
  },
  {
   "cell_type": "markdown",
   "id": "progressive-company",
   "metadata": {},
   "source": [
    "### Solution Review: Trace the Complete Path of a Journey\n",
    "\n",
    "Although a hash table is created and traversed, both take the same amount of time. The complexity for this algorithm is O(n) where n is the number of source-destination pairs."
   ]
  },
  {
   "cell_type": "code",
   "execution_count": null,
   "id": "modified-inclusion",
   "metadata": {},
   "outputs": [],
   "source": [
    "def trace_path(my_dict):  # A Map object\n",
    "    \n",
    "    result = []\n",
    "    \n",
    "    for k, v in my_dict.items():\n",
    "        if k not in my_dict.values():\n",
    "            result.append([k, v])\n",
    "            dest = v\n",
    "    \n",
    "    while dest is not None:\n",
    "        try:\n",
    "            tmp = my_dict[dest]\n",
    "            result.append([dest, tmp])\n",
    "            dest = tmp\n",
    "        except:\n",
    "            dest = None\n",
    "\n",
    "    return result"
   ]
  },
  {
   "cell_type": "code",
   "execution_count": 25,
   "id": "naughty-spain",
   "metadata": {},
   "outputs": [
    {
     "name": "stdout",
     "output_type": "stream",
     "text": [
      "[['Boston', 'Texas'], ['Texas', 'Missouri'], ['Missouri', 'NewYork'], ['NewYork', 'Chicago']]\n"
     ]
    }
   ],
   "source": [
    "def trace_path(my_dict):\n",
    "    result = []\n",
    "    # Create a reverse dict of the given dict i.e if the given dict has (N,C)\n",
    "    # then reverse dict will have (C,N) as key-value pair\n",
    "    # Traverse original dict and see if it's key exists in reverse dict\n",
    "    # If it doesn't exist then we found our starting point.\n",
    "    # After the starting point is found, simply trace the complete path\n",
    "    # from the original dict.\n",
    "    reverse_dict = dict()\n",
    "    # To fill reverse dict, iterate through the given dict\n",
    "    keys = my_dict.keys()\n",
    "    for key in keys:\n",
    "        reverse_dict[my_dict.get(key)] = key\n",
    "    # Find the starting point of itinerary\n",
    "    from_loc = None\n",
    "    keys_rev = reverse_dict.keys()\n",
    "    for key in keys:\n",
    "        if key not in reverse_dict:\n",
    "            from_loc = key\n",
    "            break\n",
    "            # Trace complete path\n",
    "    to = my_dict.get(from_loc)\n",
    "    while to is not None:\n",
    "        result.append([from_loc, to])\n",
    "        from_loc = to\n",
    "        to = my_dict.get(to)\n",
    "    return result\n",
    "\n",
    "\n",
    "my_dict = dict()\n",
    "my_dict[\"NewYork\"] = \"Chicago\"\n",
    "my_dict[\"Boston\"] = \"Texas\"\n",
    "my_dict[\"Missouri\"] = \"NewYork\"\n",
    "my_dict[\"Texas\"] = \"Missouri\"\n",
    "print(trace_path(my_dict))"
   ]
  },
  {
   "cell_type": "markdown",
   "id": "raised-minority",
   "metadata": {},
   "source": [
    "## Challenge 5: Find Two Pairs in List such that a+b = c+d\n",
    "\n",
    "In this problem, you have to implement the find_pair() function which will find two pairs, [a, b] and [c, d], in a list such that :\n",
    "\n",
    "a+b = c+d\n",
    "\n",
    "You only have to find the first two pairs in the list which satisfies the above condition.\n",
    "\n",
    "Input #\n",
    "A list of distinct integers.\n",
    "\n",
    "Output #\n",
    "A list containing two pairs, (a, b) and (c, d), which satisfy a + b = c + d\n",
    "\n",
    "```\n",
    "# Sample Input\n",
    "my_list = [3, 4, 7, 1, 12, 9]\n",
    "# Sample Output #\n",
    "[[4,12],[7,9]]\n",
    "```"
   ]
  },
  {
   "cell_type": "markdown",
   "id": "varying-reason",
   "metadata": {},
   "source": [
    "### Solution: Sums Stored as Hash Keys\n",
    "\n",
    "\n",
    "The time complexity of this algorithm is O(n2)."
   ]
  },
  {
   "cell_type": "code",
   "execution_count": 26,
   "id": "extended-relation",
   "metadata": {},
   "outputs": [],
   "source": [
    "def find_pair(my_list):\n",
    "    my_dict = {}\n",
    "\n",
    "    for item1 in my_list:\n",
    "        for item2 in my_list:\n",
    "            if item1 != item2:\n",
    "                if item1 + item2 in my_dict.keys() and my_dict[item1+item2] != [item2, item1]:\n",
    "                    result = [[item1, item2], my_dict[item1+item2]]\n",
    "                else:\n",
    "                    my_dict[item1+item2] = [item1, item2]\n",
    "    \n",
    "    return result"
   ]
  },
  {
   "cell_type": "code",
   "execution_count": 28,
   "id": "yellow-moore",
   "metadata": {},
   "outputs": [
    {
     "name": "stdout",
     "output_type": "stream",
     "text": [
      "[[9, 1], [7, 3]]\n"
     ]
    }
   ],
   "source": [
    "my_list = [3, 4, 7, 1, 12, 9]\n",
    "print(find_pair(my_list))"
   ]
  },
  {
   "cell_type": "code",
   "execution_count": null,
   "id": "surprised-province",
   "metadata": {},
   "outputs": [],
   "source": [
    "def find_pair(my_list):\n",
    "    result = []\n",
    "    # Create Has my_dict with Key being added and value being a pair\n",
    "    # i.e key = 3 , value = {1,2}\n",
    "    # Traverse all possible pairs in my_list and store sums in map\n",
    "    # If sum already exist then print out the two pairs.\n",
    "    my_dict = dict()\n",
    "    for i in range(len(my_list)):\n",
    "        for j in range(i+1, len(my_list)):\n",
    "            added = my_list[i] + my_list[j]  # calculate sum\n",
    "            # the 'in' operator on dict() item has a. complexity of O(1)\n",
    "            # This is because of hashing\n",
    "            # On a list, the 'in' operator would have the complexity of O(n)\n",
    "            if added not in my_dict:\n",
    "                # If added is not present in dict then insert it with pair\n",
    "                my_dict[added] = [my_list[i], my_list[j]]\n",
    "            else:\n",
    "                # added already present in Map\n",
    "                prev_pair = my_dict.get(added)\n",
    "                # Since list elements are distinct, we don't\n",
    "                # need to check if any element is common among pairs\n",
    "                second_pair = [my_list[i], my_list[j]]\n",
    "                result.append(prev_pair)\n",
    "                result.append(second_pair)\n",
    "                return result\n",
    "    return result\n",
    "\n",
    "\n",
    "my_list = [3, 4, 7, 1, 12, 9, 0]\n",
    "print(find_pair(my_list))"
   ]
  },
  {
   "cell_type": "markdown",
   "id": "bizarre-terminology",
   "metadata": {},
   "source": [
    "## Challenge 6: A Sublist with a Sum of 0\n",
    "\n",
    "You must implement the find_sub_zero(my_list) function which will take in a list of positive and negative integers. It will tell us if there exists a sublist in which the sum of all elements is zero. The term sublist implies that the elements whose sum is 0 must occur consecutively.\n",
    "\n",
    "A list with these contents would return True:\n",
    "\n",
    "Input #\n",
    "A list containing positive and negative integers.\n",
    "\n",
    "Output #\n",
    "Returns True if there exists a sublist with its sum equal to 0. Otherwise, the function returns False."
   ]
  },
  {
   "cell_type": "markdown",
   "id": "seeing-aberdeen",
   "metadata": {},
   "source": [
    "### Naive Solution\n",
    "The naive solution would be to iterate the list in a nested loop, summing each element with all the elements succeeding it."
   ]
  },
  {
   "cell_type": "code",
   "execution_count": 30,
   "id": "metropolitan-brush",
   "metadata": {},
   "outputs": [
    {
     "name": "stdout",
     "output_type": "stream",
     "text": [
      "True\n"
     ]
    }
   ],
   "source": [
    "def find_sub_zero(my_list):\n",
    "    for i in range(len(my_list)):\n",
    "        cum = my_list[i]\n",
    "        for j in range(i+1, len(my_list)):\n",
    "            cum += my_list[j]\n",
    "            if cum == 0:\n",
    "                return True\n",
    "    return False\n",
    "\n",
    "my_list = [6, 4, -7, 3, 12, 9]\n",
    "print(find_sub_zero(my_list))"
   ]
  },
  {
   "cell_type": "markdown",
   "id": "disabled-screening",
   "metadata": {},
   "source": [
    "### Solution: Iterative Hashing\n",
    "\n",
    "A hash table makes things much simpler.\n",
    "\n",
    "As always, a linear iteration over n elements means that the algorithm’s time complexity is O(n)."
   ]
  },
  {
   "cell_type": "code",
   "execution_count": 52,
   "id": "occasional-energy",
   "metadata": {},
   "outputs": [
    {
     "name": "stdout",
     "output_type": "stream",
     "text": [
      "True\n"
     ]
    }
   ],
   "source": [
    "def find_sub_zero(my_list):\n",
    "    # Use hash table to store the cumulative sum as key\n",
    "    # and the element as value till which sum has been calculated\n",
    "    # Traverse the list and return true if either\n",
    "    # elem == 0 or sum == 0 or hash table already contains the sum\n",
    "    # If you completely traverse the list\n",
    "    # and haven't found any of the above three\n",
    "    # conditions then simply return false\n",
    "    ht = dict()\n",
    "    total_sum = 0\n",
    "    # Traverse through the given list\n",
    "    for elem in my_list:\n",
    "        \n",
    "        total_sum += elem\n",
    "        # これまでの合計が、過去にも同じ値が計算されている、つまり、過去の部分を削除してやれば sum=0 が達成される\n",
    "        if elem is 0 or total_sum is 0 or ht.get(total_sum) is not None:\n",
    "            return True\n",
    "        ht[total_sum] = elem\n",
    "    return False\n",
    "\n",
    "\n",
    "my_list = [6, 4, -7, 3, 12, 9]\n",
    "print(find_sub_zero(my_list))"
   ]
  },
  {
   "cell_type": "markdown",
   "id": "stretch-shaft",
   "metadata": {},
   "source": [
    "## Challenge 7: Word Formation Using a Hash Table\n",
    "\n",
    "Problem Statement #\n",
    "You have to implement the is_formation_possible() function which will find whether a given word can be formed by combining two words from a dictionary. We assume that all words are in lower case.\n",
    "\n",
    "Input #\n",
    "A list and a query word containing lowercase characters.\n",
    "\n",
    "Output #\n",
    "Returns True if the given word can be generated by combining two words from the list."
   ]
  },
  {
   "cell_type": "markdown",
   "id": "complete-anniversary",
   "metadata": {},
   "source": [
    "### Solution: Iterative Word Matching\n",
    "We perform the insert operation m times for a list of size m. After that, we linearly traverse the word of size n once. Furthermore, we slice strings of size n in each iteration. Hence the total time complexity is O(m + n^2).\n",
    "\n",
    "The solution only works for two words and not more."
   ]
  },
  {
   "cell_type": "code",
   "execution_count": null,
   "id": "oriental-professional",
   "metadata": {},
   "outputs": [],
   "source": [
    "from HashTable import HashTable\n",
    "\n",
    "\n",
    "def is_formation_possible(lst, word):\n",
    "\n",
    "    if len(word) < 2 or len(lst) < 2:\n",
    "        return False\n",
    "    \n",
    "    hash_table = HashTable()\n",
    "    for elem in lst:\n",
    "        hash_table.insert(elem, True)\n",
    "        \n",
    "    for i in range(1, len(word)):\n",
    "        # Slice the word into two strings in each iteration\n",
    "        first = word[0:i]\n",
    "        second = word[i:len(word)]\n",
    "        check1 = False\n",
    "        check2 = False\n",
    "    \n",
    "        if hash_table.search(first) is not None:\n",
    "            check1 = True\n",
    "        if hash_table.search(second) is not None:\n",
    "            check2 = True\n",
    "        \n",
    "        # Return True If both substrings are present in the trie\n",
    "        if check1 and check2:\n",
    "            return True\n",
    "\n",
    "    return False\n",
    "\n",
    "keys = [\"the\", \"hello\", \"there\", \"answer\",\n",
    "        \"any\", \"educative\", \"world\", \"their\", \"abc\"]\n",
    "print(is_formation_possible(keys, \"helloworld\"))  "
   ]
  },
  {
   "cell_type": "markdown",
   "id": "adult-prescription",
   "metadata": {},
   "source": [
    "### solution for more than two words."
   ]
  },
  {
   "cell_type": "code",
   "execution_count": 79,
   "id": "fatty-reader",
   "metadata": {},
   "outputs": [
    {
     "name": "stdout",
     "output_type": "stream",
     "text": [
      "he\n",
      "hel\n",
      "hell\n",
      "hello\n",
      "here 4 10 3\n",
      "wo\n",
      "wor\n",
      "worl\n",
      "world\n",
      "here 9 10 8\n",
      "True\n"
     ]
    }
   ],
   "source": [
    "def is_formation_possible(lst, word):\n",
    "    set_lst = set(lst)\n",
    "    start = 0\n",
    "    \n",
    "    while start <= len(word):\n",
    "        subword = word[start]\n",
    "        for i in range(start+1, len(word)):\n",
    "            subword += word[i]\n",
    "            print(subword)\n",
    "            if subword in set_lst:\n",
    "                if i + 1 == len(word):\n",
    "                    return True\n",
    "                else:\n",
    "                    start = i+1\n",
    "                    break\n",
    "            else:\n",
    "                start += 1 \n",
    "    \n",
    "    return False\n",
    "\n",
    "\n",
    "keys = [\"the\", \"hello\", \"there\", \"answer\",\n",
    "        \"any\", \"educative\", \"world\", \"their\", \"abc\"]\n",
    "print(is_formation_possible(keys, \"helloworld\")) "
   ]
  },
  {
   "cell_type": "markdown",
   "id": "efficient-lobby",
   "metadata": {},
   "source": [
    "## Challenge 8: Find Two Numbers that Add up to \"k\"\n",
    "\n",
    "In this problem, you have to implement the findSum(lst,k) function which will take a number k as input and return two numbers that add up to k.\n",
    "\n",
    "You have already seen this challenge previously in chapter 2 of this course. Here you would use HashTables for a more efficient solution.\n",
    "\n",
    "Input #\n",
    "A list and a number k\n",
    "\n",
    "Output #\n",
    "A list with two integers a and b that add up to k"
   ]
  },
  {
   "cell_type": "markdown",
   "id": "advised-mobility",
   "metadata": {},
   "source": [
    "### Naive Solution\n",
    "The time complexity is O(N^2)"
   ]
  },
  {
   "cell_type": "code",
   "execution_count": 107,
   "id": "loved-range",
   "metadata": {},
   "outputs": [],
   "source": [
    "def findSum(lst, k):\n",
    "    for i in range(len(lst)):\n",
    "        for j in range(i+1, len(lst)):\n",
    "            if lst[i] + lst[j] == k:\n",
    "                return [lst[i], lst[j]]\n",
    "    return False"
   ]
  },
  {
   "cell_type": "markdown",
   "id": "surface-reach",
   "metadata": {},
   "source": [
    "### Using the Python Set.\n",
    "\n",
    "The element being searched should not be in the list. So the solution uses foundValues set() and added element after searched.\n",
    "\n",
    "The time complexity of the solution above is O(n)O(n)."
   ]
  },
  {
   "cell_type": "code",
   "execution_count": 109,
   "id": "acoustic-bloom",
   "metadata": {},
   "outputs": [],
   "source": [
    "def findSum(lst, value):\n",
    "    foundValues = set()\n",
    "    for ele in lst:\n",
    "        if value - ele in foundValues:\n",
    "            return [value-ele, ele]\n",
    "        foundValues.add(ele)\n",
    "    return False"
   ]
  },
  {
   "cell_type": "code",
   "execution_count": 110,
   "id": "serial-clearing",
   "metadata": {},
   "outputs": [
    {
     "name": "stdout",
     "output_type": "stream",
     "text": [
      "[2, 4]\n"
     ]
    }
   ],
   "source": [
    "print(findSum([1, 3, 2, 4], 6))"
   ]
  },
  {
   "cell_type": "markdown",
   "id": "nonprofit-junction",
   "metadata": {},
   "source": [
    "## Solution Review: First Non-Repeating Integer in a list\n",
    "\n",
    "\n",
    "### Solution #1: Using a Python dictionary to keep count of repetitions\n",
    "Since the list is only iterated over only once, therefore the time complexity of this solution is linear, i.e., O(n)O(n)."
   ]
  },
  {
   "cell_type": "code",
   "execution_count": null,
   "id": "broken-thought",
   "metadata": {},
   "outputs": [],
   "source": [
    "def findFirstUnique(lst):\n",
    "    counts = {}  # Creating a dictionary\n",
    "    # Initializing dictionary with pairs like (lst[i],count)\n",
    "    counts = counts.fromkeys(lst, 0)\n",
    "    for ele in lst:\n",
    "        # counts[ele] += 1  # Incrementing for every repitition\n",
    "        counts[ele] = counts[ele]+1\n",
    "    answer_key = None\n",
    "    # filter first non-repeating \n",
    "    for ele in lst:\n",
    "        if (counts[ele] is 1):\n",
    "            answer_key = ele\n",
    "            break\n",
    "    return answer_key\n",
    "\n",
    "\n",
    "print(findFirstUnique([1, 1, 1, 2]))"
   ]
  },
  {
   "cell_type": "markdown",
   "id": "german-proof",
   "metadata": {},
   "source": [
    "### Solution #2: Using collections "
   ]
  },
  {
   "cell_type": "code",
   "execution_count": null,
   "id": "southern-pledge",
   "metadata": {},
   "outputs": [],
   "source": [
    "import collections\n",
    "\n",
    "\n",
    "def findFirstUnique(lst):\n",
    "    orderedCounts = collections.OrderedDict()  # Creating an ordered dictionary\n",
    "    # Initializing dictionary with pairs like (lst[i],0)\n",
    "    orderedCounts = orderedCounts.fromkeys(lst, 0)\n",
    "    for ele in lst:\n",
    "        orderedCounts[ele] += 1  # Incrementing for every repitition\n",
    "    for ele in orderedCounts:\n",
    "        if orderedCounts[ele] == 1:\n",
    "            return ele\n",
    "    return None\n",
    "\n",
    "\n",
    "print(findFirstUnique([1, 1, 1, 2, 3, 2, 4]))"
   ]
  }
 ],
 "metadata": {
  "kernelspec": {
   "display_name": "conda_python3",
   "language": "python",
   "name": "conda_python3"
  },
  "language_info": {
   "codemirror_mode": {
    "name": "ipython",
    "version": 3
   },
   "file_extension": ".py",
   "mimetype": "text/x-python",
   "name": "python",
   "nbconvert_exporter": "python",
   "pygments_lexer": "ipython3",
   "version": "3.6.10"
  }
 },
 "nbformat": 4,
 "nbformat_minor": 5
}
