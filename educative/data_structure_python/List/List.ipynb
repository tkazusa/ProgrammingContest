{
 "cells": [
  {
   "cell_type": "markdown",
   "id": "30905228",
   "metadata": {},
   "source": [
    "## Data Structures in Python"
   ]
  },
  {
   "cell_type": "markdown",
   "id": "fed2250a",
   "metadata": {},
   "source": [
    "### List VS Array\n",
    "The differences between the two largely exist because of the aforementioned backend implementation. Arrays in Python are implemented just like C arrays, with a pointer pointing to the first element of the array with the rest existing contiguously in the memory."
   ]
  },
  {
   "cell_type": "markdown",
   "id": "79e241dd",
   "metadata": {},
   "source": [
    "**Problem**\n",
    "\n",
    "Implement a function that removes all the even elements from a given list. Name it `remove_even(list)`."
   ]
  },
  {
   "cell_type": "markdown",
   "id": "59e41147",
   "metadata": {},
   "source": [
    "Time compolexity is O(n) because the entire list has to be iterated."
   ]
  },
  {
   "cell_type": "code",
   "execution_count": 1,
   "id": "6dbc88b9",
   "metadata": {},
   "outputs": [],
   "source": [
    "def remove_even(list):\n",
    "    output_list = []\n",
    "    for num in list:\n",
    "        if num % 2 != 0:\n",
    "            output_list.append(num)\n",
    "        else:\n",
    "            pass\n",
    "    return output_list"
   ]
  },
  {
   "cell_type": "markdown",
   "id": "7617edfe",
   "metadata": {},
   "source": [
    "List comprehension could be more pythonic."
   ]
  },
  {
   "cell_type": "code",
   "execution_count": 2,
   "id": "8e4d10e7",
   "metadata": {},
   "outputs": [],
   "source": [
    "def remove_even(list):\n",
    "    return [item for item in list if item % 2 != 0]"
   ]
  },
  {
   "cell_type": "markdown",
   "id": "87788bdd",
   "metadata": {},
   "source": [
    "### Problem 1\n",
    "Implement a function that merges two sorted lists of m and n elements respectively, into another sorted list. Name it merge_lists(lst1, lst2)."
   ]
  },
  {
   "cell_type": "markdown",
   "id": "dfe44bd6",
   "metadata": {},
   "source": [
    "**Answer1**\n",
    "The solution below is a simple way to solve this problem. Start by creating a new empty list. This list will be filled with all the elements of both lists in sorted order and returned. Then initialize three variables to zero to store the current index of each list. Then compare the elements of the two given lists at the current index of each, append the smaller one to the new list and increment the index of that list by 1. Repeat until the end of one of the lists is reached and append the other list to the merged list.\n",
    "\n",
    "The time complexity for this algorithm is O(n+m) where n and m are the lengths of the lists. This is because both lists are iterated over atleast once."
   ]
  },
  {
   "cell_type": "code",
   "execution_count": null,
   "id": "6ae8aaae",
   "metadata": {},
   "outputs": [],
   "source": [
    "def merge_lists(lst1, lst2):\n",
    "    result = []\n",
    "    \n",
    "    # index を初期化。\n",
    "    index_arr1 = 0\n",
    "    index_arr2 = 0\n",
    "    index_result = 0\n",
    "\n",
    "    # time:O(N), memory:O(1)\n",
    "    for i in range(len(lst1)+len(lst2)):\n",
    "        result.append(i)\n",
    "        \n",
    "    \n",
    "    while (index_arr1 < len(lst1)) and (index_arr2 < len(lst2)):\n",
    "        if (lst1[index_arr1] < lst2[index_arr2]):\n",
    "            result[index_result] = lst1[index_arr1]\n",
    "            index_result += 1\n",
    "            index_arr1 += 1\n",
    "        else:\n",
    "            result[index_result] = lst2[index_arr2]\n",
    "            index_result += 1\n",
    "            index_arr2 += 1\n",
    "    while (index_arr1 < len(lst1)):\n",
    "        result[index_result] = lst1[index_arr1]\n",
    "        index_result += 1\n",
    "        index_arr1 += 1\n",
    "    while (index_arr2 < len(lst2)):\n",
    "        result[index_result] = lst2[index_arr2]\n",
    "        index_result += 1\n",
    "        index_arr2 += 1\n",
    "    return result\n",
    "\n",
    "\n",
    "print(merge_lists([4, 5, 6], [-2, -1, 0, 7]))"
   ]
  },
  {
   "cell_type": "markdown",
   "id": "d7f1b153",
   "metadata": {},
   "source": [
    "**Solution 2**\n",
    "This solution merges the two lists in place, i.e., no new list is created. First, initialize two new variables to track the ‘current index’ of both the lists to zero. Then, compare the current elements of both. If the current element of the first list is greater than the current element of the second list, insert the current element of the second list in place of the current element of the first list and increment both index variables by 1. Note that the insert operation is done using the built-in insert function. However, if the current element of the first list is smaller than the current element of the second list, then only increment the index variable of the first list by 1. Continue this until the end of one of the lists is reached, i.e., until one of the index variables is greater than or equal to the length of its respective list. After that, if the index of the second list is smaller than the length of the list, extend the first list by the second one from that index until the end."
   ]
  },
  {
   "cell_type": "code",
   "execution_count": 6,
   "id": "694a8765",
   "metadata": {},
   "outputs": [
    {
     "name": "stdout",
     "output_type": "stream",
     "text": [
      "[-2, -1, 0, 4, 5, 6, 7]\n"
     ]
    }
   ],
   "source": [
    "def merge(left, right):\n",
    "    merged = []\n",
    "    l_i, r_i = 0, 0\n",
    "\n",
    "    # ソート済み配列をマージするため、それぞれ左から見ていくだけで良い\n",
    "    while l_i < len(left) and r_i < len(right):\n",
    "        # ここで=をつけることで安定性を保っている\n",
    "        if left[l_i] <= right[r_i]:\n",
    "            merged.append(left[l_i])\n",
    "            l_i += 1\n",
    "        else:\n",
    "            merged.append(right[r_i])\n",
    "            r_i += 1\n",
    "\n",
    "    # 上のwhile文のどちらかがFalseになった場合終了するため、あまりをextendする\n",
    "    if l_i < len(left):\n",
    "        merged.extend(left[l_i:])\n",
    "    if r_i < len(right):\n",
    "        merged.extend(right[r_i:])\n",
    "    return merged\n",
    "\n",
    "print(merge([4, 5, 6], [-2, -1, 0, 7]))"
   ]
  },
  {
   "cell_type": "markdown",
   "id": "62a4a6eb",
   "metadata": {},
   "source": [
    "**Answer3**\n",
    "Solving with insertion sort. The time complexity for this algorithm is O((N+M)^2) where N and M are the length of given lists. The requirments of extra memory is O(1), so it's inplace. This algorithm is stable sort."
   ]
  },
  {
   "cell_type": "code",
   "execution_count": 4,
   "id": "4805dc12",
   "metadata": {},
   "outputs": [
    {
     "name": "stdout",
     "output_type": "stream",
     "text": [
      "before [1, 3, 4, 2, 5]\n",
      "after  [1, 2, 3, 4, 5]\n"
     ]
    }
   ],
   "source": [
    "def insertion_sort(array):\n",
    "    n = len(array)\n",
    "    for i in range(1, n):\n",
    "        # Beggin from 1\n",
    "        tmp = array[i]       \n",
    "        # tmp の item と、一つ前の item を比較 \n",
    "        if tmp < array[i-1]:\n",
    "            #もしtmp の方が小さい場合には、tmp をどこに挿入するか探す\n",
    "            while True:\n",
    "                array[i] = array[i-1]\n",
    "                i -= 1\n",
    "                \n",
    "                # tmp が比較対象より大きい or i == 0、 array の一番最初に来た場合\n",
    "                # 挿入位置の探索を終了\n",
    "                if tmp >= array[i-1] or i == 0:\n",
    "                    break\n",
    "            # 探索終了位置に tmp を挿入\n",
    "            array[i] = tmp\n",
    "            \n",
    "\n",
    "if __name__ == \"__main__\":\n",
    "    array = [1,3,4,2,5]\n",
    "    print(\"before\", array)\n",
    "    insertion_sort(array)\n",
    "    print(\"after \", array)"
   ]
  },
  {
   "cell_type": "markdown",
   "id": "acf85f8e",
   "metadata": {},
   "source": [
    "### Problem 2\n",
    "In this problem, you have to implement the find_sum(lst,k) function which will take a number k as input and return two numbers that add up to k."
   ]
  },
  {
   "cell_type": "markdown",
   "id": "1d38800c",
   "metadata": {},
   "source": [
    "**Solutioin 1**\n",
    "\n",
    "For each item in the list, check if there is an another item that reaches given `k` when added up. Time complexity is O(N^2), memory complecity is O(1)."
   ]
  },
  {
   "cell_type": "code",
   "execution_count": null,
   "id": "aa89bd18",
   "metadata": {},
   "outputs": [],
   "source": [
    "def find_sum(lst, k):\n",
    "    # iterate lst with i\n",
    "    for i in range(len(lst)):\n",
    "        # iterate lst with j\n",
    "        for j in range(len(lst)):\n",
    "            # if sum of two iterators is k\n",
    "            # and i is not equal to j\n",
    "            # then we have our answer\n",
    "            if(lst[i]+lst[j] is k and i is not j):\n",
    "                return [lst[i], lst[j]]\n",
    "\n",
    "\n",
    "print(find_sum([1, 2, 3, 4], 5))"
   ]
  },
  {
   "cell_type": "markdown",
   "id": "ce7f637e",
   "metadata": {},
   "source": [
    "**Solutioin 2**\n",
    "\n",
    "If the intended sum is k and the first element of the sorted list is a0, then we will do a binary search for k-a0. The search is repeated for every ai up to an until one is found. Time complexity is O(NlogN), because binary search takes O(logN) and it is executed for all n elements in the given list. memory complecity is O(1).\n",
    "\n",
    "Binary search is a fast way to find the desired item in a sorted array."
   ]
  },
  {
   "cell_type": "code",
   "execution_count": 64,
   "id": "a3cbe3a7",
   "metadata": {},
   "outputs": [
    {
     "name": "stdout",
     "output_type": "stream",
     "text": [
      "0 3 1\n",
      "0 2 1\n",
      "0 1 0\n",
      "0 3 1\n",
      "0 2 1\n",
      "0 3 1\n",
      "[5, 3]\n",
      "0 5 2\n",
      "0 3 1\n",
      "0 2 1\n",
      "0 1 0\n",
      "0 5 2\n",
      "0 3 1\n",
      "0 5 2\n",
      "0 5 2\n",
      "0 2 1\n",
      "[4, 2]\n"
     ]
    }
   ],
   "source": [
    "def binary_search(lst, item):\n",
    "    left = 0\n",
    "    right = len(lst) - 1\n",
    "    found = False\n",
    "    index = -1\n",
    "    \n",
    "    while left <= right and not found:\n",
    "        mid = (left + right) // 2\n",
    "        \n",
    "        if lst[mid] == item:\n",
    "            index = mid\n",
    "            found = True\n",
    "        else:\n",
    "            if item < lst[mid]:\n",
    "                right = mid - 1\n",
    "            else:\n",
    "                left = mid + 1\n",
    "    if found:\n",
    "        return index\n",
    "    else:\n",
    "        return -1\n",
    "\n",
    "\n",
    "\n",
    "def find_sum(lst, k):\n",
    "    lst.sort()\n",
    "    for i in range(len(lst)):\n",
    "        index = binary_search(lst, k -lst[i])\n",
    "        if index is not -1 and index is not i:\n",
    "            return [lst[i], k -lst[i]]\n",
    "    \n",
    "print(find_sum([1, 5, 3], 8))\n",
    "print(find_sum([1, 2, 3, 4, 6], 6))"
   ]
  },
  {
   "cell_type": "markdown",
   "id": "ba806937",
   "metadata": {},
   "source": [
    "**Solutioin 3**\n",
    "\n",
    "Similar to solution 2, but used recursive function in the binary search function.The time complexity is same as solution 2."
   ]
  },
  {
   "cell_type": "code",
   "execution_count": 68,
   "id": "a4cabfd1",
   "metadata": {},
   "outputs": [
    {
     "name": "stdout",
     "output_type": "stream",
     "text": [
      "[5, 3]\n",
      "[2, 4]\n"
     ]
    }
   ],
   "source": [
    "def binary_search(lst, target, left, right):\n",
    "    index = -1\n",
    "    \n",
    "    if left >= right:\n",
    "        return index\n",
    "        \n",
    "    mid = (left + right) // 2\n",
    "    \n",
    "    if lst[mid] == target:\n",
    "        index = mid\n",
    "        return index\n",
    "    \n",
    "    else:\n",
    "        if target < lst[mid]:\n",
    "            right = mid - 1\n",
    "            \n",
    "        else:\n",
    "            left = mid + 1\n",
    "\n",
    "        return binary_search(lst, target, left, right)\n",
    "    \n",
    "def find_sum(lst, k):\n",
    "    lst.sort()\n",
    "    for i in range(len(lst)):\n",
    "        index = binary_search(lst, k -lst[i], 0, len(lst) - 1)\n",
    "        if index is not -1 and index is not i:\n",
    "            return [lst[i], k -lst[i]]\n",
    "    \n",
    "print(find_sum([1, 5, 3], 8))\n",
    "print(find_sum([1, 2, 3, 4, 6], 6))"
   ]
  },
  {
   "cell_type": "markdown",
   "id": "fd1ede5b",
   "metadata": {},
   "source": [
    "**Solutioin 4**\n",
    "\n",
    "This solution execute linear search to find pair of numbers for given `k`.  "
   ]
  },
  {
   "cell_type": "code",
   "execution_count": 69,
   "id": "a1b6d68f",
   "metadata": {},
   "outputs": [
    {
     "name": "stdout",
     "output_type": "stream",
     "text": [
      "[1, 4]\n",
      "False\n"
     ]
    }
   ],
   "source": [
    "def find_sum(lst, k):\n",
    "    # sort the list, O(nlogn)\n",
    "    lst.sort() \n",
    "    index1 = 0\n",
    "    index2 = len(lst) - 1\n",
    "    result = []\n",
    "    sum = 0\n",
    "    # iterate from front and back\n",
    "    # move accordingly to reach the sum to be equal to k\n",
    "    # returns false when the two indices meet\n",
    "    while (index1 != index2):\n",
    "        sum = lst[index1] + lst[index2]\n",
    "        if sum < k:\n",
    "            index1 += 1\n",
    "        elif sum > k:\n",
    "            index2 -= 1\n",
    "        else:\n",
    "            result.append(lst[index1])\n",
    "            result.append(lst[index2])\n",
    "            return result\n",
    "    return False\n",
    "\n",
    "\n",
    "print(find_sum([1, 2, 3, 4], 5))\n",
    "print(find_sum([1, 2, 3, 4], 2))"
   ]
  },
  {
   "cell_type": "markdown",
   "id": "c7e21dd3",
   "metadata": {},
   "source": [
    "## Challenge 4: List of Products of all Elements\n",
    "\n",
    "Implement a function, find_product(lst), which modifies a list so that each index has a product of all the numbers present in the list except the number stored at that index.\n",
    "\n",
    "Input:\n",
    "A list of numbers (could be floating points or integers)\n",
    "\n",
    "Output:\n",
    "A list such that each index has a product of all the numbers in the list except the number stored at that index. (各インデックスが、そのインデックスに格納されている数字を除く、リスト内のすべての数字の積を持つようなリスト)"
   ]
  },
  {
   "cell_type": "markdown",
   "id": "556179f9",
   "metadata": {},
   "source": [
    "### Solution #1: Using a nested loop\n",
    "This solution iterates over the list and calculates the product of all the numbers to the right of the current element as on lines 7 and 8. Then it calculates the product of all the elements to the left of the current element line 10. It then multiplies the two products and returns the result line 14. This algorithm is in O(n^2)O(n\n",
    "​2\n",
    "​​ ) because the list is iterated over n(n-1)/2n(n−1)/2 times."
   ]
  },
  {
   "cell_type": "code",
   "execution_count": 7,
   "id": "80d071e1",
   "metadata": {},
   "outputs": [
    {
     "name": "stdout",
     "output_type": "stream",
     "text": [
      "[24, 12, 8, 6]\n"
     ]
    }
   ],
   "source": [
    "def find_product(lst):\n",
    "    result = []\n",
    "    left = 1  # To store product of all previous values from currentIndex\n",
    "    for i in range(len(lst)):\n",
    "        currentproduct = 1  # To store current product for index i\n",
    "        # compute product of values to the right of i index of list\n",
    "        for ele in lst[i+1:]:\n",
    "            currentproduct = currentproduct * ele\n",
    "        # currentproduct * product of all values to the left of i index\n",
    "        result.append(currentproduct * left)\n",
    "        # Updating `left`\n",
    "        left = left * lst[i]\n",
    "\n",
    "    return result\n",
    "\n",
    "\n",
    "print(find_product([1, 2, 3, 4]))"
   ]
  },
  {
   "cell_type": "markdown",
   "id": "0f956d81",
   "metadata": {},
   "source": [
    "### Solution #2: Optimizing the number of multiplications\n",
    "\n",
    "The algorithm for this solution is to first create a new list with products of all elements to the left of each element as done on lines 4-6. Then multiply each element in that list to the product of all the elements to the right of the list by traversing it in reverse as done on lines 9-11. Since this algorithm only traverses over the list twice, it’s in linear time, O(n)O(n)."
   ]
  },
  {
   "cell_type": "code",
   "execution_count": null,
   "id": "0bf94dba",
   "metadata": {},
   "outputs": [],
   "source": [
    "def find_product(lst):\n",
    "    # get product start from left\n",
    "    left = 1\n",
    "    product = []\n",
    "    for ele in lst:\n",
    "        product.append(left)\n",
    "        left = left * ele\n",
    "    # get product starting from right\n",
    "    right = 1\n",
    "    for i in range(len(lst)-1, -1, -1):\n",
    "        product[i] = product[i] * right\n",
    "        right = right * lst[i]\n",
    "\n",
    "    return product\n",
    "\n",
    "\n",
    "print(find_product([0, 1, 2, 3]))"
   ]
  },
  {
   "cell_type": "markdown",
   "id": "3752e080",
   "metadata": {},
   "source": [
    "## Challenge 5: Find Minimum Value in List\n",
    "Implement a function findMinimum(lst) which finds the smallest number in the given list.\n",
    "\n",
    "Input: #\n",
    "A list of integers\n",
    "\n",
    "Output: #\n",
    "The smallest number in the list"
   ]
  },
  {
   "cell_type": "markdown",
   "id": "337e1d29",
   "metadata": {},
   "source": [
    "### Solution #1: Iterate over the list\n",
    "\n",
    "The solution below run the comparison for all items in the list given and find the minmum item. The time complexity is O(N) because there is one iteration loop in the solution."
   ]
  },
  {
   "cell_type": "code",
   "execution_count": null,
   "id": "d2e89094",
   "metadata": {},
   "outputs": [],
   "source": [
    "def find_minimum(lst):\n",
    "    if (len(lst) <= 0):\n",
    "        return None\n",
    "    minimum = lst[0]\n",
    "    for ele in lst:\n",
    "        # update if found a smaller element\n",
    "        if ele < minimum:\n",
    "            minimum = ele\n",
    "    return minimum\n",
    "\n",
    "\n",
    "print(find_minimum([9, 2, 3, 6]))"
   ]
  },
  {
   "cell_type": "markdown",
   "id": "11dd818f",
   "metadata": {},
   "source": [
    "### Solution #2: Sort the list\n",
    "\n",
    "The build-in sort function sort and the mergeSort are in O(nlogn)O(nlogn). Since we only index and return after that, which are constant time operations, this solution takes O(nlogn)O(nlogn) time."
   ]
  },
  {
   "cell_type": "code",
   "execution_count": 12,
   "id": "e6d3b7a4",
   "metadata": {},
   "outputs": [
    {
     "name": "stdout",
     "output_type": "stream",
     "text": [
      "2\n"
     ]
    }
   ],
   "source": [
    "def merge_sort(my_list):\n",
    "    # my_list の長さが 1 のときには何もしない\n",
    "    if len(my_list) > 1:\n",
    "        mid = len(my_list) // 2\n",
    "        left = my_list[:mid]\n",
    "        right = my_list[mid:]\n",
    "\n",
    "        # 再帰的に全部分割、かつ、leftとrightはソート済となる\n",
    "        merge_sort(left)\n",
    "        merge_sort(right)\n",
    "\n",
    "        # Two iterators for traversing(横断) the two halves\n",
    "        left_index = 0\n",
    "        right_index = 0\n",
    "        \n",
    "        # Iterator for the main list\n",
    "        main_index = 0\n",
    "        \n",
    "        # ソートされている left と right の比較。\n",
    "        while left_index < len(left) and right_index < len(right):\n",
    "            if left[left_index] < right[right_index]:\n",
    "              # The value from the left half has been used\n",
    "              my_list[main_index] = left[left_index]\n",
    "              # Move the iterator forward\n",
    "              left_index += 1\n",
    "            else:\n",
    "                my_list[main_index] = right[right_index]\n",
    "                right_index += 1\n",
    "            # Move to the next slot\n",
    "            main_index += 1\n",
    "\n",
    "        # For all the remaining values\n",
    "        # Until item of one or the other list are gone, \n",
    "        while left_index < len(left):\n",
    "            my_list[main_index] = left[left_index]\n",
    "            left_index += 1\n",
    "            main_index += 1\n",
    "\n",
    "        while right_index < len(right):\n",
    "            my_list[main_index]=right[right_index]\n",
    "            right_index += 1\n",
    "            main_index += 1\n",
    "\n",
    "\n",
    "def find_minimum(lst):\n",
    "    if (len(lst) <= 0):\n",
    "        return None\n",
    "    merge_sort(lst)  # sort list\n",
    "    return lst[0]  # return first element\n",
    "\n",
    "\n",
    "print(find_minimum([9, 2, 3, 6]))"
   ]
  },
  {
   "cell_type": "markdown",
   "id": "65570daf",
   "metadata": {},
   "source": [
    "## Challenge 6: First Non-Repeating Integer in a list\n",
    "\n",
    "Implement a function, find_first_unique(lst) that returns the first unique integer in the list.\n",
    "\n",
    "Input #\n",
    "A list of integers\n",
    "\n",
    "Output #\n",
    "The first unique element in the list"
   ]
  },
  {
   "cell_type": "markdown",
   "id": "699f8a31",
   "metadata": {},
   "source": [
    "### Solution #1: Brute Force\n",
    "\n",
    "In the solution below, I started a iteration to pick a target value from the list. And then, the target value is compared with other values in the list whethere it is unique or not. The first target value which passes the secon itaration, compaeison loop, is the first unique value we wanted to fined."
   ]
  },
  {
   "cell_type": "code",
   "execution_count": 19,
   "id": "e0741600",
   "metadata": {},
   "outputs": [
    {
     "data": {
      "text/plain": [
       "5"
      ]
     },
     "execution_count": 19,
     "metadata": {},
     "output_type": "execute_result"
    }
   ],
   "source": [
    "def find_first_unique(lst):\n",
    "    for i in range(len(lst)):\n",
    "        target = lst[i]\n",
    "        unique = True\n",
    "        \n",
    "        for j in range(i+1, len(lst)):\n",
    "            if target == lst[j]:\n",
    "                unique = False\n",
    "            else:\n",
    "                pass\n",
    "        \n",
    "        if unique:\n",
    "            first_unique = target\n",
    "            return first_unique \n",
    "        \n",
    "        \n",
    "find_first_unique([4, 5, 1, 2, 0, 4])"
   ]
  },
  {
   "cell_type": "markdown",
   "id": "8d796746",
   "metadata": {},
   "source": [
    "### Solution #2: Using a Python dictionary to keep count of repetitions \n",
    "\n",
    "The keys in the counts dictionary are the elements of the given list and the values are the number of times each element appears in the list. We return the element that appears at most once in the list on line 23. We return the first non-repeating element in the list after traversing lst. Since the list is only iterated over only twice and the counts dictionary is initialized with linear time complexity, therefore the time complexity of this solution is linear, i.e., O(n)."
   ]
  },
  {
   "cell_type": "code",
   "execution_count": 22,
   "id": "b177face",
   "metadata": {},
   "outputs": [
    {
     "name": "stdout",
     "output_type": "stream",
     "text": [
      "{1: 0, 2: 0}\n",
      "2\n"
     ]
    }
   ],
   "source": [
    "def findFirstUnique(lst):\n",
    "    counts = {}  # Creating a dictionary\n",
    "    # Initializing dictionary with pairs like (lst[i],count)\n",
    "    counts = counts.fromkeys(lst, 0)\n",
    "    print(counts)\n",
    "    \n",
    "    for ele in lst:\n",
    "        # counts[ele] += 1  # Incrementing for every repitition\n",
    "        counts[ele] = counts[ele]+1\n",
    "        \n",
    "    answer_key = None\n",
    "    \n",
    "    # filter first non-repeating \n",
    "    for ele in lst:\n",
    "        if (counts[ele] is 1):\n",
    "            answer_key = ele\n",
    "            break\n",
    "    return answer_key\n",
    "\n",
    "\n",
    "print(findFirstUnique([1, 1, 1, 2]))"
   ]
  },
  {
   "cell_type": "markdown",
   "id": "77f4848d",
   "metadata": {},
   "source": [
    "### Solution #2: Using collections\n",
    "\n",
    "This solution is different from the previous as now the dictionary is maintained in a specific order in the orderedCounts variable. Since the list is only iterated over only once, therefore the time complexity of this solution is linear, i.e., O(n)."
   ]
  },
  {
   "cell_type": "code",
   "execution_count": 24,
   "id": "5250fae0",
   "metadata": {},
   "outputs": [
    {
     "name": "stdout",
     "output_type": "stream",
     "text": [
      "OrderedDict([(1, 0), (2, 0), (3, 0), (4, 0)])\n",
      "3\n"
     ]
    }
   ],
   "source": [
    "import collections\n",
    "\n",
    "\n",
    "def findFirstUnique(lst):\n",
    "    orderedCounts = collections.OrderedDict()  # Creating an ordered dictionary\n",
    "    \n",
    "    \n",
    "    # Initializing dictionary with pairs like (lst[i],0)\n",
    "    orderedCounts = orderedCounts.fromkeys(lst, 0)\n",
    "    print(orderedCounts)\n",
    "    \n",
    "    for ele in lst:\n",
    "        orderedCounts[ele] += 1  # Incrementing for every repitition\n",
    "    \n",
    "    for ele in orderedCounts:\n",
    "        if orderedCounts[ele] == 1:\n",
    "            return ele\n",
    "    return None\n",
    "\n",
    "\n",
    "print(findFirstUnique([1, 1, 1, 2, 3, 2, 4]))"
   ]
  },
  {
   "cell_type": "markdown",
   "id": "55b1feda",
   "metadata": {},
   "source": [
    "### Challenge 7: Find Second Maximum Value in a List\n",
    "\n",
    "Implement a function find_second_maximum(lst) which returns the second largest element in the list.\n",
    "\n",
    "Input: #\n",
    "A List\n",
    "\n",
    "Output: #\n",
    "Second largest element in the list"
   ]
  },
  {
   "cell_type": "markdown",
   "id": "de782412",
   "metadata": {},
   "source": [
    "### Solution #1: Sort and index\n",
    "\n",
    "The idea of this solution is that the second largest item in the sorted given list is the item we wanted to find.\n",
    "\n",
    "Caveat: Note that this solution won’t work if duplicates of the first largest number exist. For instance, it would not work with a list like [1,2,4,4] since it would return 4 which is at the second last index of the sorted list. But, it is the largest element and not the correct answer."
   ]
  },
  {
   "cell_type": "code",
   "execution_count": 25,
   "id": "870de8b6",
   "metadata": {},
   "outputs": [
    {
     "name": "stdout",
     "output_type": "stream",
     "text": [
      "6\n"
     ]
    }
   ],
   "source": [
    "def find_second_maximum(lst):\n",
    "    lst.sort()\n",
    "    if len(lst) >= 2:\n",
    "        return lst[-2]\n",
    "    else:\n",
    "        return None\n",
    "\n",
    "\n",
    "print(find_second_maximum([9, 2, 3, 6]))"
   ]
  },
  {
   "cell_type": "markdown",
   "id": "f3696c2c",
   "metadata": {},
   "source": [
    "### Solution #2: Traversing the list twice\n",
    "\n",
    "The sollution traverses the list twice. In the first traversal, we find the maximum element. In the second traversal, find the greatest element less than the element obtained in the first traversal. The time complexity of the solution is O(n)O(n) since the list is traversed twice.\n",
    "\n"
   ]
  },
  {
   "cell_type": "code",
   "execution_count": 26,
   "id": "3db5ad15",
   "metadata": {},
   "outputs": [
    {
     "name": "stdout",
     "output_type": "stream",
     "text": [
      "6\n"
     ]
    }
   ],
   "source": [
    "def find_second_maximum(lst):\n",
    "    first_max = float('-inf')\n",
    "    second_max = float('-inf')\n",
    "    \n",
    "    # find first max\n",
    "    for item in lst:\n",
    "        if item > first_max:\n",
    "            first_max = item\n",
    "    \n",
    "    # find max relative to first max\n",
    "    for item in lst:\n",
    "        if item != first_max and item > second_max:\n",
    "            second_max = item\n",
    "    return second_max\n",
    "\n",
    "\n",
    "print(find_second_maximum([9, 2, 3, 6]))"
   ]
  },
  {
   "cell_type": "markdown",
   "id": "c8c7d737",
   "metadata": {},
   "source": [
    "### Solution #3: Finding the Second Maximum in one Traversal\n",
    "\n",
    "The solution initialize two variables max_no and secondmax to -inf. We then traverse the list, and if the current element in the list is greater than the maximum value, then set secondmax to max_no and max_no to the current element. If the current element is greater than the second maximum number and not equal to maximum number, then update secondmax to store the value of the current variable. Finally, return the value stored in secondmax. This solution is in O(n)O(n) since the list is traversed once only."
   ]
  },
  {
   "cell_type": "code",
   "execution_count": 27,
   "id": "46b9353a",
   "metadata": {},
   "outputs": [
    {
     "name": "stdout",
     "output_type": "stream",
     "text": [
      "6\n"
     ]
    }
   ],
   "source": [
    "def find_second_maximum(lst):\n",
    "    if (len(lst) < 2):\n",
    "        return\n",
    "    # initialize the two to infinity\n",
    "    max_no = second_max_no = float('-inf')\n",
    "\n",
    "    for i in range(len(lst)):\n",
    "       # update the max_no if max_no value found\n",
    "       if (lst[i] > max_no):\n",
    "            second_max_no = max_no\n",
    "            max_no = lst[i]\n",
    "       # check if it is the second_max_no and not equal to max_no\n",
    "       elif (lst[i] > second_max_no and lst[i] != max_no):\n",
    "            second_max_no = lst[i]\n",
    "    if (second_max_no == float('-inf')):\n",
    "        return\n",
    "    else:\n",
    "        return second_max_no\n",
    "\n",
    "    print(find_second_maximum([9, 2, 3, 6]))"
   ]
  },
  {
   "cell_type": "markdown",
   "id": "7ccc1104",
   "metadata": {},
   "source": [
    "## Challenge 8: Right Rotate List\n",
    "\n",
    "Implement a function right_rotate(lst, k) which will rotate the given list by k. This means that the right-most elements will appear at the left-most position in the list and so on. You only have to rotate the list by one element at a time.\n",
    "\n",
    "Input #\n",
    "A list and a positive number by which to rotate that list\n",
    "\n",
    "Output: #\n",
    "The given list rotated by k elements"
   ]
  },
  {
   "cell_type": "markdown",
   "id": "755bf889",
   "metadata": {},
   "source": [
    "### Solution #1: Pythonic Rotation #\n",
    "\n",
    "This solution simply uses list slicing to join together the last k and the first len(lst) - k elements and returns. List slicing is in O(k) where k represents the number of elements that are sliced, and since the entire list is sliced, hence the total time complexity is in O(n)O(n)."
   ]
  },
  {
   "cell_type": "code",
   "execution_count": 41,
   "id": "320d62dd",
   "metadata": {},
   "outputs": [
    {
     "data": {
      "text/plain": [
       "[-1, 3, 0, 300]"
      ]
     },
     "execution_count": 41,
     "metadata": {},
     "output_type": "execute_result"
    }
   ],
   "source": [
    "def right_rotate(lst, k):\n",
    "    \n",
    "    if len(lst) == 0:\n",
    "        return []\n",
    "\n",
    "    if len(lst) < k:\n",
    "        k = k % len(lst) # 割り算使うときはゼロ除算注意\n",
    "    \n",
    "    move = lst[-k:]\n",
    "    remain = lst[:-k]\n",
    "    result = move + remain\n",
    "    return result\n",
    "\n",
    "right_rotate([300, -1, 3, 0], 3)"
   ]
  },
  {
   "cell_type": "markdown",
   "id": "1df16280",
   "metadata": {},
   "source": [
    "## Challenge 9: Rearrange Positive & Negative Values\n",
    "\n",
    "Implement a function rearrange(lst) which rearranges the elements such that all the negative elements appear on the left and positive elements appear at the right of the list. Note that it is not necessary to maintain the sorted order of the input list. Generally zero is NOT positive or negative, we will treat zero as a positive integer for this challenge! So, zero will be placed at the right."
   ]
  },
  {
   "cell_type": "code",
   "execution_count": 47,
   "id": "f44bee33",
   "metadata": {},
   "outputs": [
    {
     "name": "stdout",
     "output_type": "stream",
     "text": [
      "[-1, -9, -6, 10, 20, 4, 5]\n"
     ]
    }
   ],
   "source": [
    "def rearrange(lst):\n",
    "    neg = []\n",
    "    pos = []\n",
    "    # make a list of negative and positive numbers\n",
    "    for ele in lst:\n",
    "        if ele < 0:\n",
    "            neg.append(ele)\n",
    "        else:\n",
    "            pos.append(ele)\n",
    "    # merge two lists and return\n",
    "    return neg + pos\n",
    "\n",
    "\n",
    "print(rearrange([10, -1, 20, 4, 5, -9, -6]))"
   ]
  },
  {
   "cell_type": "markdown",
   "id": "d48cc1af",
   "metadata": {},
   "source": [
    "### Solution #2: Rearranging in Place #"
   ]
  },
  {
   "cell_type": "code",
   "execution_count": null,
   "id": "e0d25747",
   "metadata": {},
   "outputs": [],
   "source": [
    "def rearrange(lst):\n",
    "    leftMostPosEle = 0  # index of left most element\n",
    "    # iterate the list\n",
    "    for curr in range(len(lst)):\n",
    "        # if negative number\n",
    "        if (lst[curr] < 0):\n",
    "            # if not the last negative number\n",
    "            if (curr is not leftMostPosEle):\n",
    "                # swap the two\n",
    "                lst[curr], lst[leftMostPosEle] = lst[leftMostPosEle], lst[curr]\n",
    "            # update the last position\n",
    "            leftMostPosEle += 1\n",
    "    return lst\n",
    "\n",
    "\n",
    "print(rearrange([10, -1, 20, 4, 5, -9, -6]))"
   ]
  },
  {
   "cell_type": "markdown",
   "id": "000e6606",
   "metadata": {},
   "source": [
    "## Challenge 10: Rearrange Sorted List in Max/Min Form\n",
    "\n",
    "Implement a function called max_min(lst) which will re-arrange the elements of a sorted list such that the 0th index will have the largest number, the 1st index will have the smallest, and the third index will have second-largest, and so on. In other words, all the odd-numbered indices will have the largest numbers in the list in descending order and the even-numbered indices will have the smallest numbers in ascending order.\n",
    "\n",
    "Input: #\n",
    "A sorted list\n",
    "\n",
    "Output: #\n",
    "A list with elements stored in max/min form"
   ]
  },
  {
   "cell_type": "markdown",
   "id": "3e7a0e24",
   "metadata": {},
   "source": [
    "### Solution #1: Creating a new list\n",
    "The time complexity is O(N)."
   ]
  },
  {
   "cell_type": "code",
   "execution_count": 58,
   "id": "7a7a5f5c",
   "metadata": {},
   "outputs": [],
   "source": [
    "def max_min(lst):\n",
    "    result = []\n",
    "    # iterate half list\n",
    "    for i in range(len(lst)//2):\n",
    "        # Append corresponding last element\n",
    "        result.append(lst[-(i+1)])\n",
    "        # append current element\n",
    "        result.append(lst[i])\n",
    "    if len(lst) % 2 == 1:\n",
    "        # if middle value then append\n",
    "        result.append(lst[len(lst)//2])\n",
    "    return result\n",
    "\n",
    "\n",
    "print(max_min([1, 2, 3, 4, 5, 6]))"
   ]
  },
  {
   "cell_type": "markdown",
   "id": "75710e1b",
   "metadata": {},
   "source": [
    "## Challenge 11: Maximum Sum Sublist\n",
    "\n",
    "Given an integer list, return the maximum sublist sum. The list may contain both positive and negative integers and is unsorted.\n",
    "\n",
    "Input # a list lst\n",
    "Output # a number (maximum subarray sum)"
   ]
  },
  {
   "cell_type": "markdown",
   "id": "6cd7618c",
   "metadata": {},
   "source": [
    "### Solution (Kadane’s Algorithm)\n",
    "\n",
    "This algorithm takes a dynamic programming approach to solve the maximum sublist sum problem. Let’s have a look at the algorithm."
   ]
  },
  {
   "cell_type": "code",
   "execution_count": 60,
   "id": "bdbd5906",
   "metadata": {},
   "outputs": [
    {
     "name": "stdout",
     "output_type": "stream",
     "text": [
      "Sum of largest subarray:  12\n"
     ]
    }
   ],
   "source": [
    "def find_max_sum_sublist(lst): \n",
    "    if (len(lst) < 1): \n",
    "        return 0\n",
    "\n",
    "    curr_max = lst[0]\n",
    "    global_max = lst[0]\n",
    "    length_array = len(lst)\n",
    "    \n",
    "    for i in range(1, length_array):\n",
    "        # これまで蓄積した値がプラスなら保持する意味あり、マイナスなら廃棄\n",
    "        if curr_max < 0: \n",
    "            curr_max = lst[i]\n",
    "        else:\n",
    "            # これまで蓄積した値に、新しい値を追加\n",
    "            curr_max += lst[i]\n",
    "            \n",
    "        # 追加した場合に、これまでの最大値より増えていれば更新\n",
    "        if global_max < curr_max:\n",
    "            global_max = curr_max\n",
    "    \n",
    "    return global_max;\n",
    "\n",
    "\n",
    "lst = [-4, 2, -5, 1, 2, 3, 6, -5, 1];\n",
    "print(\"Sum of largest subarray: \", find_max_sum_sublist(lst));"
   ]
  },
  {
   "cell_type": "code",
   "execution_count": null,
   "id": "efa74096",
   "metadata": {},
   "outputs": [],
   "source": []
  }
 ],
 "metadata": {
  "kernelspec": {
   "display_name": "conda_python3",
   "language": "python",
   "name": "conda_python3"
  },
  "language_info": {
   "codemirror_mode": {
    "name": "ipython",
    "version": 3
   },
   "file_extension": ".py",
   "mimetype": "text/x-python",
   "name": "python",
   "nbconvert_exporter": "python",
   "pygments_lexer": "ipython3",
   "version": "3.6.13"
  }
 },
 "nbformat": 4,
 "nbformat_minor": 5
}
