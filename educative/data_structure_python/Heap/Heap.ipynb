{
 "cells": [
  {
   "cell_type": "markdown",
   "id": "atlantic-sheriff",
   "metadata": {},
   "source": [
    "# Heap\n",
    "\n",
    "- Index of childrens are 2K+1, 2K+2\n",
    "- The child node which index is K has parent node which index is k-1//2\n",
    "- heapify could be easy to implemet when it is started from parent node."
   ]
  },
  {
   "cell_type": "markdown",
   "id": "strong-emperor",
   "metadata": {},
   "source": [
    "### Challenge 1: Convert Max-Heap to Min-Heap\n",
    "\n",
    "Implement a function convertMax(maxHeap) which will convert a binary Max-Heap into a binary Min-Heap. Where maxHeap is a list which is given in the maxHeap format, i.e, the parent is greater than its children.\n",
    "\n",
    "Output #\n",
    "Returns converted list in string format\n",
    "\n",
    "Sample Input #\n",
    "maxHeap = [9,4,7,1,-2,6,5]\n",
    "\n",
    "Sample Output #\n",
    "result = [-2,1,5,9,4,6,7]"
   ]
  },
  {
   "cell_type": "markdown",
   "id": "compliant-buddy",
   "metadata": {},
   "source": [
    "### Solution: Min Heapify all Parent Nodes"
   ]
  },
  {
   "cell_type": "code",
   "execution_count": 39,
   "id": "hired-bedroom",
   "metadata": {},
   "outputs": [
    {
     "name": "stdout",
     "output_type": "stream",
     "text": [
      "2 7\n",
      "ここ1 2 7 6 5\n",
      "ここ2 5 6 6 5\n",
      "indexのとこ 6\n",
      "[9, 4, 5, 1, -2, 6, 7]\n",
      "6 7\n",
      "1 4\n",
      "ここ1 1 4 1 -2\n",
      "ここ2 3 1 1 -2\n",
      "indexのとこ 4\n",
      "[9, -2, 5, 1, 4, 6, 7]\n",
      "4 4\n",
      "0 9\n",
      "ここ1 0 9 -2 5\n",
      "indexのとこ 1\n",
      "[-2, 9, 5, 1, 4, 6, 7]\n",
      "1 9\n",
      "ここ1 1 9 1 4\n",
      "indexのとこ 3\n",
      "[-2, 1, 5, 9, 4, 6, 7]\n",
      "3 9\n",
      "[-2, 1, 5, 9, 4, 6, 7]\n"
     ]
    }
   ],
   "source": [
    "def minHeapify(heap, index):\n",
    "    left = index * 2 + 1\n",
    "    right = (index * 2) + 2\n",
    "    parent = index\n",
    "    print(index, heap[index])\n",
    "    \n",
    "    # check if left child exists and is less than smallest\n",
    "    if len(heap) > left and heap[parent] > heap[left]:\n",
    "        print('ここ1', parent, heap[parent], heap[left], heap[right])\n",
    "        parent = left\n",
    "    # check if right child exists and is less than smallest\n",
    "    if len(heap) > right and heap[parent] > heap[right]:\n",
    "        print('ここ2', parent, heap[parent], heap[left], heap[right])\n",
    "        parent = right\n",
    "    # check if current index is not the smallest\n",
    "    if parent != index:\n",
    "        print('indexのとこ', parent)\n",
    "        # swap current index value with smallest\n",
    "        tmp = heap[parent]\n",
    "        heap[parent] = heap[index] #parent は入れ替わった reft or right\n",
    "        heap[index] = tmp\n",
    "        # minHeapify the new node\n",
    "        print(heap)\n",
    "        minHeapify(heap, parent)\n",
    "    return heap\n",
    "\n",
    "\n",
    "def convertMax(maxHeap):\n",
    "    # iterate from middle to first element\n",
    "    # middle to first indices contain all parent nodes\n",
    "    for i in range((len(maxHeap))//2-1, -1, -1):\n",
    "        #print(i)\n",
    "        # call minHeapify on all parent nodes\n",
    "        maxHeap = minHeapify(maxHeap, i)\n",
    "    return maxHeap\n",
    "\n",
    "\n",
    "maxHeap = [9, 4, 7, 1, -2, 6, 5]\n",
    "print(convertMax(maxHeap))"
   ]
  },
  {
   "cell_type": "code",
   "execution_count": 38,
   "id": "awful-dialogue",
   "metadata": {},
   "outputs": [
    {
     "data": {
      "text/plain": [
       "3"
      ]
     },
     "execution_count": 38,
     "metadata": {},
     "output_type": "execute_result"
    }
   ],
   "source": [
    "(len(maxHeap))//2"
   ]
  },
  {
   "cell_type": "code",
   "execution_count": null,
   "id": "trained-scene",
   "metadata": {},
   "outputs": [],
   "source": []
  }
 ],
 "metadata": {
  "kernelspec": {
   "display_name": "conda_python3",
   "language": "python",
   "name": "conda_python3"
  },
  "language_info": {
   "codemirror_mode": {
    "name": "ipython",
    "version": 3
   },
   "file_extension": ".py",
   "mimetype": "text/x-python",
   "name": "python",
   "nbconvert_exporter": "python",
   "pygments_lexer": "ipython3",
   "version": "3.6.10"
  }
 },
 "nbformat": 4,
 "nbformat_minor": 5
}
