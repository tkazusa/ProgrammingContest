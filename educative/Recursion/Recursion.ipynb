{
 "cells": [
  {
   "cell_type": "markdown",
   "id": "620e30ff",
   "metadata": {},
   "source": [
    "# Recursion"
   ]
  },
  {
   "cell_type": "markdown",
   "id": "96501e58",
   "metadata": {},
   "source": [
    "## Challenge 1: Find the Greatest Common Divisor\n",
    "\n",
    "Implement a function that takes two numbers, testVariable1 and testVariable2 and returns their greatest common divisor.\n",
    "\n",
    "The Greatest Common Divisor of two or more integers is the largest positive integer that divides each of the integers.\n",
    "\n",
    "For example, take two numbers 4242 and 5656.\n",
    "\n",
    "4242 can be completely divided by 11, 22, 33, 66, 77, 1414, 2121 and 4242.\n",
    "\n",
    "5656 can be completely divided by 11, 22, 44, 77, 88, 1414, 2828 and 5656.\n",
    "\n",
    "Therefore the greatest common divisor of 4242 and 5656 is 1414.\n",
    "\n",
    "Input #\n",
    "Two variables testVariable1 and testVariable2 containing numbers.\n",
    "\n",
    "Output #\n",
    "The greatest common divisor of testVariable1 and testVariable2."
   ]
  },
  {
   "cell_type": "code",
   "execution_count": 1,
   "id": "c6d8f718",
   "metadata": {},
   "outputs": [
    {
     "name": "stdout",
     "output_type": "stream",
     "text": [
      "3\n"
     ]
    }
   ],
   "source": [
    "def gcd(testVariable1, testVariable2):\n",
    "    # Base Case\n",
    "    if testVariable1 == testVariable2:\n",
    "        return testVariable1\n",
    "    # Recursive Case\n",
    "    if testVariable1 > testVariable2:\n",
    "        return gcd(testVariable1 - testVariable2, testVariable2)\n",
    "    else:\n",
    "        return gcd(testVariable1, testVariable2 - testVariable1)\n",
    "\n",
    "# Driver Code\n",
    "number1 = 6\n",
    "number2 = 9\n",
    "print(gcd(number1, number2)) "
   ]
  },
  {
   "cell_type": "markdown",
   "id": "dd0ba341",
   "metadata": {},
   "source": [
    "## Challenge 2: Pascal's Triangle\n",
    "\n",
    "A variable testVariable that contains the number of the row from Pascal’s Triangle that will be returned.\n",
    "\n",
    "A list containing the elements of the input row of Pascal’s Triangle"
   ]
  },
  {
   "cell_type": "code",
   "execution_count": 22,
   "id": "306db772",
   "metadata": {},
   "outputs": [
    {
     "name": "stdout",
     "output_type": "stream",
     "text": [
      "[1, 5, 10, 10, 5, 1]\n"
     ]
    }
   ],
   "source": [
    "def printPascal(testVariable):\n",
    "    \n",
    "    def _create_new_row(testVariable, lst):\n",
    "        \n",
    "        if len(lst) > testVariable:\n",
    "            return lst\n",
    "        \n",
    "        new_lst = []\n",
    "        for col in range(len(lst)+1):\n",
    "            if col == 0 or col == len(lst):\n",
    "                new_lst.append(1)\n",
    "            else:\n",
    "                elem = lst[col-1] + lst[col]\n",
    "                new_lst.append(elem)\n",
    "        \n",
    "        return _create_new_row(testVariable, new_lst)\n",
    "        \n",
    "    init_lst = [1]\n",
    "    lst = _create_new_row(testVariable, init_lst)\n",
    "                \n",
    "    return lst\n",
    "\n",
    "testVariable = 5\n",
    "print(printPascal(testVariable))"
   ]
  },
  {
   "cell_type": "markdown",
   "id": "20472491",
   "metadata": {},
   "source": [
    "In the code snippet above, we use the values of the previous function call to calculate the values of the current function call. If we reach the 0th0th row, we return a list containing only 11 value: [1][1]. This is our base case."
   ]
  },
  {
   "cell_type": "code",
   "execution_count": 23,
   "id": "eddcb00b",
   "metadata": {},
   "outputs": [
    {
     "name": "stdout",
     "output_type": "stream",
     "text": [
      "[1, 5, 10, 10, 5, 1]\n"
     ]
    }
   ],
   "source": [
    "def printPascal(testVariable) :\n",
    "    # Base Case\n",
    "    if testVariable == 0 :\n",
    "        return [1]\n",
    "\n",
    "    else :\n",
    "        line = [1]\n",
    "\n",
    "        # Recursive Case\n",
    "        previousLine = printPascal(testVariable - 1)\n",
    "        for i in range(len(previousLine) - 1):\n",
    "            line.append(previousLine[i] + previousLine[i + 1])\n",
    "        line += [1]\n",
    "    return line\n",
    "\n",
    "# Driver Code\n",
    "testVariable = 5\n",
    "print(printPascal(testVariable))"
   ]
  },
  {
   "cell_type": "markdown",
   "id": "7c4a1093",
   "metadata": {},
   "source": [
    "### Challenge 3: Convert Decimal Number to Binary Number\n",
    "\n",
    "Write a function that takes a number testVariable and returns a string that is its equivalent binary number.\n",
    "\n",
    "Input #\n",
    "A variable testVariable containing the decimal number.\n",
    "\n",
    "Output #\n",
    "A string variable that contains the equivalent binary number of the input number."
   ]
  },
  {
   "cell_type": "code",
   "execution_count": 27,
   "id": "c13729cb",
   "metadata": {},
   "outputs": [
    {
     "name": "stdout",
     "output_type": "stream",
     "text": [
      "1\n"
     ]
    }
   ],
   "source": [
    "def decimalToBinary(testVariable):\n",
    "    if testVariable == 1:\n",
    "        lst.append(\"1\")\n",
    "        lst.reverse()\n",
    "        ans = \"\".join(lst)\n",
    "        return ans\n",
    "    \n",
    "    else:\n",
    "        amari = testVariable % 2\n",
    "        n = testVariable // 2 \n",
    "        lst.append(str(amari))\n",
    "        return decimalToBinary(n)\n",
    "\n",
    "# Driver Code\n",
    "testVariable = 11\n",
    "print(decimalToBinary(testVariable))"
   ]
  },
  {
   "cell_type": "code",
   "execution_count": 24,
   "id": "12459f91",
   "metadata": {},
   "outputs": [
    {
     "name": "stdout",
     "output_type": "stream",
     "text": [
      "321\n"
     ]
    }
   ],
   "source": [
    "def decimalToBinary(testVariable) :\n",
    "    # Base Case\n",
    "    if testVariable <= 1:\n",
    "        return str(testVariable)\n",
    "    # Recursive Case\n",
    "    else:\n",
    "        return decimalToBinary(testVariable // 2) + decimalToBinary(testVariable % 2) # Floor division - \n",
    "          # division that results into whole number adjusted to the left in the number line\n",
    "\n",
    "# Driver Code\n",
    "testVariable = 11\n",
    "print(decimalToBinary(testVariable))"
   ]
  },
  {
   "cell_type": "markdown",
   "id": "051c8e5a",
   "metadata": {},
   "source": [
    "## Challenge 2: Balance Parenthesis\n",
    "\n",
    "Implement a function that takes an array testVariable containing opening ( and closing parenthesis ) and determines whether or not the brackets in the array are balanced. The function also takes startIndex = 0 and currentIndex = 0 as parameters.\n",
    "\n",
    "Input #\n",
    "An array testVariable containing opening and closing parentheses.\n",
    "\n",
    "Output #\n",
    "True if the parentheses in the input array are balanced. False if the parentheses in the input array are imbalanced.\n",
    "\n"
   ]
  },
  {
   "cell_type": "code",
   "execution_count": null,
   "id": "11bb7869",
   "metadata": {},
   "outputs": [],
   "source": [
    "def balanced(testVariable, startIndex = 0, currentIndex = 0) :\n",
    "    # Base case1 and 2\n",
    "    if startIndex == len(testVariable) : \n",
    "        return currentIndex == 0\n",
    "    # Base case3\n",
    "    if currentIndex < 0 : # A closing bracket did not find its corresponding opening bracket\n",
    "        return False\n",
    "    \n",
    "    # Recursive case1\n",
    "    if testVariable[startIndex] == \"(\" : \n",
    "        return  balanced(testVariable, startIndex + 1, currentIndex + 1)\n",
    "    \n",
    "    # Recursive case2\n",
    "    elif testVariable[startIndex] == \")\" : \n",
    "        return  balanced(testVariable, startIndex + 1, currentIndex - 1)\n",
    "\n",
    "# Driver Code\n",
    "testVariable = [\"(\", \"(\", \")\", \")\", \"(\", \")\"]\n",
    "print(balanced(testVariable))"
   ]
  },
  {
   "cell_type": "markdown",
   "id": "d379137d",
   "metadata": {},
   "source": [
    "## Challenge 2: Reverse a Stack\n",
    "\n",
    "Implement a function that takes a stack, testVariable, and reverses it. Do not use any other extra stack or data structure.\n",
    "\n",
    "Helper functions are provided in the file stack.py. Take a look at the file before implementing your solution.\n",
    "\n",
    "Input #\n",
    "A variable testVariable that contains a stack.\n",
    "\n",
    "Output #\n",
    "No explicit output. Our task is to reverse the contents of the stack."
   ]
  },
  {
   "cell_type": "code",
   "execution_count": null,
   "id": "bef60b53",
   "metadata": {},
   "outputs": [],
   "source": [
    "# HELPER FUNCTION FOR CREATING AND MANIPULATING A STACK\n",
    "\n",
    "def createStack() : # Function to create an empty stack\n",
    "    stack = []\n",
    "    return stack \n",
    "\n",
    "def isEmpty(stack) :\n",
    "    return len(stack) == 0\n",
    "\n",
    "def push(stack, item) : # push item to stack\n",
    "    stack.append( item ) \n",
    "\n",
    "def pop(stack) : # pop item from stack\n",
    "    if(isEmpty(stack)) : # display error if stack empty  \n",
    "        print(\"Stack Underflow \")\n",
    "        exit(1)\n",
    "    return stack.pop()\n",
    "\n",
    "    \n",
    "def insertAtBottom(stack, item) : # Recursive function that inserts an element at the bottom of a stack.\n",
    "  # Base case\n",
    "  if s.isEmpty(stack) :\n",
    "    s.push(stack, item)\n",
    "\n",
    "  # Recursive case\n",
    "  else:\n",
    "    temp = s.pop(stack)\n",
    "    insertAtBottom(stack, item)\n",
    "    s.push(stack, temp) \n",
    "\n",
    "def reverse(stack) :\n",
    "  # Recursive case\n",
    "  if not s.isEmpty(stack) :\n",
    "    temp = s.pop(stack)\n",
    "    reverse(stack)\n",
    "    insertAtBottom(stack, temp) \n",
    "\n",
    "# Driver Code \n",
    "myStack = s.createStack() \n",
    "s.push(myStack, str(8)) \n",
    "s.push(myStack, str(5)) \n",
    "s.push(myStack, str(3)) \n",
    "s.push(myStack, str(2)) \n",
    "\n",
    "print(\"Original Stack\") \n",
    "s.printStack(myStack) \n",
    "\n",
    "reverse(myStack) \n",
    "\n",
    "print(\"\\n\\nReversed Stack\") \n",
    "s.printStack(myStack) "
   ]
  },
  {
   "cell_type": "markdown",
   "id": "c883149f",
   "metadata": {},
   "source": [
    "## Challenge 3: Topological Sorting of a Graph"
   ]
  },
  {
   "cell_type": "code",
   "execution_count": 32,
   "id": "acc37b20",
   "metadata": {},
   "outputs": [],
   "source": [
    "from collections import defaultdict \n",
    "class Graph:\n",
    "    # Constructor\n",
    "    def __init__(self, vertices):\n",
    "        self.graph = defaultdict(list)\n",
    "        self.vertices = vertices\n",
    "    \n",
    "    def addEdge(self, u, v):\n",
    "        self.graph[u].append(v) \n"
   ]
  },
  {
   "cell_type": "code",
   "execution_count": 33,
   "id": "44166d24",
   "metadata": {},
   "outputs": [],
   "source": [
    "import graph as g\n",
    "\n",
    "def helperFunction(myGraph, currentNode, visited, result) :\n",
    "    visited[currentNode] = True # Mark the current node as visited\n",
    "    # Recur for all the adjacent vertices of currentNode\n",
    "    for i in myGraph.graph[currentNode] :\n",
    "        if visited[i] == False :\n",
    "            helperFunction(myGraph, i, visited, result)\n",
    "    result.insert(0, currentNode) # Push current vertex to result\n",
    "  \n",
    "  \n",
    "def topologicalSort(myGraph) :\n",
    "    visited = [False] * myGraph.vertices  # Mark all the vertices as not visited\n",
    "    result = [] # Our stack to store the result/output\n",
    "    \n",
    "    for currentNode in range(myGraph.vertices) :\n",
    "        if visited[currentNode] == False :\n",
    "            helperFunction(myGraph, currentNode, visited, result)\n",
    "            \n",
    "    return(result)\n",
    "\n",
    "\n",
    "# Driver code \n",
    "# Create a graph given in the above diagram \n",
    "myGraph = g.Graph(5) \n",
    "myGraph.addEdge(0, 1) \n",
    "myGraph.addEdge(0, 3) \n",
    "myGraph.addEdge(1, 2) \n",
    "myGraph.addEdge(2, 3) \n",
    "myGraph.addEdge(2, 4) \n",
    "myGraph.addEdge(3, 4) \n",
    "\n",
    "print(\"Topological Sort\")\n",
    "print(topologicalSort(myGraph))"
   ]
  },
  {
   "cell_type": "code",
   "execution_count": null,
   "id": "0f3856d6",
   "metadata": {},
   "outputs": [],
   "source": []
  }
 ],
 "metadata": {
  "kernelspec": {
   "display_name": "conda_python3",
   "language": "python",
   "name": "conda_python3"
  },
  "language_info": {
   "codemirror_mode": {
    "name": "ipython",
    "version": 3
   },
   "file_extension": ".py",
   "mimetype": "text/x-python",
   "name": "python",
   "nbconvert_exporter": "python",
   "pygments_lexer": "ipython3",
   "version": "3.6.13"
  }
 },
 "nbformat": 4,
 "nbformat_minor": 5
}
