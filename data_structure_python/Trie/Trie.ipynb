{
 "cells": [
  {
   "cell_type": "markdown",
   "id": "decimal-framing",
   "metadata": {},
   "source": [
    "# Trie"
   ]
  },
  {
   "cell_type": "markdown",
   "id": "emotional-tackle",
   "metadata": {},
   "source": [
    "## Challenge 1: Total Number of Words in a Trie\n",
    "\n",
    "Implement the total_words() function which will find the total number of words in a trie.\n",
    "Input #\n",
    "The root node of a trie.\n",
    "\n",
    "Output #\n",
    "Returns total number of words in a trie."
   ]
  },
  {
   "cell_type": "code",
   "execution_count": 2,
   "id": "favorite-rotation",
   "metadata": {},
   "outputs": [
    {
     "name": "stdout",
     "output_type": "stream",
     "text": [
      "t inserted\n",
      "h inserted\n",
      "e inserted\n",
      "'the' inserted\n",
      "a inserted\n",
      "'a' inserted\n",
      "r inserted\n",
      "e inserted\n",
      "'there' inserted\n",
      "n inserted\n",
      "s inserted\n",
      "w inserted\n",
      "e inserted\n",
      "r inserted\n",
      "'answer' inserted\n",
      "y inserted\n",
      "'any' inserted\n",
      "b inserted\n",
      "y inserted\n",
      "'by' inserted\n",
      "e inserted\n",
      "'bye' inserted\n",
      "i inserted\n",
      "r inserted\n",
      "'their' inserted\n",
      "b inserted\n",
      "c inserted\n",
      "'abc' inserted\n",
      "9\n"
     ]
    }
   ],
   "source": [
    "from Trie import Trie\n",
    "from TrieNode import TrieNode\n",
    "\n",
    "\n",
    "# TrieNode => {children, is_end_word, char,\n",
    "# mark_as_leaf(), unmark_as_leaf()}\n",
    "def total_words(root):\n",
    "    result = 0\n",
    "\n",
    "    # Leaf denotes end of a word\n",
    "    if root.is_end_word:\n",
    "        result += 1\n",
    "\n",
    "    for i in range(26):\n",
    "        # Check if the node has children\n",
    "        if root.children[i] is not None:\n",
    "            # Recursively return the word count\n",
    "            result += total_words(root.children[i])\n",
    "    return result\n",
    "\n",
    "\n",
    "keys = [\"the\", \"a\", \"there\", \"answer\", \"any\", \"by\", \"bye\", \"their\", \"abc\"]\n",
    "\n",
    "trie = Trie()\n",
    "\n",
    "for key in keys:\n",
    "    trie.insert(key)\n",
    "\n",
    "print(total_words(trie.root))"
   ]
  },
  {
   "cell_type": "markdown",
   "id": "developing-tribune",
   "metadata": {},
   "source": [
    "## Challenge 2: Find All Words Stored in Trie\n",
    "\n",
    "You have to implement the find_words() function which will return a sorted list of all the words stored in a trie.\n",
    "\n",
    "Input #\n",
    "The root node of a trie.\n",
    "\n",
    "Output #\n",
    "A sorted list of all the words stored in a trie."
   ]
  },
  {
   "cell_type": "code",
   "execution_count": 3,
   "id": "naked-fellow",
   "metadata": {},
   "outputs": [
    {
     "name": "stdout",
     "output_type": "stream",
     "text": [
      "t inserted\n",
      "h inserted\n",
      "e inserted\n",
      "'the' inserted\n",
      "a inserted\n",
      "'a' inserted\n",
      "r inserted\n",
      "e inserted\n",
      "'there' inserted\n",
      "n inserted\n",
      "s inserted\n",
      "w inserted\n",
      "e inserted\n",
      "r inserted\n",
      "'answer' inserted\n",
      "y inserted\n",
      "'any' inserted\n",
      "b inserted\n",
      "y inserted\n",
      "'by' inserted\n",
      "e inserted\n",
      "'bye' inserted\n",
      "i inserted\n",
      "r inserted\n",
      "'their' inserted\n",
      "b inserted\n",
      "c inserted\n",
      "'abc' inserted\n",
      "['a', 'abc', 'answer', 'any', 'by', 'bye', 'the', 'their', 'there']\n"
     ]
    }
   ],
   "source": [
    "from Trie import Trie\n",
    "from TrieNode import TrieNode\n",
    "\n",
    "\n",
    "# Create Trie => trie = Trie()\n",
    "# TrieNode => {children, is_end_word, char,\n",
    "# mark_as_leaf(), unmark_as_leaf()}\n",
    "# get_root => trie.get_root()\n",
    "# Insert a Word => trie.insert(key)\n",
    "# Search a Word => trie.search(key) return true or false\n",
    "# Delete a Word => trie.delete(key)\n",
    "# Recursive Function to generate all words\n",
    "def get_words(root, result, level, word):\n",
    "\n",
    "    # Leaf denotes end of a word\n",
    "    if root.is_end_word:\n",
    "        # current word is stored till the 'level' in the character array\n",
    "        temp = \"\"\n",
    "        for x in range(level):\n",
    "            temp += word[x]\n",
    "        result.append(str(temp))\n",
    "\n",
    "    for i in range(26):\n",
    "        if root.children[i]:\n",
    "            # Non-None child, so add that index to the character array\n",
    "            word[level] = chr(i + ord('a'))  # Add character for the level\n",
    "            get_words(root.children[i], result, level + 1, word)\n",
    "\n",
    "\n",
    "def find_words(root):\n",
    "    result = []\n",
    "    word = [None] * 20  # assuming max level is 20\n",
    "    get_words(root, result, 0, word)\n",
    "    return result\n",
    "\n",
    "\n",
    "keys = [\"the\", \"a\", \"there\", \"answer\", \"any\", \"by\", \"bye\", \"their\", \"abc\"]\n",
    "t = Trie()\n",
    "for i in range(len(keys)):\n",
    "    t.insert(keys[i])\n",
    "lst = find_words(t.root)\n",
    "print(str(lst))"
   ]
  },
  {
   "cell_type": "markdown",
   "id": "forced-marathon",
   "metadata": {},
   "source": [
    "### Challenge 3: List Sort Using Trie\n",
    "\n",
    "In this problem, you have to implement the sort_list() function which will sort the elements of a list of strings.\n",
    "\n",
    "Input #\n",
    "A list of strings.\n",
    "\n",
    "Output #\n",
    "Returns the input list in a sorted state."
   ]
  },
  {
   "cell_type": "markdown",
   "id": "handmade-trade",
   "metadata": {},
   "source": [
    "### Solution: Pre-Order Traversal\n",
    "\n",
    "This exercise is very similar to Challenge 2, except the fact that you have to create the trie yourself.\n",
    "\n",
    "Since the children list for each node stores letters in alphabetical order, the tree itself is ordered from top to bottom. All we need to do is make a pre-order traversal (think of a as the left most child and z as the right most child) and store the words in a list just like we did in the previous challenge."
   ]
  },
  {
   "cell_type": "code",
   "execution_count": 1,
   "id": "exempt-floor",
   "metadata": {},
   "outputs": [
    {
     "name": "stdout",
     "output_type": "stream",
     "text": [
      "t inserted\n",
      "h inserted\n",
      "e inserted\n",
      "'the' inserted\n",
      "a inserted\n",
      "'a' inserted\n",
      "r inserted\n",
      "e inserted\n",
      "'there' inserted\n",
      "n inserted\n",
      "s inserted\n",
      "w inserted\n",
      "e inserted\n",
      "r inserted\n",
      "'answer' inserted\n",
      "y inserted\n",
      "'any' inserted\n",
      "b inserted\n",
      "y inserted\n",
      "'by' inserted\n",
      "e inserted\n",
      "'bye' inserted\n",
      "i inserted\n",
      "r inserted\n",
      "'their' inserted\n",
      "b inserted\n",
      "c inserted\n",
      "'abc' inserted\n",
      "['a', 'abc', 'answer', 'any', 'by', 'bye', 'the', 'their', 'there']\n"
     ]
    }
   ],
   "source": [
    "from Trie import Trie\n",
    "from TrieNode import TrieNode\n",
    "# Recursive Function to generate all words in alphabetic order\n",
    "\n",
    "\n",
    "def get_words(root, result, level, word):\n",
    "    # Leaf denotes end of a word\n",
    "    if (root.is_end_word):\n",
    "        # current word is stored till the 'level' in the character array\n",
    "        temp = \"\"\n",
    "        for x in range(level):\n",
    "            temp += word[x]\n",
    "        result.append(temp)\n",
    "\n",
    "    for i in range(26):\n",
    "        if (root.children[i] is not None):\n",
    "            # Non-null child, so add that index to the character array\n",
    "            word[level] = chr(i + ord('a'))\n",
    "            get_words(root.children[i], result, level + 1, word)\n",
    "\n",
    "\n",
    "def sort_list(arr):\n",
    "    result = []\n",
    "\n",
    "    # Creating Trie and Inserting words from array\n",
    "    trie = Trie()\n",
    "    for x in range(len(arr)):\n",
    "        trie.insert(arr[x])\n",
    "\n",
    "    word = [''] * 20\n",
    "    get_words(trie.get_root(), result, 0, word)\n",
    "    return result\n",
    "\n",
    "\n",
    "keys = [\"the\", \"a\", \"there\", \"answer\", \"any\", \"by\", \"bye\", \"their\", \"abc\"]\n",
    "print(sort_list(keys))"
   ]
  },
  {
   "cell_type": "markdown",
   "id": "later-addiction",
   "metadata": {},
   "source": [
    "### Challenge 4: Word Formation From a Dictionary Using Trie\n",
    "\n",
    "You have to implement the is_formation_possible() function which will find whether a given word can be formed by combining two words from a dictionary. We assume that all words are in lower case.\n",
    "\n",
    "Input # A dictionary and a query word containing lowercase characters.\n",
    "\n",
    "Output # Returns True if the given word can be generated by combining two words from the dictionary."
   ]
  },
  {
   "cell_type": "code",
   "execution_count": 55,
   "id": "eleven-farming",
   "metadata": {},
   "outputs": [],
   "source": [
    "from Trie import Trie\n",
    "from TrieNode import TrieNode\n",
    "# Create Trie => trie = Trie()\n",
    "# TrieNode => {children, is_end_word, char,\n",
    "# mark_as_leaf(), unmark_as_leaf()}\n",
    "# get_root => trie.get_root()\n",
    "# Insert a Word => trie.insert(key)\n",
    "# Search a Word => trie.search(key) return true or false\n",
    "# Delete a Word => trie.delete(key)\n",
    "\n",
    "\n",
    "def is_formation_possible(dictionary, word):\n",
    "    trie = Trie()\n",
    "    for x in range(len(dictionary)):\n",
    "        trie.insert(dictionary[x])\n",
    "        \n",
    "    node = trie.get_root()\n",
    "    tmp = None\n",
    "    \n",
    "    for char in word:\n",
    "        print(char)\n",
    "        index = trie.get_index(char)\n",
    "        if node.is_end_word:\n",
    "            tmp = node\n",
    "            node = trie.get_root()\n",
    "        else:\n",
    "            if node.children[index]:\n",
    "                node = node.children[index]\n",
    "            else:\n",
    "                if tmp:\n",
    "                    return False\n",
    "                else:\n",
    "                    node = tmp\n",
    "    return True"
   ]
  },
  {
   "cell_type": "code",
   "execution_count": null,
   "id": "internal-intro",
   "metadata": {},
   "outputs": [],
   "source": [
    "from Trie import Trie\n",
    "from TrieNode import TrieNode\n",
    "\n",
    "def is_formation_possible(dct, word):\n",
    "\n",
    "    # Create Trie and insert dctionary elements in it\n",
    "    trie = Trie()\n",
    "    for x in range(len(dct)):\n",
    "        trie.insert(dct[x])\n",
    "\n",
    "    # Get Root\n",
    "    current_node = trie.root\n",
    "\n",
    "    # Iterate all the letters of the word\n",
    "    for i in range(len(word)):\n",
    "        # get index of the character from Trie\n",
    "        char = trie.get_index(word[i])\n",
    "\n",
    "        # if the prefix of word does not exist, word would not either\n",
    "        if current_node.children[char] is None:\n",
    "            return False\n",
    "\n",
    "        # if the substring of the word exists as a word in trie,\n",
    "        # check whether rest of the word also exists,\n",
    "        # if it does return true\n",
    "        elif current_node.children[char].is_end_word:\n",
    "            if trie.search(word[i+1:]):\n",
    "                return True\n",
    "        \n",
    "        current_node = current_node.children[char]\n",
    "    \n",
    "    return False\n",
    "\n",
    "keys = [\"the\", \"hello\", \"there\", \"answer\",\n",
    "        \"any\", \"educative\", \"world\", \"their\", \"abc\"]\n",
    "print(is_formation_possible(keys, \"helloworld\"))"
   ]
  },
  {
   "cell_type": "code",
   "execution_count": 56,
   "id": "artificial-receipt",
   "metadata": {},
   "outputs": [],
   "source": [
    "dictionary = [\"the\", \"hello\", \"there\", \"answer\", \"any\",\n",
    "                     \"by\", \"world\", \"their\", \"abc\"]\n",
    "word = \"helloworld\""
   ]
  },
  {
   "cell_type": "code",
   "execution_count": 57,
   "id": "victorian-galaxy",
   "metadata": {},
   "outputs": [
    {
     "name": "stdout",
     "output_type": "stream",
     "text": [
      "t inserted\n",
      "h inserted\n",
      "e inserted\n",
      "'the' inserted\n",
      "h inserted\n",
      "e inserted\n",
      "l inserted\n",
      "l inserted\n",
      "o inserted\n",
      "'hello' inserted\n",
      "r inserted\n",
      "e inserted\n",
      "'there' inserted\n",
      "a inserted\n",
      "n inserted\n",
      "s inserted\n",
      "w inserted\n",
      "e inserted\n",
      "r inserted\n",
      "'answer' inserted\n",
      "y inserted\n",
      "'any' inserted\n",
      "b inserted\n",
      "y inserted\n",
      "'by' inserted\n",
      "w inserted\n",
      "o inserted\n",
      "r inserted\n",
      "l inserted\n",
      "d inserted\n",
      "'world' inserted\n",
      "i inserted\n",
      "r inserted\n",
      "'their' inserted\n",
      "b inserted\n",
      "c inserted\n",
      "'abc' inserted\n",
      "h\n",
      "here\n",
      "e\n",
      "here\n",
      "l\n",
      "here\n",
      "l\n",
      "here\n",
      "o\n",
      "here\n",
      "w\n",
      "o\n"
     ]
    },
    {
     "data": {
      "text/plain": [
       "False"
      ]
     },
     "execution_count": 57,
     "metadata": {},
     "output_type": "execute_result"
    }
   ],
   "source": [
    "is_formation_possible(dictionary, word)"
   ]
  },
  {
   "cell_type": "code",
   "execution_count": 58,
   "id": "written-funeral",
   "metadata": {},
   "outputs": [
    {
     "name": "stdout",
     "output_type": "stream",
     "text": [
      "t inserted\n",
      "h inserted\n",
      "e inserted\n",
      "'the' inserted\n",
      "h inserted\n",
      "e inserted\n",
      "l inserted\n",
      "l inserted\n",
      "o inserted\n",
      "'hello' inserted\n",
      "r inserted\n",
      "e inserted\n",
      "'there' inserted\n",
      "a inserted\n",
      "n inserted\n",
      "s inserted\n",
      "w inserted\n",
      "e inserted\n",
      "r inserted\n",
      "'answer' inserted\n",
      "y inserted\n",
      "'any' inserted\n",
      "b inserted\n",
      "y inserted\n",
      "'by' inserted\n",
      "w inserted\n",
      "o inserted\n",
      "r inserted\n",
      "l inserted\n",
      "d inserted\n",
      "'world' inserted\n",
      "i inserted\n",
      "r inserted\n",
      "'their' inserted\n",
      "b inserted\n",
      "c inserted\n",
      "'abc' inserted\n"
     ]
    }
   ],
   "source": [
    "trie = Trie()\n",
    "for x in range(len(dictionary)):\n",
    "    trie.insert(dictionary[x])\n",
    "\n",
    "node = trie.root"
   ]
  },
  {
   "cell_type": "code",
   "execution_count": 38,
   "id": "reflected-species",
   "metadata": {},
   "outputs": [
    {
     "data": {
      "text/plain": [
       "<TrieNode.TrieNode at 0x7f53aaab8748>"
      ]
     },
     "execution_count": 38,
     "metadata": {},
     "output_type": "execute_result"
    }
   ],
   "source": [
    "trie.get_root()"
   ]
  },
  {
   "cell_type": "code",
   "execution_count": 63,
   "id": "muslim-interview",
   "metadata": {},
   "outputs": [
    {
     "data": {
      "text/plain": [
       "5"
      ]
     },
     "execution_count": 63,
     "metadata": {},
     "output_type": "execute_result"
    }
   ],
   "source": [
    "11//2"
   ]
  },
  {
   "cell_type": "code",
   "execution_count": 66,
   "id": "known-livestock",
   "metadata": {},
   "outputs": [
    {
     "data": {
      "text/plain": [
       "10"
      ]
     },
     "execution_count": 66,
     "metadata": {},
     "output_type": "execute_result"
    }
   ],
   "source": [
    "x=4\n",
    "\n",
    "(x+1)*2"
   ]
  },
  {
   "cell_type": "code",
   "execution_count": null,
   "id": "major-paraguay",
   "metadata": {},
   "outputs": [],
   "source": []
  }
 ],
 "metadata": {
  "kernelspec": {
   "display_name": "conda_python3",
   "language": "python",
   "name": "conda_python3"
  },
  "language_info": {
   "codemirror_mode": {
    "name": "ipython",
    "version": 3
   },
   "file_extension": ".py",
   "mimetype": "text/x-python",
   "name": "python",
   "nbconvert_exporter": "python",
   "pygments_lexer": "ipython3",
   "version": "3.6.10"
  }
 },
 "nbformat": 4,
 "nbformat_minor": 5
}
