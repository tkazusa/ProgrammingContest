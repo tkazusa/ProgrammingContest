{
 "cells": [
  {
   "cell_type": "markdown",
   "id": "ed6da3a1",
   "metadata": {},
   "source": [
    "# Graph Search\n",
    "一番遠いノードの距離を求めなさい。"
   ]
  },
  {
   "cell_type": "code",
   "execution_count": 1,
   "id": "37e2cc18",
   "metadata": {},
   "outputs": [],
   "source": [
    "class Node(object):\n",
    "    def __init__(self, val = 0, neighbors = None):\n",
    "        self.val = val\n",
    "        self.neighbors = neighbors if neighbors is not None else []"
   ]
  },
  {
   "cell_type": "markdown",
   "id": "a1983729",
   "metadata": {},
   "source": [
    "## Depth First Search"
   ]
  },
  {
   "cell_type": "code",
   "execution_count": 6,
   "id": "c0d916f3",
   "metadata": {},
   "outputs": [],
   "source": [
    "from collections import deque\n",
    "\n",
    "def dfs(graph, start_node):\n",
    "    \n",
    "    visited = [False] * len(graph)\n",
    "    dist = [-1] * len(graph)\n",
    "    nodes = deque()\n",
    "    \n",
    "    nodes.append(start_node)\n",
    "    \n",
    "    max_count = 0\n",
    "    visited[start_node] = True\n",
    "    dist[0] = 0\n",
    "    \n",
    "    while len(nodes) != 0:\n",
    "        v = nodes.pop()\n",
    "        node = graph[v]\n",
    "        \n",
    "        for neighbor in node:\n",
    "            if visited[neighbor]:\n",
    "                continue\n",
    "            else:\n",
    "                dist[neighbor] != -1\n",
    "                nodes.append(neighbor)\n",
    "                dist[neighbor] = dist[v]+1\n",
    "                \n",
    "    return max(dist)"
   ]
  },
  {
   "cell_type": "code",
   "execution_count": 7,
   "id": "4cd6d867",
   "metadata": {},
   "outputs": [
    {
     "name": "stdout",
     "output_type": "stream",
     "text": [
      "[0, 1, 1, 2, 1, 2]\n"
     ]
    },
    {
     "data": {
      "text/plain": [
       "2"
      ]
     },
     "execution_count": 7,
     "metadata": {},
     "output_type": "execute_result"
    }
   ],
   "source": [
    "graph = [\n",
    "    [1,2,4],\n",
    "    [3,5],\n",
    "    [5],\n",
    "    [],\n",
    "    [],\n",
    "    []\n",
    "]\n",
    "\n",
    "dfs(graph, 0)"
   ]
  },
  {
   "cell_type": "markdown",
   "id": "d01122fd",
   "metadata": {},
   "source": [
    "## Breadth First Search"
   ]
  },
  {
   "cell_type": "code",
   "execution_count": 40,
   "id": "17081507",
   "metadata": {},
   "outputs": [],
   "source": [
    "visited = [False] * 5"
   ]
  },
  {
   "cell_type": "code",
   "execution_count": 41,
   "id": "8dce5455",
   "metadata": {},
   "outputs": [
    {
     "data": {
      "text/plain": [
       "False"
      ]
     },
     "execution_count": 41,
     "metadata": {},
     "output_type": "execute_result"
    }
   ],
   "source": [
    "visited[5-1]"
   ]
  },
  {
   "cell_type": "code",
   "execution_count": null,
   "id": "3446573e",
   "metadata": {},
   "outputs": [],
   "source": []
  }
 ],
 "metadata": {
  "kernelspec": {
   "display_name": "conda_python3",
   "language": "python",
   "name": "conda_python3"
  },
  "language_info": {
   "codemirror_mode": {
    "name": "ipython",
    "version": 3
   },
   "file_extension": ".py",
   "mimetype": "text/x-python",
   "name": "python",
   "nbconvert_exporter": "python",
   "pygments_lexer": "ipython3",
   "version": "3.6.13"
  }
 },
 "nbformat": 4,
 "nbformat_minor": 5
}
