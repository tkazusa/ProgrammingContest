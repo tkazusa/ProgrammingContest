{
 "cells": [
  {
   "cell_type": "markdown",
   "id": "small-relative",
   "metadata": {},
   "source": [
    "# Binary Tree Traversals"
   ]
  },
  {
   "cell_type": "code",
   "execution_count": 2,
   "id": "stuffed-moscow",
   "metadata": {},
   "outputs": [],
   "source": [
    "class Node:\n",
    "    def __init__(self, val):\n",
    "        self.val = val\n",
    "        self.leftChild = None\n",
    "        self.rightChild = None\n",
    "\n",
    "    def insert(self, val):\n",
    "        if self is None:\n",
    "            self = Node(val)\n",
    "            return\n",
    "        current = self\n",
    "        while current:\n",
    "            parent = current\n",
    "            if val < current.val:\n",
    "                current = current.leftChild\n",
    "            else:\n",
    "                current = current.rightChild\n",
    "\n",
    "        if(val < parent.val):\n",
    "            parent.leftChild = Node(val)\n",
    "        else:\n",
    "            parent.rightChild = Node(val)\n",
    "\n",
    "    def search(self, val):\n",
    "        if self is None:\n",
    "            return self\n",
    "        current = self\n",
    "        while current and current.val != val:\n",
    "            if val < current.val:\n",
    "                current = current.leftChild\n",
    "            else:\n",
    "                current = current.rightChild\n",
    "        return current\n",
    "\n",
    "\n",
    "class BinarySearchTree:\n",
    "    def __init__(self, val):\n",
    "        self.root = Node(val)\n",
    "\n",
    "    def setRoot(self, val):\n",
    "        self.root = Node(val)\n",
    "\n",
    "    def getRoot(self):\n",
    "        return self.root.get()\n",
    "\n",
    "    def insert(self, val):\n",
    "        self.root.insert(val)\n",
    "\n",
    "    def search(self, val):\n",
    "        return self.root.search(val)"
   ]
  },
  {
   "cell_type": "markdown",
   "id": "white-monitor",
   "metadata": {},
   "source": [
    "```\n",
    "bst = {\n",
    "    6 -> 4,9\n",
    "    4 -> 2,5\n",
    "    9 -> 8,12\n",
    "}\n",
    "where parent -> leftChild,rightChild\n",
    "```"
   ]
  },
  {
   "cell_type": "code",
   "execution_count": 5,
   "id": "anticipated-hello",
   "metadata": {},
   "outputs": [],
   "source": [
    "BST = BinarySearchTree(6)\n",
    "BST.insert(4)\n",
    "BST.insert(9)\n",
    "BST.insert(5)\n",
    "BST.insert(2)\n",
    "BST.insert(8)\n",
    "BST.insert(12)"
   ]
  },
  {
   "cell_type": "markdown",
   "id": "annoying-chest",
   "metadata": {},
   "source": [
    "## Pre-Order Traversal"
   ]
  },
  {
   "cell_type": "code",
   "execution_count": 4,
   "id": "formal-crystal",
   "metadata": {},
   "outputs": [
    {
     "name": "stdout",
     "output_type": "stream",
     "text": [
      "6\n",
      "4\n",
      "2\n",
      "5\n",
      "9\n",
      "8\n",
      "12\n"
     ]
    }
   ],
   "source": [
    "def preOrderPrint(node):\n",
    "    if node is not None:\n",
    "        print(node.val)\n",
    "        preOrderPrint(node.leftChild)\n",
    "        preOrderPrint(node.rightChild)\n",
    "\n",
    "\n",
    "preOrderPrint(BST.root)"
   ]
  },
  {
   "cell_type": "markdown",
   "id": "successful-dress",
   "metadata": {},
   "source": [
    "## Post-Order Traversal"
   ]
  },
  {
   "cell_type": "code",
   "execution_count": 7,
   "id": "promising-recipe",
   "metadata": {},
   "outputs": [
    {
     "name": "stdout",
     "output_type": "stream",
     "text": [
      "2\n",
      "5\n",
      "4\n",
      "8\n",
      "12\n",
      "9\n",
      "6\n"
     ]
    }
   ],
   "source": [
    "def postOrderPrint(node):\n",
    "    if node is not None:\n",
    "        postOrderPrint(node.leftChild)\n",
    "        postOrderPrint(node.rightChild)\n",
    "        print(node.val)\n",
    "\n",
    "postOrderPrint(BST.root)"
   ]
  },
  {
   "cell_type": "markdown",
   "id": "veterinary-criterion",
   "metadata": {},
   "source": [
    "## In-Order Traversal\n",
    "This traversal looks like sort."
   ]
  },
  {
   "cell_type": "code",
   "execution_count": 8,
   "id": "successful-expression",
   "metadata": {},
   "outputs": [
    {
     "name": "stdout",
     "output_type": "stream",
     "text": [
      "2\n",
      "4\n",
      "5\n",
      "6\n",
      "8\n",
      "9\n",
      "12\n"
     ]
    }
   ],
   "source": [
    "def inOrderPrint(node):\n",
    "    if node is not None:\n",
    "        inOrderPrint(node.leftChild)\n",
    "        print(node.val)\n",
    "        inOrderPrint(node.rightChild)\n",
    "\n",
    "inOrderPrint(BST.root)"
   ]
  },
  {
   "cell_type": "code",
   "execution_count": null,
   "id": "basic-print",
   "metadata": {},
   "outputs": [],
   "source": []
  }
 ],
 "metadata": {
  "kernelspec": {
   "display_name": "conda_python3",
   "language": "python",
   "name": "conda_python3"
  },
  "language_info": {
   "codemirror_mode": {
    "name": "ipython",
    "version": 3
   },
   "file_extension": ".py",
   "mimetype": "text/x-python",
   "name": "python",
   "nbconvert_exporter": "python",
   "pygments_lexer": "ipython3",
   "version": "3.6.10"
  }
 },
 "nbformat": 4,
 "nbformat_minor": 5
}
