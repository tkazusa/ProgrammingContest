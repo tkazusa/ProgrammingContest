{
 "cells": [
  {
   "cell_type": "markdown",
   "id": "familiar-providence",
   "metadata": {},
   "source": [
    "## Merge sort"
   ]
  },
  {
   "cell_type": "code",
   "execution_count": null,
   "id": "dated-lodging",
   "metadata": {},
   "outputs": [],
   "source": [
    "def merge_sort(my_list):\n",
    "    # my_list の長さが 1 のときには何もしない\n",
    "    if len(my_list) > 1:\n",
    "        mid = len(my_list) // 2\n",
    "        left = my_list[:mid]\n",
    "        right = my_list[mid:]\n",
    "\n",
    "        # 再帰的に全部分割、かつ、leftとrightはソート済となる\n",
    "        merge_sort(left)\n",
    "        merge_sort(right)\n",
    "\n",
    "        # Two iterators for traversing(横断) the two halves\n",
    "        left_index = 0\n",
    "        right_index = 0\n",
    "        \n",
    "        # Iterator for the main list\n",
    "        main_index = 0\n",
    "        \n",
    "        # ソートされている left と right の比較。\n",
    "        while left_index < len(left) and right_index < len(right):\n",
    "            if left[left_index] < right[right_index]:\n",
    "              # The value from the left half has been used\n",
    "              my_list[main_index] = left[left_index]\n",
    "              # Move the iterator forward\n",
    "              left_index += 1\n",
    "            else:\n",
    "                my_list[main_index] = right[right_index]\n",
    "                right_index += 1\n",
    "            # Move to the next slot\n",
    "            main_index += 1\n",
    "\n",
    "        # For all the remaining values\n",
    "        # Until item of one or the other list are gone, \n",
    "        while left_index < len(left):\n",
    "            my_list[main_index] = left[left_index]\n",
    "            left_index += 1\n",
    "            main_index += 1\n",
    "\n",
    "        while right_index < len(right):\n",
    "            my_list[main_index]=right[right_index]\n",
    "            right_index += 1\n",
    "            main_index += 1\n",
    "\n",
    "\n",
    "def find_minimum(lst):\n",
    "    if (len(lst) <= 0):\n",
    "        return None\n",
    "    merge_sort(lst)  # sort list\n",
    "    return lst[0]  # return first element\n",
    "\n",
    "\n",
    "print(find_minimum([9, 2, 3, 6]))"
   ]
  }
 ],
 "metadata": {
  "kernelspec": {
   "display_name": "conda_python3",
   "language": "python",
   "name": "conda_python3"
  },
  "language_info": {
   "codemirror_mode": {
    "name": "ipython",
    "version": 3
   },
   "file_extension": ".py",
   "mimetype": "text/x-python",
   "name": "python",
   "nbconvert_exporter": "python",
   "pygments_lexer": "ipython3",
   "version": "3.6.10"
  }
 },
 "nbformat": 4,
 "nbformat_minor": 5
}
