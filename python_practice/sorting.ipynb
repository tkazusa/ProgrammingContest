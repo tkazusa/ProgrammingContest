{
 "cells": [
  {
   "cell_type": "markdown",
   "id": "amazing-walter",
   "metadata": {},
   "source": [
    "## Python 組み込み Sort\n",
    "Python の組み込み sort() は Timesort が使われていて、計算量は O(NlogN)\n",
    "- https://www.isc.meiji.ac.jp/~mizutani/python/sort_algorithm.html"
   ]
  },
  {
   "cell_type": "markdown",
   "id": "collectible-going",
   "metadata": {},
   "source": [
    "### 多次元リストのソート"
   ]
  },
  {
   "cell_type": "code",
   "execution_count": 8,
   "id": "minor-cause",
   "metadata": {},
   "outputs": [
    {
     "name": "stdout",
     "output_type": "stream",
     "text": [
      "[[3, 1], [2, 2], [1, 3]]\n",
      "[[1, 3], [2, 2], [3, 1]]\n"
     ]
    }
   ],
   "source": [
    "lst = [[1,3],[2,2],[3,1]]\n",
    "\n",
    "# 各要素のリストのさらに2つ目の要素でソートしたい\n",
    "lst.sort(key=lambda x:x[1])\n",
    "print(lst)\n",
    "\n",
    "# 逆ソートも可能\n",
    "lst.sort(key=lambda x:x[1], reverse=True)\n",
    "print(lst)"
   ]
  },
  {
   "cell_type": "markdown",
   "id": "separated-campus",
   "metadata": {},
   "source": [
    "### 文字列のソート"
   ]
  },
  {
   "cell_type": "code",
   "execution_count": 20,
   "id": "satisfied-stopping",
   "metadata": {},
   "outputs": [
    {
     "name": "stdout",
     "output_type": "stream",
     "text": [
      "['let1 art can', 'let2 art can', 'let3 own kit dig', 'let4 art zero']\n",
      "['let1 art can', 'let2 art can', 'let4 art zero', 'let3 own kit dig']\n"
     ]
    }
   ],
   "source": [
    "# 'let' は identifier、本文はその後。\n",
    "lst = ['let2 art can', 'let1 art can', 'let3 own kit dig', 'let4 art zero']\n",
    "\n",
    "# 2つつなげる場合には、要素のソート順順序が逆になることに注意\n",
    "# identifier でソート\n",
    "lst.sort(key = lambda x: x.split(' ')[0])\n",
    "print(lst)\n",
    "\n",
    "# 本文でソート\n",
    "lst.sort(key = lambda x: x.split(' ')[1:])\n",
    "print(lst)"
   ]
  },
  {
   "cell_type": "code",
   "execution_count": 19,
   "id": "working-cuisine",
   "metadata": {},
   "outputs": [
    {
     "name": "stdout",
     "output_type": "stream",
     "text": [
      "['let1 art can', 'let2 art can', 'let4 art zero', 'let3 own kit dig']\n"
     ]
    }
   ],
   "source": [
    "# 'let' は identifier、本文はその後。\n",
    "lst = ['let2 art can', 'let1 art can', 'let3 own kit dig', 'let4 art zero']\n",
    "\n",
    "# identifier でソート\n",
    "lst.sort(key = lambda x: (x.split(' ')[1:], x.split(' ')[0]))\n",
    "print(lst)"
   ]
  },
  {
   "cell_type": "code",
   "execution_count": 22,
   "id": "possible-handy",
   "metadata": {},
   "outputs": [
    {
     "name": "stdout",
     "output_type": "stream",
     "text": [
      "['coding', 'leetcode', 'love', 'i']\n"
     ]
    }
   ],
   "source": [
    "dct = {\"i\": 1, \"love\": 2, \"leetcode\": 3, \"coding\": 3}\n",
    "srt = sorted(dct, key=lambda word: (-dct[word], word))\n",
    "print(srt)"
   ]
  },
  {
   "cell_type": "code",
   "execution_count": null,
   "id": "funny-student",
   "metadata": {},
   "outputs": [],
   "source": []
  },
  {
   "cell_type": "code",
   "execution_count": null,
   "id": "understood-egyptian",
   "metadata": {},
   "outputs": [],
   "source": []
  },
  {
   "cell_type": "code",
   "execution_count": null,
   "id": "affected-plymouth",
   "metadata": {},
   "outputs": [],
   "source": []
  },
  {
   "cell_type": "markdown",
   "id": "sudden-northwest",
   "metadata": {},
   "source": [
    "## Merge sort"
   ]
  },
  {
   "cell_type": "code",
   "execution_count": null,
   "id": "blessed-timing",
   "metadata": {},
   "outputs": [],
   "source": [
    "def merge_sort(my_list):\n",
    "    # my_list の長さが 1 のときには何もしない\n",
    "    if len(my_list) > 1:\n",
    "        mid = len(my_list) // 2\n",
    "        left = my_list[:mid]\n",
    "        right = my_list[mid:]\n",
    "\n",
    "        # 再帰的に全部分割、かつ、leftとrightはソート済となる\n",
    "        merge_sort(left)\n",
    "        merge_sort(right)\n",
    "\n",
    "        # Two iterators for traversing(横断) the two halves\n",
    "        left_index = 0\n",
    "        right_index = 0\n",
    "        \n",
    "        # Iterator for the main list\n",
    "        main_index = 0\n",
    "        \n",
    "        # ソートされている left と right の比較。\n",
    "        # 左右に分割されたlstを一個ずつ、小さい方から比較していく、 index は一つずつ増えていくので、長さが超えないように\n",
    "        while left_index < len(left) and right_index < len(right):\n",
    "            if left[left_index] < right[right_index]:\n",
    "            my_list[main_index] = left[left_index]\n",
    "              left_index += 1\n",
    "            else:\n",
    "                my_list[main_index] = right[right_index]\n",
    "                right_index += 1\n",
    "            # Move to the next slot\n",
    "            main_index += 1\n",
    "\n",
    "        # For all the remaining values\n",
    "        # Until item of one or the other list are gone, \n",
    "        while left_index < len(left):\n",
    "            my_list[main_index] = left[left_index]\n",
    "            left_index += 1\n",
    "            main_index += 1\n",
    "\n",
    "        while right_index < len(right):\n",
    "            my_list[main_index]=right[right_index]\n",
    "            right_index += 1\n",
    "            main_index += 1\n",
    "\n",
    "\n",
    "def find_minimum(lst):\n",
    "    if (len(lst) <= 0):\n",
    "        return None\n",
    "    merge_sort(lst)  # sort list\n",
    "    return lst[0]  # return first element\n",
    "\n",
    "\n",
    "print(find_minimum([9, 2, 3, 6]))"
   ]
  },
  {
   "cell_type": "markdown",
   "id": "partial-trainer",
   "metadata": {},
   "source": [
    "## Heap Sort"
   ]
  },
  {
   "cell_type": "code",
   "execution_count": null,
   "id": "extra-concept",
   "metadata": {},
   "outputs": [],
   "source": [
    "def heapsort(iterable):\n",
    "    h = []\n",
    "    for value in iterable:\n",
    "        heappush(h, value)\n",
    "    return [heappop(h) for i in range(len(h))]"
   ]
  }
 ],
 "metadata": {
  "kernelspec": {
   "display_name": "conda_python3",
   "language": "python",
   "name": "conda_python3"
  },
  "language_info": {
   "codemirror_mode": {
    "name": "ipython",
    "version": 3
   },
   "file_extension": ".py",
   "mimetype": "text/x-python",
   "name": "python",
   "nbconvert_exporter": "python",
   "pygments_lexer": "ipython3",
   "version": "3.6.10"
  }
 },
 "nbformat": 4,
 "nbformat_minor": 5
}
